{
 "cells": [
  {
   "cell_type": "markdown",
   "id": "53d96f5f",
   "metadata": {
    "toc": true
   },
   "source": [
    "<h1>Table of Contents<span class=\"tocSkip\"></span></h1>\n",
    "<div class=\"toc\"><ul class=\"toc-item\"><li><span><a href=\"#Откроем-файл-с-данными-и-изучим-общую-информацию\" data-toc-modified-id=\"Откроем-файл-с-данными-и-изучим-общую-информацию-1\"><span class=\"toc-item-num\">1&nbsp;&nbsp;</span>Откроем файл с данными и изучим общую информацию</a></span></li><li><span><a href=\"#Подготовка-данных\" data-toc-modified-id=\"Подготовка-данных-2\"><span class=\"toc-item-num\">2&nbsp;&nbsp;</span>Подготовка данных</a></span><ul class=\"toc-item\"><li><span><a href=\"#Замените-названия-столбцов-(приведите-к-нижнему-регистру);\" data-toc-modified-id=\"Замените-названия-столбцов-(приведите-к-нижнему-регистру);-2.1\"><span class=\"toc-item-num\">2.1&nbsp;&nbsp;</span>Замените названия столбцов (приведите к нижнему регистру);</a></span></li><li><span><a href=\"#Преобразуйте-данные-в-нужные-типы.\" data-toc-modified-id=\"Преобразуйте-данные-в-нужные-типы.-2.2\"><span class=\"toc-item-num\">2.2&nbsp;&nbsp;</span>Преобразуйте данные в нужные типы.</a></span></li><li><span><a href=\"#Обработайте-пропуски-при-необходимости:\" data-toc-modified-id=\"Обработайте-пропуски-при-необходимости:-2.3\"><span class=\"toc-item-num\">2.3&nbsp;&nbsp;</span>Обработайте пропуски при необходимости:</a></span></li></ul></li><li><span><a href=\"#Проведите-исследовательский-анализ-данных\" data-toc-modified-id=\"Проведите-исследовательский-анализ-данных-3\"><span class=\"toc-item-num\">3&nbsp;&nbsp;</span>Проведите исследовательский анализ данных</a></span><ul class=\"toc-item\"><li><span><a href=\"#Посмотрите,-сколько-игр-выпускалось-в-разные-годы.-Важны-ли-данные-за-все-периоды?\" data-toc-modified-id=\"Посмотрите,-сколько-игр-выпускалось-в-разные-годы.-Важны-ли-данные-за-все-периоды?-3.1\"><span class=\"toc-item-num\">3.1&nbsp;&nbsp;</span>Посмотрите, сколько игр выпускалось в разные годы. Важны ли данные за все периоды?</a></span></li><li><span><a href=\"#Посмотрите,-как-менялись-продажи-по-платформам.\" data-toc-modified-id=\"Посмотрите,-как-менялись-продажи-по-платформам.-3.2\"><span class=\"toc-item-num\">3.2&nbsp;&nbsp;</span>Посмотрите, как менялись продажи по платформам.</a></span></li><li><span><a href=\"#Возьмите-данные-за-соответствующий-актуальный-период.\" data-toc-modified-id=\"Возьмите-данные-за-соответствующий-актуальный-период.-3.3\"><span class=\"toc-item-num\">3.3&nbsp;&nbsp;</span>Возьмите данные за соответствующий актуальный период.</a></span></li><li><span><a href=\"#Не-учитывайте-в-работе-данные-за-предыдущие-годы.\" data-toc-modified-id=\"Не-учитывайте-в-работе-данные-за-предыдущие-годы.-3.4\"><span class=\"toc-item-num\">3.4&nbsp;&nbsp;</span>Не учитывайте в работе данные за предыдущие годы.</a></span></li><li><span><a href=\"#Какие-платформы-лидируют-по-продажам,-растут-или-падают?\" data-toc-modified-id=\"Какие-платформы-лидируют-по-продажам,-растут-или-падают?-3.5\"><span class=\"toc-item-num\">3.5&nbsp;&nbsp;</span>Какие платформы лидируют по продажам, растут или падают?</a></span></li><li><span><a href=\"#Постройте-график-«ящик-с-усами»-по-глобальным-продажам-игр-в-разбивке-по-платформам.\" data-toc-modified-id=\"Постройте-график-«ящик-с-усами»-по-глобальным-продажам-игр-в-разбивке-по-платформам.-3.6\"><span class=\"toc-item-num\">3.6&nbsp;&nbsp;</span>Постройте график «ящик с усами» по глобальным продажам игр в разбивке по платформам.</a></span></li><li><span><a href=\"#Посмотрите,-как-влияют-на-продажи-внутри-одной-популярной-платформы-отзывы-пользователей-и-критиков.\" data-toc-modified-id=\"Посмотрите,-как-влияют-на-продажи-внутри-одной-популярной-платформы-отзывы-пользователей-и-критиков.-3.7\"><span class=\"toc-item-num\">3.7&nbsp;&nbsp;</span>Посмотрите, как влияют на продажи внутри одной популярной платформы отзывы пользователей и критиков.</a></span></li><li><span><a href=\"#Соотнесите-выводы-с-продажами-игр-на-других-платформах.\" data-toc-modified-id=\"Соотнесите-выводы-с-продажами-игр-на-других-платформах.-3.8\"><span class=\"toc-item-num\">3.8&nbsp;&nbsp;</span>Соотнесите выводы с продажами игр на других платформах.</a></span></li><li><span><a href=\"#Посмотрите-на-общее-распределение-игр-по-жанрам.\" data-toc-modified-id=\"Посмотрите-на-общее-распределение-игр-по-жанрам.-3.9\"><span class=\"toc-item-num\">3.9&nbsp;&nbsp;</span>Посмотрите на общее распределение игр по жанрам.</a></span></li></ul></li><li><span><a href=\"#Составьте-портрет-пользователя-каждого-региона\" data-toc-modified-id=\"Составьте-портрет-пользователя-каждого-региона-4\"><span class=\"toc-item-num\">4&nbsp;&nbsp;</span>Составьте портрет пользователя каждого региона</a></span><ul class=\"toc-item\"><li><span><a href=\"#Самые-популярные-платформы-(топ-5).\" data-toc-modified-id=\"Самые-популярные-платформы-(топ-5).-4.1\"><span class=\"toc-item-num\">4.1&nbsp;&nbsp;</span>Самые популярные платформы (топ-5).</a></span></li><li><span><a href=\"#Самые-популярные-жанры-(топ-5).\" data-toc-modified-id=\"Самые-популярные-жанры-(топ-5).-4.2\"><span class=\"toc-item-num\">4.2&nbsp;&nbsp;</span>Самые популярные жанры (топ-5).</a></span></li><li><span><a href=\"#Влияет-ли-рейтинг-ESRB-на-продажи-в-отдельном-регионе?\" data-toc-modified-id=\"Влияет-ли-рейтинг-ESRB-на-продажи-в-отдельном-регионе?-4.3\"><span class=\"toc-item-num\">4.3&nbsp;&nbsp;</span>Влияет ли рейтинг ESRB на продажи в отдельном регионе?</a></span></li></ul></li><li><span><a href=\"#Гипотезы\" data-toc-modified-id=\"Гипотезы-5\"><span class=\"toc-item-num\">5&nbsp;&nbsp;</span>Гипотезы</a></span><ul class=\"toc-item\"><li><span><a href=\"#Средние-пользовательские-рейтинги-платформ-Xbox-One-и-PC-одинаковые;\" data-toc-modified-id=\"Средние-пользовательские-рейтинги-платформ-Xbox-One-и-PC-одинаковые;-5.1\"><span class=\"toc-item-num\">5.1&nbsp;&nbsp;</span>Средние пользовательские рейтинги платформ Xbox One и PC одинаковые;</a></span></li><li><span><a href=\"#Средние-пользовательские-рейтинги-жанров-Action-(англ.-«действие»,-экшен-игры)-и-Sports-(англ.-«спортивные-соревнования»)-разные.\" data-toc-modified-id=\"Средние-пользовательские-рейтинги-жанров-Action-(англ.-«действие»,-экшен-игры)-и-Sports-(англ.-«спортивные-соревнования»)-разные.-5.2\"><span class=\"toc-item-num\">5.2&nbsp;&nbsp;</span>Средние пользовательские рейтинги жанров Action (англ. «действие», экшен-игры) и Sports (англ. «спортивные соревнования») разные.</a></span></li></ul></li><li><span><a href=\"#Общий-вывод\" data-toc-modified-id=\"Общий-вывод-6\"><span class=\"toc-item-num\">6&nbsp;&nbsp;</span>Общий вывод</a></span></li></ul></div>"
   ]
  },
  {
   "attachments": {},
   "cell_type": "markdown",
   "id": "fa45f672",
   "metadata": {},
   "source": [
    "# Исследование закономерностей успешности компьютерных игр\n",
    "\n",
    "Для планирования стратегии развития интернет-магазина «Стримчик», который продаёт по всему миру компьютерные игры необходимо провести анализ рынка компьютерных игр. Из открытых источников доступны исторические данные о продажах игр, оценки пользователей и экспертов, жанры и платформы (например, Xbox или PlayStation). \n",
    "\n",
    "Нужно выявить определяющие успешность игры закономерности. Это позволит сделать ставку на потенциально популярный продукт и спланировать рекламные кампании.\n",
    "Нам доступны данные до 2016 года. Исследование проводится на момент декабря 2016 г., и нужно спланировать кампанию на 2017-й. "
   ]
  },
  {
   "cell_type": "markdown",
   "id": "0f9ca968",
   "metadata": {},
   "source": [
    "### Откроем файл с данными и изучим общую информацию\n"
   ]
  },
  {
   "cell_type": "code",
   "execution_count": 2,
   "id": "a480a77b",
   "metadata": {},
   "outputs": [
    {
     "ename": "ModuleNotFoundError",
     "evalue": "No module named 'pandas'",
     "output_type": "error",
     "traceback": [
      "\u001b[0;31m---------------------------------------------------------------------------\u001b[0m",
      "\u001b[0;31mModuleNotFoundError\u001b[0m                       Traceback (most recent call last)",
      "Cell \u001b[0;32mIn [2], line 1\u001b[0m\n\u001b[0;32m----> 1\u001b[0m \u001b[39mimport\u001b[39;00m \u001b[39mpandas\u001b[39;00m \u001b[39mas\u001b[39;00m \u001b[39mpd\u001b[39;00m\n\u001b[1;32m      2\u001b[0m \u001b[39mimport\u001b[39;00m \u001b[39mnumpy\u001b[39;00m \u001b[39mas\u001b[39;00m \u001b[39mnp\u001b[39;00m\n\u001b[1;32m      3\u001b[0m \u001b[39mfrom\u001b[39;00m \u001b[39mdatetime\u001b[39;00m \u001b[39mimport\u001b[39;00m datetime\n",
      "\u001b[0;31mModuleNotFoundError\u001b[0m: No module named 'pandas'"
     ]
    }
   ],
   "source": [
    "import pandas as pd\n",
    "import numpy as np\n",
    "from datetime import datetime\n",
    "import matplotlib.pyplot as plt\n",
    "from scipy import stats as st"
   ]
  },
  {
   "cell_type": "code",
   "execution_count": null,
   "id": "2cf622a9",
   "metadata": {},
   "outputs": [],
   "source": [
    "try: \n",
    "    df = pd.read_csv('/datasets/games.csv', sep=',')\n",
    "except:\n",
    "    df = pd.read_csv('/Users/maxim/Documents/Data science/datasets/games.csv', sep=',')"
   ]
  },
  {
   "cell_type": "markdown",
   "id": "a53c61e4",
   "metadata": {},
   "source": [
    "Выведем общую информацию:"
   ]
  },
  {
   "cell_type": "code",
   "execution_count": null,
   "id": "4ae4f251",
   "metadata": {
    "scrolled": true
   },
   "outputs": [
    {
     "data": {
      "text/html": [
       "<div>\n",
       "<style scoped>\n",
       "    .dataframe tbody tr th:only-of-type {\n",
       "        vertical-align: middle;\n",
       "    }\n",
       "\n",
       "    .dataframe tbody tr th {\n",
       "        vertical-align: top;\n",
       "    }\n",
       "\n",
       "    .dataframe thead th {\n",
       "        text-align: right;\n",
       "    }\n",
       "</style>\n",
       "<table border=\"1\" class=\"dataframe\">\n",
       "  <thead>\n",
       "    <tr style=\"text-align: right;\">\n",
       "      <th></th>\n",
       "      <th>Name</th>\n",
       "      <th>Platform</th>\n",
       "      <th>Year_of_Release</th>\n",
       "      <th>Genre</th>\n",
       "      <th>NA_sales</th>\n",
       "      <th>EU_sales</th>\n",
       "      <th>JP_sales</th>\n",
       "      <th>Other_sales</th>\n",
       "      <th>Critic_Score</th>\n",
       "      <th>User_Score</th>\n",
       "      <th>Rating</th>\n",
       "    </tr>\n",
       "  </thead>\n",
       "  <tbody>\n",
       "    <tr>\n",
       "      <th>0</th>\n",
       "      <td>Wii Sports</td>\n",
       "      <td>Wii</td>\n",
       "      <td>2006.0</td>\n",
       "      <td>Sports</td>\n",
       "      <td>41.36</td>\n",
       "      <td>28.96</td>\n",
       "      <td>3.77</td>\n",
       "      <td>8.45</td>\n",
       "      <td>76.0</td>\n",
       "      <td>8</td>\n",
       "      <td>E</td>\n",
       "    </tr>\n",
       "    <tr>\n",
       "      <th>1</th>\n",
       "      <td>Super Mario Bros.</td>\n",
       "      <td>NES</td>\n",
       "      <td>1985.0</td>\n",
       "      <td>Platform</td>\n",
       "      <td>29.08</td>\n",
       "      <td>3.58</td>\n",
       "      <td>6.81</td>\n",
       "      <td>0.77</td>\n",
       "      <td>NaN</td>\n",
       "      <td>NaN</td>\n",
       "      <td>NaN</td>\n",
       "    </tr>\n",
       "    <tr>\n",
       "      <th>2</th>\n",
       "      <td>Mario Kart Wii</td>\n",
       "      <td>Wii</td>\n",
       "      <td>2008.0</td>\n",
       "      <td>Racing</td>\n",
       "      <td>15.68</td>\n",
       "      <td>12.76</td>\n",
       "      <td>3.79</td>\n",
       "      <td>3.29</td>\n",
       "      <td>82.0</td>\n",
       "      <td>8.3</td>\n",
       "      <td>E</td>\n",
       "    </tr>\n",
       "    <tr>\n",
       "      <th>3</th>\n",
       "      <td>Wii Sports Resort</td>\n",
       "      <td>Wii</td>\n",
       "      <td>2009.0</td>\n",
       "      <td>Sports</td>\n",
       "      <td>15.61</td>\n",
       "      <td>10.93</td>\n",
       "      <td>3.28</td>\n",
       "      <td>2.95</td>\n",
       "      <td>80.0</td>\n",
       "      <td>8</td>\n",
       "      <td>E</td>\n",
       "    </tr>\n",
       "    <tr>\n",
       "      <th>4</th>\n",
       "      <td>Pokemon Red/Pokemon Blue</td>\n",
       "      <td>GB</td>\n",
       "      <td>1996.0</td>\n",
       "      <td>Role-Playing</td>\n",
       "      <td>11.27</td>\n",
       "      <td>8.89</td>\n",
       "      <td>10.22</td>\n",
       "      <td>1.00</td>\n",
       "      <td>NaN</td>\n",
       "      <td>NaN</td>\n",
       "      <td>NaN</td>\n",
       "    </tr>\n",
       "    <tr>\n",
       "      <th>5</th>\n",
       "      <td>Tetris</td>\n",
       "      <td>GB</td>\n",
       "      <td>1989.0</td>\n",
       "      <td>Puzzle</td>\n",
       "      <td>23.20</td>\n",
       "      <td>2.26</td>\n",
       "      <td>4.22</td>\n",
       "      <td>0.58</td>\n",
       "      <td>NaN</td>\n",
       "      <td>NaN</td>\n",
       "      <td>NaN</td>\n",
       "    </tr>\n",
       "    <tr>\n",
       "      <th>6</th>\n",
       "      <td>New Super Mario Bros.</td>\n",
       "      <td>DS</td>\n",
       "      <td>2006.0</td>\n",
       "      <td>Platform</td>\n",
       "      <td>11.28</td>\n",
       "      <td>9.14</td>\n",
       "      <td>6.50</td>\n",
       "      <td>2.88</td>\n",
       "      <td>89.0</td>\n",
       "      <td>8.5</td>\n",
       "      <td>E</td>\n",
       "    </tr>\n",
       "    <tr>\n",
       "      <th>7</th>\n",
       "      <td>Wii Play</td>\n",
       "      <td>Wii</td>\n",
       "      <td>2006.0</td>\n",
       "      <td>Misc</td>\n",
       "      <td>13.96</td>\n",
       "      <td>9.18</td>\n",
       "      <td>2.93</td>\n",
       "      <td>2.84</td>\n",
       "      <td>58.0</td>\n",
       "      <td>6.6</td>\n",
       "      <td>E</td>\n",
       "    </tr>\n",
       "    <tr>\n",
       "      <th>8</th>\n",
       "      <td>New Super Mario Bros. Wii</td>\n",
       "      <td>Wii</td>\n",
       "      <td>2009.0</td>\n",
       "      <td>Platform</td>\n",
       "      <td>14.44</td>\n",
       "      <td>6.94</td>\n",
       "      <td>4.70</td>\n",
       "      <td>2.24</td>\n",
       "      <td>87.0</td>\n",
       "      <td>8.4</td>\n",
       "      <td>E</td>\n",
       "    </tr>\n",
       "    <tr>\n",
       "      <th>9</th>\n",
       "      <td>Duck Hunt</td>\n",
       "      <td>NES</td>\n",
       "      <td>1984.0</td>\n",
       "      <td>Shooter</td>\n",
       "      <td>26.93</td>\n",
       "      <td>0.63</td>\n",
       "      <td>0.28</td>\n",
       "      <td>0.47</td>\n",
       "      <td>NaN</td>\n",
       "      <td>NaN</td>\n",
       "      <td>NaN</td>\n",
       "    </tr>\n",
       "  </tbody>\n",
       "</table>\n",
       "</div>"
      ],
      "text/plain": [
       "                        Name Platform  Year_of_Release         Genre  \\\n",
       "0                 Wii Sports      Wii           2006.0        Sports   \n",
       "1          Super Mario Bros.      NES           1985.0      Platform   \n",
       "2             Mario Kart Wii      Wii           2008.0        Racing   \n",
       "3          Wii Sports Resort      Wii           2009.0        Sports   \n",
       "4   Pokemon Red/Pokemon Blue       GB           1996.0  Role-Playing   \n",
       "5                     Tetris       GB           1989.0        Puzzle   \n",
       "6      New Super Mario Bros.       DS           2006.0      Platform   \n",
       "7                   Wii Play      Wii           2006.0          Misc   \n",
       "8  New Super Mario Bros. Wii      Wii           2009.0      Platform   \n",
       "9                  Duck Hunt      NES           1984.0       Shooter   \n",
       "\n",
       "   NA_sales  EU_sales  JP_sales  Other_sales  Critic_Score User_Score Rating  \n",
       "0     41.36     28.96      3.77         8.45          76.0          8      E  \n",
       "1     29.08      3.58      6.81         0.77           NaN        NaN    NaN  \n",
       "2     15.68     12.76      3.79         3.29          82.0        8.3      E  \n",
       "3     15.61     10.93      3.28         2.95          80.0          8      E  \n",
       "4     11.27      8.89     10.22         1.00           NaN        NaN    NaN  \n",
       "5     23.20      2.26      4.22         0.58           NaN        NaN    NaN  \n",
       "6     11.28      9.14      6.50         2.88          89.0        8.5      E  \n",
       "7     13.96      9.18      2.93         2.84          58.0        6.6      E  \n",
       "8     14.44      6.94      4.70         2.24          87.0        8.4      E  \n",
       "9     26.93      0.63      0.28         0.47           NaN        NaN    NaN  "
      ]
     },
     "execution_count": 3,
     "metadata": {},
     "output_type": "execute_result"
    }
   ],
   "source": [
    "df.head(10)"
   ]
  },
  {
   "cell_type": "code",
   "execution_count": null,
   "id": "b63d7e5c",
   "metadata": {
    "scrolled": true
   },
   "outputs": [
    {
     "name": "stdout",
     "output_type": "stream",
     "text": [
      "<class 'pandas.core.frame.DataFrame'>\n",
      "RangeIndex: 16715 entries, 0 to 16714\n",
      "Data columns (total 11 columns):\n",
      " #   Column           Non-Null Count  Dtype  \n",
      "---  ------           --------------  -----  \n",
      " 0   Name             16713 non-null  object \n",
      " 1   Platform         16715 non-null  object \n",
      " 2   Year_of_Release  16446 non-null  float64\n",
      " 3   Genre            16713 non-null  object \n",
      " 4   NA_sales         16715 non-null  float64\n",
      " 5   EU_sales         16715 non-null  float64\n",
      " 6   JP_sales         16715 non-null  float64\n",
      " 7   Other_sales      16715 non-null  float64\n",
      " 8   Critic_Score     8137 non-null   float64\n",
      " 9   User_Score       10014 non-null  object \n",
      " 10  Rating           9949 non-null   object \n",
      "dtypes: float64(6), object(5)\n",
      "memory usage: 1.4+ MB\n"
     ]
    }
   ],
   "source": [
    "df.info()"
   ]
  },
  {
   "cell_type": "code",
   "execution_count": null,
   "id": "b6741367",
   "metadata": {
    "scrolled": true
   },
   "outputs": [
    {
     "data": {
      "text/html": [
       "<div>\n",
       "<style scoped>\n",
       "    .dataframe tbody tr th:only-of-type {\n",
       "        vertical-align: middle;\n",
       "    }\n",
       "\n",
       "    .dataframe tbody tr th {\n",
       "        vertical-align: top;\n",
       "    }\n",
       "\n",
       "    .dataframe thead th {\n",
       "        text-align: right;\n",
       "    }\n",
       "</style>\n",
       "<table border=\"1\" class=\"dataframe\">\n",
       "  <thead>\n",
       "    <tr style=\"text-align: right;\">\n",
       "      <th></th>\n",
       "      <th>Year_of_Release</th>\n",
       "      <th>NA_sales</th>\n",
       "      <th>EU_sales</th>\n",
       "      <th>JP_sales</th>\n",
       "      <th>Other_sales</th>\n",
       "      <th>Critic_Score</th>\n",
       "    </tr>\n",
       "  </thead>\n",
       "  <tbody>\n",
       "    <tr>\n",
       "      <th>count</th>\n",
       "      <td>16446.000000</td>\n",
       "      <td>16715.000000</td>\n",
       "      <td>16715.000000</td>\n",
       "      <td>16715.000000</td>\n",
       "      <td>16715.000000</td>\n",
       "      <td>8137.000000</td>\n",
       "    </tr>\n",
       "    <tr>\n",
       "      <th>mean</th>\n",
       "      <td>2006.484616</td>\n",
       "      <td>0.263377</td>\n",
       "      <td>0.145060</td>\n",
       "      <td>0.077617</td>\n",
       "      <td>0.047342</td>\n",
       "      <td>68.967679</td>\n",
       "    </tr>\n",
       "    <tr>\n",
       "      <th>std</th>\n",
       "      <td>5.877050</td>\n",
       "      <td>0.813604</td>\n",
       "      <td>0.503339</td>\n",
       "      <td>0.308853</td>\n",
       "      <td>0.186731</td>\n",
       "      <td>13.938165</td>\n",
       "    </tr>\n",
       "    <tr>\n",
       "      <th>min</th>\n",
       "      <td>1980.000000</td>\n",
       "      <td>0.000000</td>\n",
       "      <td>0.000000</td>\n",
       "      <td>0.000000</td>\n",
       "      <td>0.000000</td>\n",
       "      <td>13.000000</td>\n",
       "    </tr>\n",
       "    <tr>\n",
       "      <th>25%</th>\n",
       "      <td>2003.000000</td>\n",
       "      <td>0.000000</td>\n",
       "      <td>0.000000</td>\n",
       "      <td>0.000000</td>\n",
       "      <td>0.000000</td>\n",
       "      <td>60.000000</td>\n",
       "    </tr>\n",
       "    <tr>\n",
       "      <th>50%</th>\n",
       "      <td>2007.000000</td>\n",
       "      <td>0.080000</td>\n",
       "      <td>0.020000</td>\n",
       "      <td>0.000000</td>\n",
       "      <td>0.010000</td>\n",
       "      <td>71.000000</td>\n",
       "    </tr>\n",
       "    <tr>\n",
       "      <th>75%</th>\n",
       "      <td>2010.000000</td>\n",
       "      <td>0.240000</td>\n",
       "      <td>0.110000</td>\n",
       "      <td>0.040000</td>\n",
       "      <td>0.030000</td>\n",
       "      <td>79.000000</td>\n",
       "    </tr>\n",
       "    <tr>\n",
       "      <th>max</th>\n",
       "      <td>2016.000000</td>\n",
       "      <td>41.360000</td>\n",
       "      <td>28.960000</td>\n",
       "      <td>10.220000</td>\n",
       "      <td>10.570000</td>\n",
       "      <td>98.000000</td>\n",
       "    </tr>\n",
       "  </tbody>\n",
       "</table>\n",
       "</div>"
      ],
      "text/plain": [
       "       Year_of_Release      NA_sales      EU_sales      JP_sales  \\\n",
       "count     16446.000000  16715.000000  16715.000000  16715.000000   \n",
       "mean       2006.484616      0.263377      0.145060      0.077617   \n",
       "std           5.877050      0.813604      0.503339      0.308853   \n",
       "min        1980.000000      0.000000      0.000000      0.000000   \n",
       "25%        2003.000000      0.000000      0.000000      0.000000   \n",
       "50%        2007.000000      0.080000      0.020000      0.000000   \n",
       "75%        2010.000000      0.240000      0.110000      0.040000   \n",
       "max        2016.000000     41.360000     28.960000     10.220000   \n",
       "\n",
       "        Other_sales  Critic_Score  \n",
       "count  16715.000000   8137.000000  \n",
       "mean       0.047342     68.967679  \n",
       "std        0.186731     13.938165  \n",
       "min        0.000000     13.000000  \n",
       "25%        0.000000     60.000000  \n",
       "50%        0.010000     71.000000  \n",
       "75%        0.030000     79.000000  \n",
       "max       10.570000     98.000000  "
      ]
     },
     "execution_count": 5,
     "metadata": {},
     "output_type": "execute_result"
    }
   ],
   "source": [
    "df.describe()"
   ]
  },
  {
   "cell_type": "code",
   "execution_count": null,
   "id": "c4a61781",
   "metadata": {
    "scrolled": true
   },
   "outputs": [
    {
     "data": {
      "text/plain": [
       "Name                  2\n",
       "Platform              0\n",
       "Year_of_Release     269\n",
       "Genre                 2\n",
       "NA_sales              0\n",
       "EU_sales              0\n",
       "JP_sales              0\n",
       "Other_sales           0\n",
       "Critic_Score       8578\n",
       "User_Score         6701\n",
       "Rating             6766\n",
       "dtype: int64"
      ]
     },
     "execution_count": 6,
     "metadata": {},
     "output_type": "execute_result"
    }
   ],
   "source": [
    "df.isna().sum()"
   ]
  },
  {
   "cell_type": "code",
   "execution_count": null,
   "id": "632f4b9f",
   "metadata": {
    "scrolled": true
   },
   "outputs": [
    {
     "data": {
      "image/png": "[encoded data removed]",
      "text/plain": [
       "<Figure size 720x720 with 6 Axes>"
      ]
     },
     "metadata": {
      "needs_background": "light"
     },
     "output_type": "display_data"
    }
   ],
   "source": [
    "df.hist(figsize=(10,10));"
   ]
  },
  {
   "cell_type": "markdown",
   "id": "276f2715",
   "metadata": {},
   "source": [
    "Найдем есть ли дубликаты по году, платформе и названию игры. Выведем сумму строк, в которых строки дублируются 2 и более раз"
   ]
  },
  {
   "cell_type": "code",
   "execution_count": null,
   "id": "0ad41f8c",
   "metadata": {
    "scrolled": false
   },
   "outputs": [
    {
     "data": {
      "text/plain": [
       "Critic_Score    1\n",
       "EU_sales        1\n",
       "Genre           1\n",
       "JP_sales        1\n",
       "NA_sales        1\n",
       "Other_sales     1\n",
       "Rating          1\n",
       "User_Score      1\n",
       "dtype: int64"
      ]
     },
     "execution_count": 8,
     "metadata": {},
     "output_type": "execute_result"
    }
   ],
   "source": [
    "(df.pivot_table(index=('Year_of_Release', 'Platform', 'Name'), aggfunc='count')>1).sum()"
   ]
  },
  {
   "cell_type": "markdown",
   "id": "495f628b",
   "metadata": {},
   "source": [
    "Общий вывод по данным:\n",
    "1. Неверно указан тип для столбца User_Score\n",
    "2. Много нулевых значений в столбцах по объемам продаж\n",
    "3. Верхний регистр в названиях столбцов\n",
    "4. Много пропущенных значений в столбцах Year_of_Release, Critic_Score, User_Score, Rating\n",
    "5. Дубль найден только 1. Его нужно удалить"
   ]
  },
  {
   "cell_type": "markdown",
   "id": "ee9a9c6a",
   "metadata": {},
   "source": [
    "### Подготовка данных"
   ]
  },
  {
   "attachments": {},
   "cell_type": "markdown",
   "id": "bdc9448d",
   "metadata": {},
   "source": [
    "#### Замена названия столбцов"
   ]
  },
  {
   "cell_type": "code",
   "execution_count": null,
   "id": "d5646179",
   "metadata": {},
   "outputs": [],
   "source": [
    "df.columns = df.columns.str.lower()"
   ]
  },
  {
   "cell_type": "code",
   "execution_count": null,
   "id": "5c5a6c1e",
   "metadata": {},
   "outputs": [
    {
     "data": {
      "text/plain": [
       "Index(['name', 'platform', 'year_of_release', 'genre', 'na_sales', 'eu_sales',\n",
       "       'jp_sales', 'other_sales', 'critic_score', 'user_score', 'rating'],\n",
       "      dtype='object')"
      ]
     },
     "execution_count": 10,
     "metadata": {},
     "output_type": "execute_result"
    }
   ],
   "source": [
    "df.columns"
   ]
  },
  {
   "attachments": {},
   "cell_type": "markdown",
   "id": "9eeef4a5",
   "metadata": {},
   "source": [
    "#### Преобразуем данные в нужные типы. "
   ]
  },
  {
   "cell_type": "markdown",
   "id": "a86149fc",
   "metadata": {},
   "source": [
    "Столбец user_score отражает цифровую оценку от пользователя, поэтому должен иметь числовой формат.\n",
    "\n",
    "Но при попытке изменить тип столбца user_score на числовой возникает ошибка в связи со значением tbd.\n",
    "Посмотрим сколько всего таких значений"
   ]
  },
  {
   "cell_type": "code",
   "execution_count": null,
   "id": "7e4f8680",
   "metadata": {
    "scrolled": true
   },
   "outputs": [
    {
     "data": {
      "text/html": [
       "<div>\n",
       "<style scoped>\n",
       "    .dataframe tbody tr th:only-of-type {\n",
       "        vertical-align: middle;\n",
       "    }\n",
       "\n",
       "    .dataframe tbody tr th {\n",
       "        vertical-align: top;\n",
       "    }\n",
       "\n",
       "    .dataframe thead th {\n",
       "        text-align: right;\n",
       "    }\n",
       "</style>\n",
       "<table border=\"1\" class=\"dataframe\">\n",
       "  <thead>\n",
       "    <tr style=\"text-align: right;\">\n",
       "      <th></th>\n",
       "      <th>name</th>\n",
       "      <th>platform</th>\n",
       "      <th>year_of_release</th>\n",
       "      <th>genre</th>\n",
       "      <th>na_sales</th>\n",
       "      <th>eu_sales</th>\n",
       "      <th>jp_sales</th>\n",
       "      <th>other_sales</th>\n",
       "      <th>critic_score</th>\n",
       "      <th>user_score</th>\n",
       "      <th>rating</th>\n",
       "    </tr>\n",
       "  </thead>\n",
       "  <tbody>\n",
       "    <tr>\n",
       "      <th>119</th>\n",
       "      <td>Zumba Fitness</td>\n",
       "      <td>Wii</td>\n",
       "      <td>2010.0</td>\n",
       "      <td>Sports</td>\n",
       "      <td>3.45</td>\n",
       "      <td>2.59</td>\n",
       "      <td>0.0</td>\n",
       "      <td>0.66</td>\n",
       "      <td>NaN</td>\n",
       "      <td>tbd</td>\n",
       "      <td>E</td>\n",
       "    </tr>\n",
       "    <tr>\n",
       "      <th>301</th>\n",
       "      <td>Namco Museum: 50th Anniversary</td>\n",
       "      <td>PS2</td>\n",
       "      <td>2005.0</td>\n",
       "      <td>Misc</td>\n",
       "      <td>2.08</td>\n",
       "      <td>1.35</td>\n",
       "      <td>0.0</td>\n",
       "      <td>0.54</td>\n",
       "      <td>61.0</td>\n",
       "      <td>tbd</td>\n",
       "      <td>E10+</td>\n",
       "    </tr>\n",
       "    <tr>\n",
       "      <th>520</th>\n",
       "      <td>Zumba Fitness 2</td>\n",
       "      <td>Wii</td>\n",
       "      <td>2011.0</td>\n",
       "      <td>Sports</td>\n",
       "      <td>1.51</td>\n",
       "      <td>1.03</td>\n",
       "      <td>0.0</td>\n",
       "      <td>0.27</td>\n",
       "      <td>NaN</td>\n",
       "      <td>tbd</td>\n",
       "      <td>T</td>\n",
       "    </tr>\n",
       "    <tr>\n",
       "      <th>645</th>\n",
       "      <td>uDraw Studio</td>\n",
       "      <td>Wii</td>\n",
       "      <td>2010.0</td>\n",
       "      <td>Misc</td>\n",
       "      <td>1.65</td>\n",
       "      <td>0.57</td>\n",
       "      <td>0.0</td>\n",
       "      <td>0.20</td>\n",
       "      <td>71.0</td>\n",
       "      <td>tbd</td>\n",
       "      <td>E</td>\n",
       "    </tr>\n",
       "    <tr>\n",
       "      <th>657</th>\n",
       "      <td>Frogger's Adventures: Temple of the Frog</td>\n",
       "      <td>GBA</td>\n",
       "      <td>NaN</td>\n",
       "      <td>Adventure</td>\n",
       "      <td>2.15</td>\n",
       "      <td>0.18</td>\n",
       "      <td>0.0</td>\n",
       "      <td>0.07</td>\n",
       "      <td>73.0</td>\n",
       "      <td>tbd</td>\n",
       "      <td>E</td>\n",
       "    </tr>\n",
       "    <tr>\n",
       "      <th>...</th>\n",
       "      <td>...</td>\n",
       "      <td>...</td>\n",
       "      <td>...</td>\n",
       "      <td>...</td>\n",
       "      <td>...</td>\n",
       "      <td>...</td>\n",
       "      <td>...</td>\n",
       "      <td>...</td>\n",
       "      <td>...</td>\n",
       "      <td>...</td>\n",
       "      <td>...</td>\n",
       "    </tr>\n",
       "    <tr>\n",
       "      <th>16695</th>\n",
       "      <td>Planet Monsters</td>\n",
       "      <td>GBA</td>\n",
       "      <td>2001.0</td>\n",
       "      <td>Action</td>\n",
       "      <td>0.01</td>\n",
       "      <td>0.00</td>\n",
       "      <td>0.0</td>\n",
       "      <td>0.00</td>\n",
       "      <td>67.0</td>\n",
       "      <td>tbd</td>\n",
       "      <td>E</td>\n",
       "    </tr>\n",
       "    <tr>\n",
       "      <th>16697</th>\n",
       "      <td>Bust-A-Move 3000</td>\n",
       "      <td>GC</td>\n",
       "      <td>2003.0</td>\n",
       "      <td>Puzzle</td>\n",
       "      <td>0.01</td>\n",
       "      <td>0.00</td>\n",
       "      <td>0.0</td>\n",
       "      <td>0.00</td>\n",
       "      <td>53.0</td>\n",
       "      <td>tbd</td>\n",
       "      <td>E</td>\n",
       "    </tr>\n",
       "    <tr>\n",
       "      <th>16698</th>\n",
       "      <td>Mega Brain Boost</td>\n",
       "      <td>DS</td>\n",
       "      <td>2008.0</td>\n",
       "      <td>Puzzle</td>\n",
       "      <td>0.01</td>\n",
       "      <td>0.00</td>\n",
       "      <td>0.0</td>\n",
       "      <td>0.00</td>\n",
       "      <td>48.0</td>\n",
       "      <td>tbd</td>\n",
       "      <td>E</td>\n",
       "    </tr>\n",
       "    <tr>\n",
       "      <th>16704</th>\n",
       "      <td>Plushees</td>\n",
       "      <td>DS</td>\n",
       "      <td>2008.0</td>\n",
       "      <td>Simulation</td>\n",
       "      <td>0.01</td>\n",
       "      <td>0.00</td>\n",
       "      <td>0.0</td>\n",
       "      <td>0.00</td>\n",
       "      <td>NaN</td>\n",
       "      <td>tbd</td>\n",
       "      <td>E</td>\n",
       "    </tr>\n",
       "    <tr>\n",
       "      <th>16706</th>\n",
       "      <td>Men in Black II: Alien Escape</td>\n",
       "      <td>GC</td>\n",
       "      <td>2003.0</td>\n",
       "      <td>Shooter</td>\n",
       "      <td>0.01</td>\n",
       "      <td>0.00</td>\n",
       "      <td>0.0</td>\n",
       "      <td>0.00</td>\n",
       "      <td>NaN</td>\n",
       "      <td>tbd</td>\n",
       "      <td>T</td>\n",
       "    </tr>\n",
       "  </tbody>\n",
       "</table>\n",
       "<p>2424 rows × 11 columns</p>\n",
       "</div>"
      ],
      "text/plain": [
       "                                           name platform  year_of_release  \\\n",
       "119                               Zumba Fitness      Wii           2010.0   \n",
       "301              Namco Museum: 50th Anniversary      PS2           2005.0   \n",
       "520                             Zumba Fitness 2      Wii           2011.0   \n",
       "645                                uDraw Studio      Wii           2010.0   \n",
       "657    Frogger's Adventures: Temple of the Frog      GBA              NaN   \n",
       "...                                         ...      ...              ...   \n",
       "16695                           Planet Monsters      GBA           2001.0   \n",
       "16697                          Bust-A-Move 3000       GC           2003.0   \n",
       "16698                          Mega Brain Boost       DS           2008.0   \n",
       "16704                                  Plushees       DS           2008.0   \n",
       "16706             Men in Black II: Alien Escape       GC           2003.0   \n",
       "\n",
       "            genre  na_sales  eu_sales  jp_sales  other_sales  critic_score  \\\n",
       "119        Sports      3.45      2.59       0.0         0.66           NaN   \n",
       "301          Misc      2.08      1.35       0.0         0.54          61.0   \n",
       "520        Sports      1.51      1.03       0.0         0.27           NaN   \n",
       "645          Misc      1.65      0.57       0.0         0.20          71.0   \n",
       "657     Adventure      2.15      0.18       0.0         0.07          73.0   \n",
       "...           ...       ...       ...       ...          ...           ...   \n",
       "16695      Action      0.01      0.00       0.0         0.00          67.0   \n",
       "16697      Puzzle      0.01      0.00       0.0         0.00          53.0   \n",
       "16698      Puzzle      0.01      0.00       0.0         0.00          48.0   \n",
       "16704  Simulation      0.01      0.00       0.0         0.00           NaN   \n",
       "16706     Shooter      0.01      0.00       0.0         0.00           NaN   \n",
       "\n",
       "      user_score rating  \n",
       "119          tbd      E  \n",
       "301          tbd   E10+  \n",
       "520          tbd      T  \n",
       "645          tbd      E  \n",
       "657          tbd      E  \n",
       "...          ...    ...  \n",
       "16695        tbd      E  \n",
       "16697        tbd      E  \n",
       "16698        tbd      E  \n",
       "16704        tbd      E  \n",
       "16706        tbd      T  \n",
       "\n",
       "[2424 rows x 11 columns]"
      ]
     },
     "execution_count": 11,
     "metadata": {},
     "output_type": "execute_result"
    }
   ],
   "source": [
    "df[df['user_score']=='tbd']"
   ]
  },
  {
   "cell_type": "markdown",
   "id": "549f58f2",
   "metadata": {},
   "source": [
    "Всего таких значени 2424 и по сути они ничем не отличаются от значения NaN. Заменим tbd на NaN, чтобы отднотипно относится к этим строкам"
   ]
  },
  {
   "cell_type": "code",
   "execution_count": null,
   "id": "3d7a5ec7",
   "metadata": {},
   "outputs": [],
   "source": [
    "df['user_score'] = df['user_score'].replace('tbd', np.NaN)"
   ]
  },
  {
   "cell_type": "markdown",
   "id": "c72cbd9d",
   "metadata": {},
   "source": [
    "Теперь можно изменить тип столбца user_score в числовой"
   ]
  },
  {
   "cell_type": "code",
   "execution_count": null,
   "id": "034fc2df",
   "metadata": {},
   "outputs": [],
   "source": [
    "df['user_score'] = pd.to_numeric(df['user_score'])"
   ]
  },
  {
   "cell_type": "code",
   "execution_count": null,
   "id": "a050cc6b",
   "metadata": {},
   "outputs": [
    {
     "data": {
      "text/plain": [
       "dtype('float64')"
      ]
     },
     "execution_count": 14,
     "metadata": {},
     "output_type": "execute_result"
    }
   ],
   "source": [
    "df['user_score'].dtype"
   ]
  },
  {
   "cell_type": "markdown",
   "id": "fc4f6f41",
   "metadata": {},
   "source": [
    "Столбец year_of_release содержит год выпуска, т.е. целое число. Но пропуски в этом столбце не позволяют преобразовать в int. Всего пропусков 269 сторок - это 1.7% от всех значений. Можно удалить эти строки и не сильно изменить объем данных и преобразовать после этого столбец в int формат.\n"
   ]
  },
  {
   "cell_type": "code",
   "execution_count": null,
   "id": "fda8eb6b",
   "metadata": {},
   "outputs": [],
   "source": [
    "df.dropna(subset=['year_of_release'], inplace=True)"
   ]
  },
  {
   "cell_type": "code",
   "execution_count": null,
   "id": "d48f03b2",
   "metadata": {},
   "outputs": [],
   "source": [
    "df['year_of_release'] = df['year_of_release'].astype(int)"
   ]
  },
  {
   "cell_type": "code",
   "execution_count": null,
   "id": "58c79fc1",
   "metadata": {},
   "outputs": [
    {
     "data": {
      "text/plain": [
       "dtype('int64')"
      ]
     },
     "execution_count": 17,
     "metadata": {},
     "output_type": "execute_result"
    }
   ],
   "source": [
    "df['year_of_release'].dtype"
   ]
  },
  {
   "cell_type": "markdown",
   "id": "ef3c3af6",
   "metadata": {},
   "source": [
    "Проверим итоговые типы данных по столбцам"
   ]
  },
  {
   "cell_type": "code",
   "execution_count": null,
   "id": "6b51728a",
   "metadata": {},
   "outputs": [
    {
     "name": "stdout",
     "output_type": "stream",
     "text": [
      "<class 'pandas.core.frame.DataFrame'>\n",
      "Int64Index: 16446 entries, 0 to 16714\n",
      "Data columns (total 11 columns):\n",
      " #   Column           Non-Null Count  Dtype  \n",
      "---  ------           --------------  -----  \n",
      " 0   name             16444 non-null  object \n",
      " 1   platform         16446 non-null  object \n",
      " 2   year_of_release  16446 non-null  int64  \n",
      " 3   genre            16444 non-null  object \n",
      " 4   na_sales         16446 non-null  float64\n",
      " 5   eu_sales         16446 non-null  float64\n",
      " 6   jp_sales         16446 non-null  float64\n",
      " 7   other_sales      16446 non-null  float64\n",
      " 8   critic_score     7983 non-null   float64\n",
      " 9   user_score       7463 non-null   float64\n",
      " 10  rating           9768 non-null   object \n",
      "dtypes: float64(6), int64(1), object(4)\n",
      "memory usage: 1.5+ MB\n"
     ]
    }
   ],
   "source": [
    "df.info()"
   ]
  },
  {
   "attachments": {},
   "cell_type": "markdown",
   "id": "558a7a5e",
   "metadata": {},
   "source": [
    "#### Обработка пропусков:"
   ]
  },
  {
   "cell_type": "markdown",
   "id": "5c372f59",
   "metadata": {},
   "source": [
    "Выше мы уже избавились от пропусков в столбце year_of_release и от значений tbd в столбце user_score. Посмотрим на пропуски в name и genre"
   ]
  },
  {
   "cell_type": "code",
   "execution_count": null,
   "id": "e6573832",
   "metadata": {},
   "outputs": [
    {
     "data": {
      "text/html": [
       "<div>\n",
       "<style scoped>\n",
       "    .dataframe tbody tr th:only-of-type {\n",
       "        vertical-align: middle;\n",
       "    }\n",
       "\n",
       "    .dataframe tbody tr th {\n",
       "        vertical-align: top;\n",
       "    }\n",
       "\n",
       "    .dataframe thead th {\n",
       "        text-align: right;\n",
       "    }\n",
       "</style>\n",
       "<table border=\"1\" class=\"dataframe\">\n",
       "  <thead>\n",
       "    <tr style=\"text-align: right;\">\n",
       "      <th></th>\n",
       "      <th>name</th>\n",
       "      <th>platform</th>\n",
       "      <th>year_of_release</th>\n",
       "      <th>genre</th>\n",
       "      <th>na_sales</th>\n",
       "      <th>eu_sales</th>\n",
       "      <th>jp_sales</th>\n",
       "      <th>other_sales</th>\n",
       "      <th>critic_score</th>\n",
       "      <th>user_score</th>\n",
       "      <th>rating</th>\n",
       "    </tr>\n",
       "  </thead>\n",
       "  <tbody>\n",
       "    <tr>\n",
       "      <th>659</th>\n",
       "      <td>NaN</td>\n",
       "      <td>GEN</td>\n",
       "      <td>1993</td>\n",
       "      <td>NaN</td>\n",
       "      <td>1.78</td>\n",
       "      <td>0.53</td>\n",
       "      <td>0.00</td>\n",
       "      <td>0.08</td>\n",
       "      <td>NaN</td>\n",
       "      <td>NaN</td>\n",
       "      <td>NaN</td>\n",
       "    </tr>\n",
       "    <tr>\n",
       "      <th>14244</th>\n",
       "      <td>NaN</td>\n",
       "      <td>GEN</td>\n",
       "      <td>1993</td>\n",
       "      <td>NaN</td>\n",
       "      <td>0.00</td>\n",
       "      <td>0.00</td>\n",
       "      <td>0.03</td>\n",
       "      <td>0.00</td>\n",
       "      <td>NaN</td>\n",
       "      <td>NaN</td>\n",
       "      <td>NaN</td>\n",
       "    </tr>\n",
       "  </tbody>\n",
       "</table>\n",
       "</div>"
      ],
      "text/plain": [
       "      name platform  year_of_release genre  na_sales  eu_sales  jp_sales  \\\n",
       "659    NaN      GEN             1993   NaN      1.78      0.53      0.00   \n",
       "14244  NaN      GEN             1993   NaN      0.00      0.00      0.03   \n",
       "\n",
       "       other_sales  critic_score  user_score rating  \n",
       "659           0.08           NaN         NaN    NaN  \n",
       "14244         0.00           NaN         NaN    NaN  "
      ]
     },
     "execution_count": 19,
     "metadata": {},
     "output_type": "execute_result"
    }
   ],
   "source": [
    "df[(df['name'].isna()) | (df['genre'].isna())]"
   ]
  },
  {
   "cell_type": "markdown",
   "id": "819b86de",
   "metadata": {},
   "source": [
    "Можно смело удалить эти строки, т.к. много пропущенных данных по ним и их всего 2 строки."
   ]
  },
  {
   "cell_type": "code",
   "execution_count": null,
   "id": "b202a3b5",
   "metadata": {},
   "outputs": [],
   "source": [
    "df.dropna(subset=['name'], inplace=True)"
   ]
  },
  {
   "cell_type": "markdown",
   "id": "97044846",
   "metadata": {},
   "source": [
    "Еще раз посмотрим на пропуски в столбцах"
   ]
  },
  {
   "cell_type": "code",
   "execution_count": null,
   "id": "0de3850a",
   "metadata": {
    "scrolled": true
   },
   "outputs": [
    {
     "data": {
      "text/plain": [
       "name                  0\n",
       "platform              0\n",
       "year_of_release       0\n",
       "genre                 0\n",
       "na_sales              0\n",
       "eu_sales              0\n",
       "jp_sales              0\n",
       "other_sales           0\n",
       "critic_score       8461\n",
       "user_score         8981\n",
       "rating             6676\n",
       "dtype: int64"
      ]
     },
     "execution_count": 21,
     "metadata": {},
     "output_type": "execute_result"
    }
   ],
   "source": [
    "df.isna().sum()"
   ]
  },
  {
   "cell_type": "markdown",
   "id": "f43496c3",
   "metadata": {},
   "source": [
    "Пропуски в столбцах critic_score, user_score, rating удалять нельзя, слишком большой объем данных. Заполнить средним тоже некорректно. Поэтому пока оставим как есть."
   ]
  },
  {
   "cell_type": "code",
   "execution_count": null,
   "id": "259e40f6",
   "metadata": {
    "scrolled": true
   },
   "outputs": [
    {
     "data": {
      "text/html": [
       "<div>\n",
       "<style scoped>\n",
       "    .dataframe tbody tr th:only-of-type {\n",
       "        vertical-align: middle;\n",
       "    }\n",
       "\n",
       "    .dataframe tbody tr th {\n",
       "        vertical-align: top;\n",
       "    }\n",
       "\n",
       "    .dataframe thead th {\n",
       "        text-align: right;\n",
       "    }\n",
       "</style>\n",
       "<table border=\"1\" class=\"dataframe\">\n",
       "  <thead>\n",
       "    <tr style=\"text-align: right;\">\n",
       "      <th></th>\n",
       "      <th>name</th>\n",
       "      <th>platform</th>\n",
       "      <th>year_of_release</th>\n",
       "      <th>genre</th>\n",
       "      <th>na_sales</th>\n",
       "      <th>eu_sales</th>\n",
       "      <th>jp_sales</th>\n",
       "      <th>other_sales</th>\n",
       "      <th>critic_score</th>\n",
       "      <th>user_score</th>\n",
       "      <th>rating</th>\n",
       "    </tr>\n",
       "  </thead>\n",
       "  <tbody>\n",
       "    <tr>\n",
       "      <th>1</th>\n",
       "      <td>Super Mario Bros.</td>\n",
       "      <td>NES</td>\n",
       "      <td>1985</td>\n",
       "      <td>Platform</td>\n",
       "      <td>29.08</td>\n",
       "      <td>3.58</td>\n",
       "      <td>6.81</td>\n",
       "      <td>0.77</td>\n",
       "      <td>NaN</td>\n",
       "      <td>NaN</td>\n",
       "      <td>NaN</td>\n",
       "    </tr>\n",
       "    <tr>\n",
       "      <th>4</th>\n",
       "      <td>Pokemon Red/Pokemon Blue</td>\n",
       "      <td>GB</td>\n",
       "      <td>1996</td>\n",
       "      <td>Role-Playing</td>\n",
       "      <td>11.27</td>\n",
       "      <td>8.89</td>\n",
       "      <td>10.22</td>\n",
       "      <td>1.00</td>\n",
       "      <td>NaN</td>\n",
       "      <td>NaN</td>\n",
       "      <td>NaN</td>\n",
       "    </tr>\n",
       "    <tr>\n",
       "      <th>5</th>\n",
       "      <td>Tetris</td>\n",
       "      <td>GB</td>\n",
       "      <td>1989</td>\n",
       "      <td>Puzzle</td>\n",
       "      <td>23.20</td>\n",
       "      <td>2.26</td>\n",
       "      <td>4.22</td>\n",
       "      <td>0.58</td>\n",
       "      <td>NaN</td>\n",
       "      <td>NaN</td>\n",
       "      <td>NaN</td>\n",
       "    </tr>\n",
       "    <tr>\n",
       "      <th>9</th>\n",
       "      <td>Duck Hunt</td>\n",
       "      <td>NES</td>\n",
       "      <td>1984</td>\n",
       "      <td>Shooter</td>\n",
       "      <td>26.93</td>\n",
       "      <td>0.63</td>\n",
       "      <td>0.28</td>\n",
       "      <td>0.47</td>\n",
       "      <td>NaN</td>\n",
       "      <td>NaN</td>\n",
       "      <td>NaN</td>\n",
       "    </tr>\n",
       "    <tr>\n",
       "      <th>10</th>\n",
       "      <td>Nintendogs</td>\n",
       "      <td>DS</td>\n",
       "      <td>2005</td>\n",
       "      <td>Simulation</td>\n",
       "      <td>9.05</td>\n",
       "      <td>10.95</td>\n",
       "      <td>1.93</td>\n",
       "      <td>2.74</td>\n",
       "      <td>NaN</td>\n",
       "      <td>NaN</td>\n",
       "      <td>NaN</td>\n",
       "    </tr>\n",
       "  </tbody>\n",
       "</table>\n",
       "</div>"
      ],
      "text/plain": [
       "                        name platform  year_of_release         genre  \\\n",
       "1          Super Mario Bros.      NES             1985      Platform   \n",
       "4   Pokemon Red/Pokemon Blue       GB             1996  Role-Playing   \n",
       "5                     Tetris       GB             1989        Puzzle   \n",
       "9                  Duck Hunt      NES             1984       Shooter   \n",
       "10                Nintendogs       DS             2005    Simulation   \n",
       "\n",
       "    na_sales  eu_sales  jp_sales  other_sales  critic_score  user_score rating  \n",
       "1      29.08      3.58      6.81         0.77           NaN         NaN    NaN  \n",
       "4      11.27      8.89     10.22         1.00           NaN         NaN    NaN  \n",
       "5      23.20      2.26      4.22         0.58           NaN         NaN    NaN  \n",
       "9      26.93      0.63      0.28         0.47           NaN         NaN    NaN  \n",
       "10      9.05     10.95      1.93         2.74           NaN         NaN    NaN  "
      ]
     },
     "execution_count": 22,
     "metadata": {},
     "output_type": "execute_result"
    }
   ],
   "source": [
    "df[df.isna()['rating']].head(5)"
   ]
  },
  {
   "cell_type": "markdown",
   "id": "64f0863d",
   "metadata": {},
   "source": [
    "В столбцах critic_score и user_score приведены оценки и отсутствие их,говорит о том, что по данным играм не собрана соответствующая оценка и оценка может быть любой.\n",
    "\n",
    "В столбце rating -  рейтинг присвоен организаций ESRB. \n",
    "\n",
    "*Entertainment Software Rating Board (ESRB) — негосударственная организация, основное направление деятельности — принятие и определение рейтингов для компьютерных видеоигр и другого развлекательного программного обеспечения в США и Канаде.*\n",
    "\n",
    "Это необязательная сертификация и отсутствие рейтинга, говорит о том, что этой игре по какой то причине рейтинг не был присвоен. Т.к. игр внерейтинга достаточно много, добавим еще одну категорию. Заменим все NaN на рейтинг ND (not defined) "
   ]
  },
  {
   "cell_type": "code",
   "execution_count": null,
   "id": "bf6b8773",
   "metadata": {
    "scrolled": true
   },
   "outputs": [],
   "source": [
    "df['rating'].fillna('ND', inplace=True)"
   ]
  },
  {
   "cell_type": "markdown",
   "id": "d8dae88a",
   "metadata": {},
   "source": [
    "Посмотрим на значания столбца rating"
   ]
  },
  {
   "cell_type": "code",
   "execution_count": null,
   "id": "7dc45785",
   "metadata": {},
   "outputs": [
    {
     "data": {
      "text/plain": [
       "ND      6676\n",
       "E       3921\n",
       "T       2905\n",
       "M       1536\n",
       "E10+    1393\n",
       "EC         8\n",
       "K-A        3\n",
       "RP         1\n",
       "AO         1\n",
       "Name: rating, dtype: int64"
      ]
     },
     "execution_count": 24,
     "metadata": {},
     "output_type": "execute_result"
    }
   ],
   "source": [
    "df['rating'].value_counts()"
   ]
  },
  {
   "cell_type": "markdown",
   "id": "5dd6caf9",
   "metadata": {},
   "source": [
    "Рейтинг K-A это устаревшее название рейтинга Е. Поэтому заменим его на Е."
   ]
  },
  {
   "cell_type": "code",
   "execution_count": null,
   "id": "b7a96b36",
   "metadata": {},
   "outputs": [],
   "source": [
    "df['rating'].replace('K-A', 'E', inplace=True)"
   ]
  },
  {
   "cell_type": "markdown",
   "id": "a6854a79",
   "metadata": {},
   "source": [
    "Рейтинг EC, AO, RP присвоен единичным играм, поэтому их вклад в анализ не будет существенным, можно смело исключить их из расчета"
   ]
  },
  {
   "cell_type": "code",
   "execution_count": null,
   "id": "b2b07c6e",
   "metadata": {},
   "outputs": [],
   "source": [
    "df = df[~((df['rating']=='EC') | (df['rating']=='RP') | (df['rating']=='AO'))]"
   ]
  },
  {
   "cell_type": "code",
   "execution_count": null,
   "id": "cf3c874f",
   "metadata": {},
   "outputs": [
    {
     "data": {
      "text/plain": [
       "16434"
      ]
     },
     "execution_count": 27,
     "metadata": {},
     "output_type": "execute_result"
    }
   ],
   "source": [
    "len(df)"
   ]
  },
  {
   "cell_type": "markdown",
   "id": "91db5853",
   "metadata": {},
   "source": [
    "Создадим столбец с общим объемом продаж по всем регионам:"
   ]
  },
  {
   "cell_type": "code",
   "execution_count": null,
   "id": "113d0252",
   "metadata": {},
   "outputs": [],
   "source": [
    "df['total_sales'] = (\n",
    "    df['na_sales'] + \n",
    "    df['eu_sales'] + \n",
    "    df['jp_sales'] + \n",
    "    df['other_sales'])"
   ]
  },
  {
   "cell_type": "code",
   "execution_count": null,
   "id": "a36a751f",
   "metadata": {
    "scrolled": true
   },
   "outputs": [],
   "source": []
  },
  {
   "cell_type": "markdown",
   "id": "f2000bcb",
   "metadata": {},
   "source": [
    "Проверим, есть ли продажи с общим нулевым объемом"
   ]
  },
  {
   "cell_type": "code",
   "execution_count": null,
   "id": "792bba6c",
   "metadata": {},
   "outputs": [
    {
     "data": {
      "text/html": [
       "<div>\n",
       "<style scoped>\n",
       "    .dataframe tbody tr th:only-of-type {\n",
       "        vertical-align: middle;\n",
       "    }\n",
       "\n",
       "    .dataframe tbody tr th {\n",
       "        vertical-align: top;\n",
       "    }\n",
       "\n",
       "    .dataframe thead th {\n",
       "        text-align: right;\n",
       "    }\n",
       "</style>\n",
       "<table border=\"1\" class=\"dataframe\">\n",
       "  <thead>\n",
       "    <tr style=\"text-align: right;\">\n",
       "      <th></th>\n",
       "      <th>name</th>\n",
       "      <th>platform</th>\n",
       "      <th>year_of_release</th>\n",
       "      <th>genre</th>\n",
       "      <th>na_sales</th>\n",
       "      <th>eu_sales</th>\n",
       "      <th>jp_sales</th>\n",
       "      <th>other_sales</th>\n",
       "      <th>critic_score</th>\n",
       "      <th>user_score</th>\n",
       "      <th>rating</th>\n",
       "      <th>total_sales</th>\n",
       "    </tr>\n",
       "  </thead>\n",
       "  <tbody>\n",
       "    <tr>\n",
       "      <th>16676</th>\n",
       "      <td>G1 Jockey 4 2008</td>\n",
       "      <td>PS3</td>\n",
       "      <td>2008</td>\n",
       "      <td>Sports</td>\n",
       "      <td>0.0</td>\n",
       "      <td>0.0</td>\n",
       "      <td>0.0</td>\n",
       "      <td>0.0</td>\n",
       "      <td>NaN</td>\n",
       "      <td>NaN</td>\n",
       "      <td>ND</td>\n",
       "      <td>0.0</td>\n",
       "    </tr>\n",
       "    <tr>\n",
       "      <th>16709</th>\n",
       "      <td>SCORE International Baja 1000: The Official Game</td>\n",
       "      <td>PS2</td>\n",
       "      <td>2008</td>\n",
       "      <td>Racing</td>\n",
       "      <td>0.0</td>\n",
       "      <td>0.0</td>\n",
       "      <td>0.0</td>\n",
       "      <td>0.0</td>\n",
       "      <td>NaN</td>\n",
       "      <td>NaN</td>\n",
       "      <td>ND</td>\n",
       "      <td>0.0</td>\n",
       "    </tr>\n",
       "  </tbody>\n",
       "</table>\n",
       "</div>"
      ],
      "text/plain": [
       "                                                   name platform  \\\n",
       "16676                                  G1 Jockey 4 2008      PS3   \n",
       "16709  SCORE International Baja 1000: The Official Game      PS2   \n",
       "\n",
       "       year_of_release   genre  na_sales  eu_sales  jp_sales  other_sales  \\\n",
       "16676             2008  Sports       0.0       0.0       0.0          0.0   \n",
       "16709             2008  Racing       0.0       0.0       0.0          0.0   \n",
       "\n",
       "       critic_score  user_score rating  total_sales  \n",
       "16676           NaN         NaN     ND          0.0  \n",
       "16709           NaN         NaN     ND          0.0  "
      ]
     },
     "execution_count": 29,
     "metadata": {},
     "output_type": "execute_result"
    }
   ],
   "source": [
    "df[df['total_sales']==0]"
   ]
  },
  {
   "cell_type": "markdown",
   "id": "0e6bbfc3",
   "metadata": {},
   "source": [
    "Строки выше можно удалить из массива данных"
   ]
  },
  {
   "cell_type": "code",
   "execution_count": null,
   "id": "78a9eb08",
   "metadata": {},
   "outputs": [],
   "source": [
    "df = df[df['total_sales']>0]"
   ]
  },
  {
   "cell_type": "code",
   "execution_count": null,
   "id": "45318dd1",
   "metadata": {},
   "outputs": [
    {
     "data": {
      "text/plain": [
       "16432"
      ]
     },
     "execution_count": 31,
     "metadata": {},
     "output_type": "execute_result"
    }
   ],
   "source": [
    "len(df)"
   ]
  },
  {
   "cell_type": "markdown",
   "id": "5243e387",
   "metadata": {},
   "source": [
    "Выведем итоговое распределение по общему объему продаж"
   ]
  },
  {
   "cell_type": "code",
   "execution_count": null,
   "id": "6adc4053",
   "metadata": {
    "scrolled": true
   },
   "outputs": [
    {
     "data": {
      "text/plain": [
       "<AxesSubplot:>"
      ]
     },
     "execution_count": 32,
     "metadata": {},
     "output_type": "execute_result"
    },
    {
     "data": {
      "image/png": "[encoded data removed]",
      "text/plain": [
       "<Figure size 432x288 with 1 Axes>"
      ]
     },
     "metadata": {
      "needs_background": "light"
     },
     "output_type": "display_data"
    }
   ],
   "source": [
    "df['total_sales'].hist(bins=100, range = (0,10))"
   ]
  },
  {
   "cell_type": "markdown",
   "id": "ab1153c4",
   "metadata": {},
   "source": [
    "Распределение похоже на нормальное, выбросы сильно не бросаются в глаза"
   ]
  },
  {
   "cell_type": "markdown",
   "id": "c4e40d55",
   "metadata": {},
   "source": [
    "Теперь удалим дубликат, который нашли в предварительном анализе данных. Посмотрим что это за дубль"
   ]
  },
  {
   "cell_type": "code",
   "execution_count": null,
   "id": "c175639f",
   "metadata": {
    "scrolled": true
   },
   "outputs": [
    {
     "data": {
      "text/html": [
       "<div>\n",
       "<style scoped>\n",
       "    .dataframe tbody tr th:only-of-type {\n",
       "        vertical-align: middle;\n",
       "    }\n",
       "\n",
       "    .dataframe tbody tr th {\n",
       "        vertical-align: top;\n",
       "    }\n",
       "\n",
       "    .dataframe thead th {\n",
       "        text-align: right;\n",
       "    }\n",
       "</style>\n",
       "<table border=\"1\" class=\"dataframe\">\n",
       "  <thead>\n",
       "    <tr style=\"text-align: right;\">\n",
       "      <th></th>\n",
       "      <th></th>\n",
       "      <th></th>\n",
       "      <th>critic_score</th>\n",
       "      <th>eu_sales</th>\n",
       "      <th>genre</th>\n",
       "      <th>jp_sales</th>\n",
       "      <th>na_sales</th>\n",
       "      <th>other_sales</th>\n",
       "      <th>rating</th>\n",
       "      <th>total_sales</th>\n",
       "      <th>user_score</th>\n",
       "    </tr>\n",
       "    <tr>\n",
       "      <th>year_of_release</th>\n",
       "      <th>platform</th>\n",
       "      <th>name</th>\n",
       "      <th></th>\n",
       "      <th></th>\n",
       "      <th></th>\n",
       "      <th></th>\n",
       "      <th></th>\n",
       "      <th></th>\n",
       "      <th></th>\n",
       "      <th></th>\n",
       "      <th></th>\n",
       "    </tr>\n",
       "  </thead>\n",
       "  <tbody>\n",
       "    <tr>\n",
       "      <th>2012</th>\n",
       "      <th>PS3</th>\n",
       "      <th>Madden NFL 13</th>\n",
       "      <td>2</td>\n",
       "      <td>2</td>\n",
       "      <td>2</td>\n",
       "      <td>2</td>\n",
       "      <td>2</td>\n",
       "      <td>2</td>\n",
       "      <td>2</td>\n",
       "      <td>2</td>\n",
       "      <td>2</td>\n",
       "    </tr>\n",
       "  </tbody>\n",
       "</table>\n",
       "</div>"
      ],
      "text/plain": [
       "                                        critic_score  eu_sales  genre  \\\n",
       "year_of_release platform name                                           \n",
       "2012            PS3      Madden NFL 13             2         2      2   \n",
       "\n",
       "                                        jp_sales  na_sales  other_sales  \\\n",
       "year_of_release platform name                                             \n",
       "2012            PS3      Madden NFL 13         2         2            2   \n",
       "\n",
       "                                        rating  total_sales  user_score  \n",
       "year_of_release platform name                                            \n",
       "2012            PS3      Madden NFL 13       2            2           2  "
      ]
     },
     "execution_count": 33,
     "metadata": {},
     "output_type": "execute_result"
    }
   ],
   "source": [
    "df.pivot_table(index=('year_of_release', 'platform', 'name'), aggfunc='count').query('na_sales==2')"
   ]
  },
  {
   "cell_type": "code",
   "execution_count": null,
   "id": "0c3afefd",
   "metadata": {},
   "outputs": [
    {
     "data": {
      "text/html": [
       "<div>\n",
       "<style scoped>\n",
       "    .dataframe tbody tr th:only-of-type {\n",
       "        vertical-align: middle;\n",
       "    }\n",
       "\n",
       "    .dataframe tbody tr th {\n",
       "        vertical-align: top;\n",
       "    }\n",
       "\n",
       "    .dataframe thead th {\n",
       "        text-align: right;\n",
       "    }\n",
       "</style>\n",
       "<table border=\"1\" class=\"dataframe\">\n",
       "  <thead>\n",
       "    <tr style=\"text-align: right;\">\n",
       "      <th></th>\n",
       "      <th>name</th>\n",
       "      <th>platform</th>\n",
       "      <th>year_of_release</th>\n",
       "      <th>genre</th>\n",
       "      <th>na_sales</th>\n",
       "      <th>eu_sales</th>\n",
       "      <th>jp_sales</th>\n",
       "      <th>other_sales</th>\n",
       "      <th>critic_score</th>\n",
       "      <th>user_score</th>\n",
       "      <th>rating</th>\n",
       "      <th>total_sales</th>\n",
       "    </tr>\n",
       "  </thead>\n",
       "  <tbody>\n",
       "    <tr>\n",
       "      <th>507</th>\n",
       "      <td>Madden NFL 13</td>\n",
       "      <td>X360</td>\n",
       "      <td>2012</td>\n",
       "      <td>Sports</td>\n",
       "      <td>2.53</td>\n",
       "      <td>0.15</td>\n",
       "      <td>0.0</td>\n",
       "      <td>0.17</td>\n",
       "      <td>81.0</td>\n",
       "      <td>5.8</td>\n",
       "      <td>E</td>\n",
       "      <td>2.85</td>\n",
       "    </tr>\n",
       "    <tr>\n",
       "      <th>604</th>\n",
       "      <td>Madden NFL 13</td>\n",
       "      <td>PS3</td>\n",
       "      <td>2012</td>\n",
       "      <td>Sports</td>\n",
       "      <td>2.11</td>\n",
       "      <td>0.22</td>\n",
       "      <td>0.0</td>\n",
       "      <td>0.23</td>\n",
       "      <td>83.0</td>\n",
       "      <td>5.5</td>\n",
       "      <td>E</td>\n",
       "      <td>2.56</td>\n",
       "    </tr>\n",
       "    <tr>\n",
       "      <th>3986</th>\n",
       "      <td>Madden NFL 13</td>\n",
       "      <td>Wii</td>\n",
       "      <td>2012</td>\n",
       "      <td>Sports</td>\n",
       "      <td>0.47</td>\n",
       "      <td>0.00</td>\n",
       "      <td>0.0</td>\n",
       "      <td>0.03</td>\n",
       "      <td>NaN</td>\n",
       "      <td>7.3</td>\n",
       "      <td>E</td>\n",
       "      <td>0.50</td>\n",
       "    </tr>\n",
       "    <tr>\n",
       "      <th>5887</th>\n",
       "      <td>Madden NFL 13</td>\n",
       "      <td>PSV</td>\n",
       "      <td>2012</td>\n",
       "      <td>Sports</td>\n",
       "      <td>0.28</td>\n",
       "      <td>0.00</td>\n",
       "      <td>0.0</td>\n",
       "      <td>0.02</td>\n",
       "      <td>63.0</td>\n",
       "      <td>7.3</td>\n",
       "      <td>E</td>\n",
       "      <td>0.30</td>\n",
       "    </tr>\n",
       "    <tr>\n",
       "      <th>7066</th>\n",
       "      <td>Madden NFL 13</td>\n",
       "      <td>WiiU</td>\n",
       "      <td>2012</td>\n",
       "      <td>Sports</td>\n",
       "      <td>0.21</td>\n",
       "      <td>0.00</td>\n",
       "      <td>0.0</td>\n",
       "      <td>0.02</td>\n",
       "      <td>75.0</td>\n",
       "      <td>6.7</td>\n",
       "      <td>E</td>\n",
       "      <td>0.23</td>\n",
       "    </tr>\n",
       "    <tr>\n",
       "      <th>16230</th>\n",
       "      <td>Madden NFL 13</td>\n",
       "      <td>PS3</td>\n",
       "      <td>2012</td>\n",
       "      <td>Sports</td>\n",
       "      <td>0.00</td>\n",
       "      <td>0.01</td>\n",
       "      <td>0.0</td>\n",
       "      <td>0.00</td>\n",
       "      <td>83.0</td>\n",
       "      <td>5.5</td>\n",
       "      <td>E</td>\n",
       "      <td>0.01</td>\n",
       "    </tr>\n",
       "  </tbody>\n",
       "</table>\n",
       "</div>"
      ],
      "text/plain": [
       "                name platform  year_of_release   genre  na_sales  eu_sales  \\\n",
       "507    Madden NFL 13     X360             2012  Sports      2.53      0.15   \n",
       "604    Madden NFL 13      PS3             2012  Sports      2.11      0.22   \n",
       "3986   Madden NFL 13      Wii             2012  Sports      0.47      0.00   \n",
       "5887   Madden NFL 13      PSV             2012  Sports      0.28      0.00   \n",
       "7066   Madden NFL 13     WiiU             2012  Sports      0.21      0.00   \n",
       "16230  Madden NFL 13      PS3             2012  Sports      0.00      0.01   \n",
       "\n",
       "       jp_sales  other_sales  critic_score  user_score rating  total_sales  \n",
       "507         0.0         0.17          81.0         5.8      E         2.85  \n",
       "604         0.0         0.23          83.0         5.5      E         2.56  \n",
       "3986        0.0         0.03           NaN         7.3      E         0.50  \n",
       "5887        0.0         0.02          63.0         7.3      E         0.30  \n",
       "7066        0.0         0.02          75.0         6.7      E         0.23  \n",
       "16230       0.0         0.00          83.0         5.5      E         0.01  "
      ]
     },
     "execution_count": 34,
     "metadata": {},
     "output_type": "execute_result"
    }
   ],
   "source": [
    "df[df['name']=='Madden NFL 13']"
   ]
  },
  {
   "cell_type": "markdown",
   "id": "aca41fd3",
   "metadata": {},
   "source": [
    "Удалим строку с индексом 16230"
   ]
  },
  {
   "cell_type": "code",
   "execution_count": null,
   "id": "c27367ab",
   "metadata": {
    "scrolled": true
   },
   "outputs": [],
   "source": [
    "df.drop(axis=0, index=16230,  inplace=True)"
   ]
  },
  {
   "cell_type": "code",
   "execution_count": null,
   "id": "47d41d8f",
   "metadata": {},
   "outputs": [
    {
     "data": {
      "text/plain": [
       "(16431, 12)"
      ]
     },
     "execution_count": 36,
     "metadata": {},
     "output_type": "execute_result"
    }
   ],
   "source": [
    "df.shape"
   ]
  },
  {
   "cell_type": "markdown",
   "id": "772d6711",
   "metadata": {},
   "source": [
    "**Итого:**\n",
    "\n",
    "В конечном счете осталость 16428 строки данных из 16713. Т.е. 98.3% от первоначальных данных. Зато избавились от пропусков во всех столбцах, кроме critic_score, user_score и упростили набор категорийных данных в столбце rating"
   ]
  },
  {
   "attachments": {},
   "cell_type": "markdown",
   "id": "dda12b06",
   "metadata": {},
   "source": [
    "### Исследовательский анализ данных\n"
   ]
  },
  {
   "attachments": {},
   "cell_type": "markdown",
   "id": "f4a8ad75",
   "metadata": {},
   "source": [
    "#### Посмотрим, сколько игр выпускалось в разные годы"
   ]
  },
  {
   "cell_type": "markdown",
   "id": "1341115d",
   "metadata": {},
   "source": [
    "Сделаем разбивку выпуска игр по годам:"
   ]
  },
  {
   "cell_type": "code",
   "execution_count": null,
   "id": "bfaf8fc0",
   "metadata": {
    "scrolled": false
   },
   "outputs": [
    {
     "data": {
      "image/png": "[encoded data removed]",
      "text/plain": [
       "<Figure size 432x288 with 1 Axes>"
      ]
     },
     "metadata": {
      "needs_background": "light"
     },
     "output_type": "display_data"
    }
   ],
   "source": [
    "(df.pivot_table(index = 'year_of_release', values = 'name', aggfunc = 'count')\n",
    "    .plot(title='Количество игр по годам', legend=False, grid=True));"
   ]
  },
  {
   "cell_type": "code",
   "execution_count": null,
   "id": "aa15cec5",
   "metadata": {},
   "outputs": [
    {
     "data": {
      "text/plain": [
       "name    0.029578\n",
       "dtype: float64"
      ]
     },
     "execution_count": 39,
     "metadata": {},
     "output_type": "execute_result"
    }
   ],
   "source": [
    "# Расчитаем долю игр с датой создания до 1995\n",
    "(df\n",
    "    .pivot_table(index = 'year_of_release', values = 'name', aggfunc = 'count')\n",
    "    .query('year_of_release<1995').sum()) /\\\n",
    "len(df['year_of_release'])"
   ]
  },
  {
   "cell_type": "markdown",
   "id": "ebc8a564",
   "metadata": {},
   "source": [
    "До 1995г выходило очень мало игр в год, суммарно меньше 3% от общего объема данных. Поэтому игры раньше 1995г можно отбросить"
   ]
  },
  {
   "cell_type": "code",
   "execution_count": null,
   "id": "5e0aacca",
   "metadata": {},
   "outputs": [],
   "source": [
    "df = df[df['year_of_release']>1994]"
   ]
  },
  {
   "cell_type": "code",
   "execution_count": null,
   "id": "c07ee72d",
   "metadata": {
    "scrolled": true
   },
   "outputs": [
    {
     "data": {
      "text/plain": [
       "15945"
      ]
     },
     "execution_count": 41,
     "metadata": {},
     "output_type": "execute_result"
    }
   ],
   "source": [
    "len (df)"
   ]
  },
  {
   "cell_type": "markdown",
   "id": "51707123",
   "metadata": {},
   "source": [
    "Построим итоговый график количества выпущенных игр по годам"
   ]
  },
  {
   "cell_type": "code",
   "execution_count": null,
   "id": "fbd31191",
   "metadata": {
    "scrolled": false
   },
   "outputs": [
    {
     "data": {
      "image/png": "[encoded data removed]",
      "text/plain": [
       "<Figure size 432x288 with 1 Axes>"
      ]
     },
     "metadata": {
      "needs_background": "light"
     },
     "output_type": "display_data"
    }
   ],
   "source": [
    "(df.pivot_table(index = 'year_of_release', values = 'name', aggfunc = 'count')\n",
    " .plot(\n",
    "     title='Количество игр по годам', \n",
    "     legend=False, \n",
    "     grid=True, \n",
    "     ylabel='Кол-во игр', \n",
    "     xlabel='Год выпуска'));"
   ]
  },
  {
   "cell_type": "markdown",
   "id": "77f702cf",
   "metadata": {},
   "source": [
    "**Вывод**\n",
    "\n",
    "До 2010 года наблюдался стабильный рост количества игр. После 2010 началось стабильно снижение количества."
   ]
  },
  {
   "attachments": {},
   "cell_type": "markdown",
   "id": "41cbfdc1",
   "metadata": {},
   "source": [
    "#### Посмотрим, как менялись продажи по платформам. \n",
    "\n",
    "Выберим платформы с наибольшими суммарными продажами и построем распределение по годам. Выясним за какой характерный срок появляются новые и исчезают старые платформы."
   ]
  },
  {
   "cell_type": "markdown",
   "id": "2bc14c54",
   "metadata": {},
   "source": [
    "Определим топ9 платформ по объему продаж за все года"
   ]
  },
  {
   "cell_type": "code",
   "execution_count": null,
   "id": "b8497fab",
   "metadata": {},
   "outputs": [],
   "source": [
    "df_platf_top9 = (df\n",
    "    .pivot_table(index = 'platform', values = 'total_sales', aggfunc = 'sum')\n",
    "    .sort_values(by='total_sales', ascending = False)\n",
    "    .head(9))"
   ]
  },
  {
   "cell_type": "code",
   "execution_count": null,
   "id": "a56dd48c",
   "metadata": {},
   "outputs": [],
   "source": [
    "df_platf_top9_index = df_platf_top9.index.unique()"
   ]
  },
  {
   "cell_type": "markdown",
   "id": "11f7a17f",
   "metadata": {},
   "source": [
    "Построим для этих платформ изменение объема продаж по годам"
   ]
  },
  {
   "cell_type": "code",
   "execution_count": null,
   "id": "5fc0d7a1",
   "metadata": {},
   "outputs": [
    {
     "data": {
      "image/png": "[encoded data removed]",
      "text/plain": [
       "<Figure size 792x216 with 3 Axes>"
      ]
     },
     "metadata": {
      "needs_background": "light"
     },
     "output_type": "display_data"
    },
    {
     "data": {
      "image/png": "[encoded data removed]",
      "text/plain": [
       "<Figure size 792x216 with 3 Axes>"
      ]
     },
     "metadata": {
      "needs_background": "light"
     },
     "output_type": "display_data"
    },
    {
     "data": {
      "image/png": "[encoded data removed]",
      "text/plain": [
       "<Figure size 792x216 with 3 Axes>"
      ]
     },
     "metadata": {
      "needs_background": "light"
     },
     "output_type": "display_data"
    }
   ],
   "source": [
    "for i in range (0, len(df_platf_top9_index), 3):\n",
    "    \n",
    "    fig, (ax1, ax2, ax3) = plt.subplots(nrows=1, ncols=3, figsize=(11,3))\n",
    "\n",
    "    ax1.plot(df[df['platform']==df_platf_top9_index[i]]\n",
    "             .groupby('year_of_release')['total_sales']\n",
    "             .sum())\n",
    "    ax1.set_title(df_platf_top9_index[i])\n",
    "    ax1.grid()\n",
    "    ax1.legend('Count', loc=1)\n",
    "    ax2.plot(df[df['platform']==df_platf_top9_index[i+1]]\n",
    "             .groupby('year_of_release')['total_sales']\n",
    "             .sum())\n",
    "    ax2.set_title(df_platf_top9_index[i+1])\n",
    "    ax2.grid()\n",
    "    ax2.legend('Count', loc=1)\n",
    "    ax3.plot(df[df['platform']==df_platf_top9_index[i+2]]\n",
    "             .groupby('year_of_release')['total_sales']\n",
    "             .sum())\n",
    "    ax3.set_title(df_platf_top9_index[i+2])\n",
    "    ax3.grid()\n",
    "    ax3.legend('Count', loc=1)\n",
    "    #ax2.scatter(x, y)\n",
    "    "
   ]
  },
  {
   "cell_type": "markdown",
   "id": "e4dfda02",
   "metadata": {},
   "source": [
    "**Вывод:**\n",
    "\n",
    "От момента выхода платформы до выхода на максимум продаж проходит от 2х лет (PSP) до 5 лет (PS3). В среднем 3-4 года.\n",
    "\n",
    "И после этого примерно за такое же время платформа уходит в небытие. \n",
    "\n",
    "По всем платформам на 2016г наблюдается нисходящий тренд, нет зарождающихся платформ. Поэтому в условиях такой определенной тенденции нет смысла рассматривать данные за прошлый периоды. Сфера очень изменичива. Достаточно взять последние 2 года, чтобы видеть и текущую картину за 2016г и динамику по сравнению с предыдущим 2015г."
   ]
  },
  {
   "cell_type": "markdown",
   "id": "02aae483",
   "metadata": {},
   "source": [
    "#### Возьмите данные за соответствующий актуальный период. \n",
    "\n",
    "Актуальный период определите самостоятельно в результате исследования предыдущих вопросов. Основной фактор — эти данные помогут построить прогноз на 2017 год."
   ]
  },
  {
   "cell_type": "markdown",
   "id": "cd6de712",
   "metadata": {},
   "source": [
    "В связи с тем, тренд очевиден и рынок очень изменчив возьмем данные за последние 2 года. "
   ]
  },
  {
   "cell_type": "code",
   "execution_count": null,
   "id": "9b37e265",
   "metadata": {},
   "outputs": [],
   "source": [
    "df_current = df[df['year_of_release']>2013]"
   ]
  },
  {
   "cell_type": "code",
   "execution_count": null,
   "id": "0af04c26",
   "metadata": {},
   "outputs": [
    {
     "data": {
      "text/plain": [
       "(1689, 12)"
      ]
     },
     "execution_count": 47,
     "metadata": {},
     "output_type": "execute_result"
    }
   ],
   "source": [
    "df_current.shape"
   ]
  },
  {
   "attachments": {},
   "cell_type": "markdown",
   "id": "f8587d65",
   "metadata": {},
   "source": [
    "#### Не учитываем в работе данные за предыдущие годы."
   ]
  },
  {
   "cell_type": "markdown",
   "id": "e387f5c1",
   "metadata": {},
   "source": [
    "Как предположили выше для прогноза на 2017г и дальше достаточно данных за последние 3 года. А в целом для анализа глобальных трендов, данные раньше 1995г можно не учитывать вовсе, т.к. их несущественное количество."
   ]
  },
  {
   "attachments": {},
   "cell_type": "markdown",
   "id": "f5720041",
   "metadata": {},
   "source": [
    "#### Выясним какие платформы лидируют по продажам, растут или падают\n",
    "\n",
    "Выберим несколько потенциально прибыльных платформ."
   ]
  },
  {
   "cell_type": "markdown",
   "id": "d2254c0e",
   "metadata": {},
   "source": [
    "Создадим свод данных в разрезе лет и платформ по общему объему продаж"
   ]
  },
  {
   "cell_type": "code",
   "execution_count": null,
   "id": "06d8df6a",
   "metadata": {},
   "outputs": [],
   "source": [
    "df_platf = df_current.pivot_table(\n",
    "        index = ['platform', 'year_of_release'], \n",
    "        values = 'total_sales', \n",
    "        aggfunc = 'sum')"
   ]
  },
  {
   "cell_type": "code",
   "execution_count": null,
   "id": "7cef18a3",
   "metadata": {
    "scrolled": true
   },
   "outputs": [],
   "source": [
    "df_platf.reset_index(inplace=True)"
   ]
  },
  {
   "cell_type": "code",
   "execution_count": null,
   "id": "3782d137",
   "metadata": {},
   "outputs": [
    {
     "data": {
      "text/html": [
       "<div>\n",
       "<style scoped>\n",
       "    .dataframe tbody tr th:only-of-type {\n",
       "        vertical-align: middle;\n",
       "    }\n",
       "\n",
       "    .dataframe tbody tr th {\n",
       "        vertical-align: top;\n",
       "    }\n",
       "\n",
       "    .dataframe thead th {\n",
       "        text-align: right;\n",
       "    }\n",
       "</style>\n",
       "<table border=\"1\" class=\"dataframe\">\n",
       "  <thead>\n",
       "    <tr style=\"text-align: right;\">\n",
       "      <th></th>\n",
       "      <th>platform</th>\n",
       "      <th>year_of_release</th>\n",
       "      <th>total_sales</th>\n",
       "    </tr>\n",
       "  </thead>\n",
       "  <tbody>\n",
       "    <tr>\n",
       "      <th>0</th>\n",
       "      <td>3DS</td>\n",
       "      <td>2014</td>\n",
       "      <td>43.76</td>\n",
       "    </tr>\n",
       "    <tr>\n",
       "      <th>1</th>\n",
       "      <td>3DS</td>\n",
       "      <td>2015</td>\n",
       "      <td>27.78</td>\n",
       "    </tr>\n",
       "    <tr>\n",
       "      <th>2</th>\n",
       "      <td>3DS</td>\n",
       "      <td>2016</td>\n",
       "      <td>15.14</td>\n",
       "    </tr>\n",
       "    <tr>\n",
       "      <th>3</th>\n",
       "      <td>PC</td>\n",
       "      <td>2014</td>\n",
       "      <td>13.28</td>\n",
       "    </tr>\n",
       "    <tr>\n",
       "      <th>4</th>\n",
       "      <td>PC</td>\n",
       "      <td>2015</td>\n",
       "      <td>8.52</td>\n",
       "    </tr>\n",
       "  </tbody>\n",
       "</table>\n",
       "</div>"
      ],
      "text/plain": [
       "  platform  year_of_release  total_sales\n",
       "0      3DS             2014        43.76\n",
       "1      3DS             2015        27.78\n",
       "2      3DS             2016        15.14\n",
       "3       PC             2014        13.28\n",
       "4       PC             2015         8.52"
      ]
     },
     "execution_count": 50,
     "metadata": {},
     "output_type": "execute_result"
    }
   ],
   "source": [
    "df_platf.head(5)"
   ]
  },
  {
   "cell_type": "markdown",
   "id": "670a8cd8",
   "metadata": {},
   "source": [
    "Переформатируем таблицу, чтобы каждая платформа представляла отдельный столбец"
   ]
  },
  {
   "cell_type": "code",
   "execution_count": null,
   "id": "096fad52",
   "metadata": {},
   "outputs": [],
   "source": [
    "df_platf_year = pd.DataFrame()"
   ]
  },
  {
   "cell_type": "code",
   "execution_count": null,
   "id": "e1209d26",
   "metadata": {},
   "outputs": [],
   "source": [
    "for pl in df_platf['platform'].unique():\n",
    "    df_pl = df_platf[df_platf['platform']==pl]\n",
    "    df_pl = df_pl.rename(columns={'total_sales': pl})\n",
    "    df_pl= df_pl.drop('platform', axis=1)\n",
    "    if len (df_platf_year)>0:\n",
    "        df_platf_year = df_platf_year.merge(df_pl, on='year_of_release', how='outer')\n",
    "    else:\n",
    "        df_platf_year = df_pl\n",
    "                    "
   ]
  },
  {
   "cell_type": "code",
   "execution_count": null,
   "id": "099cd977",
   "metadata": {
    "scrolled": false
   },
   "outputs": [
    {
     "data": {
      "text/html": [
       "<div>\n",
       "<style scoped>\n",
       "    .dataframe tbody tr th:only-of-type {\n",
       "        vertical-align: middle;\n",
       "    }\n",
       "\n",
       "    .dataframe tbody tr th {\n",
       "        vertical-align: top;\n",
       "    }\n",
       "\n",
       "    .dataframe thead th {\n",
       "        text-align: right;\n",
       "    }\n",
       "</style>\n",
       "<table border=\"1\" class=\"dataframe\">\n",
       "  <thead>\n",
       "    <tr style=\"text-align: right;\">\n",
       "      <th></th>\n",
       "      <th>year_of_release</th>\n",
       "      <th>3DS</th>\n",
       "      <th>PC</th>\n",
       "      <th>PS3</th>\n",
       "      <th>PS4</th>\n",
       "      <th>PSP</th>\n",
       "      <th>PSV</th>\n",
       "      <th>Wii</th>\n",
       "      <th>WiiU</th>\n",
       "      <th>X360</th>\n",
       "      <th>XOne</th>\n",
       "    </tr>\n",
       "  </thead>\n",
       "  <tbody>\n",
       "    <tr>\n",
       "      <th>0</th>\n",
       "      <td>2014</td>\n",
       "      <td>43.76</td>\n",
       "      <td>13.28</td>\n",
       "      <td>47.76</td>\n",
       "      <td>100.00</td>\n",
       "      <td>0.24</td>\n",
       "      <td>11.90</td>\n",
       "      <td>3.75</td>\n",
       "      <td>22.03</td>\n",
       "      <td>34.74</td>\n",
       "      <td>54.07</td>\n",
       "    </tr>\n",
       "    <tr>\n",
       "      <th>1</th>\n",
       "      <td>2015</td>\n",
       "      <td>27.78</td>\n",
       "      <td>8.52</td>\n",
       "      <td>16.82</td>\n",
       "      <td>118.90</td>\n",
       "      <td>0.12</td>\n",
       "      <td>6.25</td>\n",
       "      <td>1.14</td>\n",
       "      <td>16.35</td>\n",
       "      <td>11.96</td>\n",
       "      <td>60.14</td>\n",
       "    </tr>\n",
       "    <tr>\n",
       "      <th>2</th>\n",
       "      <td>2016</td>\n",
       "      <td>15.14</td>\n",
       "      <td>5.25</td>\n",
       "      <td>3.60</td>\n",
       "      <td>69.25</td>\n",
       "      <td>NaN</td>\n",
       "      <td>4.25</td>\n",
       "      <td>0.18</td>\n",
       "      <td>4.60</td>\n",
       "      <td>1.52</td>\n",
       "      <td>26.15</td>\n",
       "    </tr>\n",
       "  </tbody>\n",
       "</table>\n",
       "</div>"
      ],
      "text/plain": [
       "   year_of_release    3DS     PC    PS3     PS4   PSP    PSV   Wii   WiiU  \\\n",
       "0             2014  43.76  13.28  47.76  100.00  0.24  11.90  3.75  22.03   \n",
       "1             2015  27.78   8.52  16.82  118.90  0.12   6.25  1.14  16.35   \n",
       "2             2016  15.14   5.25   3.60   69.25   NaN   4.25  0.18   4.60   \n",
       "\n",
       "    X360   XOne  \n",
       "0  34.74  54.07  \n",
       "1  11.96  60.14  \n",
       "2   1.52  26.15  "
      ]
     },
     "execution_count": 53,
     "metadata": {},
     "output_type": "execute_result"
    }
   ],
   "source": [
    "df_platf_year"
   ]
  },
  {
   "cell_type": "markdown",
   "id": "18cbae86",
   "metadata": {},
   "source": [
    "Убирем из актуальных данных для последующего анализа данные по платформе PSP, т.к. это уже умиршая платформа, только усложняет графики."
   ]
  },
  {
   "cell_type": "code",
   "execution_count": null,
   "id": "2969afa9",
   "metadata": {},
   "outputs": [],
   "source": [
    "df_current = df_current[df_current['platform']!='PSP']\n",
    "df_platf_year = df_platf_year.drop('PSP', axis=1)"
   ]
  },
  {
   "cell_type": "code",
   "execution_count": null,
   "id": "22039634",
   "metadata": {},
   "outputs": [
    {
     "data": {
      "text/html": [
       "<div>\n",
       "<style scoped>\n",
       "    .dataframe tbody tr th:only-of-type {\n",
       "        vertical-align: middle;\n",
       "    }\n",
       "\n",
       "    .dataframe tbody tr th {\n",
       "        vertical-align: top;\n",
       "    }\n",
       "\n",
       "    .dataframe thead th {\n",
       "        text-align: right;\n",
       "    }\n",
       "</style>\n",
       "<table border=\"1\" class=\"dataframe\">\n",
       "  <thead>\n",
       "    <tr style=\"text-align: right;\">\n",
       "      <th></th>\n",
       "      <th>year_of_release</th>\n",
       "      <th>3DS</th>\n",
       "      <th>PC</th>\n",
       "      <th>PS3</th>\n",
       "      <th>PS4</th>\n",
       "      <th>PSV</th>\n",
       "      <th>Wii</th>\n",
       "      <th>WiiU</th>\n",
       "      <th>X360</th>\n",
       "      <th>XOne</th>\n",
       "    </tr>\n",
       "  </thead>\n",
       "  <tbody>\n",
       "    <tr>\n",
       "      <th>0</th>\n",
       "      <td>2014</td>\n",
       "      <td>43.76</td>\n",
       "      <td>13.28</td>\n",
       "      <td>47.76</td>\n",
       "      <td>100.00</td>\n",
       "      <td>11.90</td>\n",
       "      <td>3.75</td>\n",
       "      <td>22.03</td>\n",
       "      <td>34.74</td>\n",
       "      <td>54.07</td>\n",
       "    </tr>\n",
       "    <tr>\n",
       "      <th>1</th>\n",
       "      <td>2015</td>\n",
       "      <td>27.78</td>\n",
       "      <td>8.52</td>\n",
       "      <td>16.82</td>\n",
       "      <td>118.90</td>\n",
       "      <td>6.25</td>\n",
       "      <td>1.14</td>\n",
       "      <td>16.35</td>\n",
       "      <td>11.96</td>\n",
       "      <td>60.14</td>\n",
       "    </tr>\n",
       "    <tr>\n",
       "      <th>2</th>\n",
       "      <td>2016</td>\n",
       "      <td>15.14</td>\n",
       "      <td>5.25</td>\n",
       "      <td>3.60</td>\n",
       "      <td>69.25</td>\n",
       "      <td>4.25</td>\n",
       "      <td>0.18</td>\n",
       "      <td>4.60</td>\n",
       "      <td>1.52</td>\n",
       "      <td>26.15</td>\n",
       "    </tr>\n",
       "  </tbody>\n",
       "</table>\n",
       "</div>"
      ],
      "text/plain": [
       "   year_of_release    3DS     PC    PS3     PS4    PSV   Wii   WiiU   X360  \\\n",
       "0             2014  43.76  13.28  47.76  100.00  11.90  3.75  22.03  34.74   \n",
       "1             2015  27.78   8.52  16.82  118.90   6.25  1.14  16.35  11.96   \n",
       "2             2016  15.14   5.25   3.60   69.25   4.25  0.18   4.60   1.52   \n",
       "\n",
       "    XOne  \n",
       "0  54.07  \n",
       "1  60.14  \n",
       "2  26.15  "
      ]
     },
     "execution_count": 55,
     "metadata": {},
     "output_type": "execute_result"
    }
   ],
   "source": [
    "df_platf_year"
   ]
  },
  {
   "cell_type": "markdown",
   "id": "0be6b558",
   "metadata": {},
   "source": [
    "Построим график изменения объема продаж по каждой платформе за актуальный период"
   ]
  },
  {
   "cell_type": "code",
   "execution_count": null,
   "id": "e87652bd",
   "metadata": {
    "scrolled": true
   },
   "outputs": [
    {
     "data": {
      "image/png": "[encoded data removed]",
      "text/plain": [
       "<Figure size 432x288 with 1 Axes>"
      ]
     },
     "metadata": {
      "needs_background": "light"
     },
     "output_type": "display_data"
    }
   ],
   "source": [
    "(df_platf_year.set_index('year_of_release')\n",
    "    .plot(title='Изменение объема продаж по платформам с 2014 по 2016гг',\n",
    "        grid=True,\n",
    "        ylabel='Объем продаж, млн.шт.',\n",
    "        xlabel='Годы продаж',\n",
    "        rot=90))\n",
    "plt.legend(bbox_to_anchor=(1, 0.6));"
   ]
  },
  {
   "cell_type": "markdown",
   "id": "a49b373a",
   "metadata": {},
   "source": [
    "Посмотрим топ3 платформ по общим продажам за последний год"
   ]
  },
  {
   "cell_type": "code",
   "execution_count": null,
   "id": "b37d792c",
   "metadata": {},
   "outputs": [
    {
     "data": {
      "text/plain": [
       "platform\n",
       "PS4     69.25\n",
       "XOne    26.15\n",
       "3DS     15.14\n",
       "Name: total_sales, dtype: float64"
      ]
     },
     "execution_count": 57,
     "metadata": {},
     "output_type": "execute_result"
    }
   ],
   "source": [
    "(df_current[df_current['year_of_release']==2016]\n",
    "    .groupby('platform')['total_sales']\n",
    "    .sum()\n",
    "    .sort_values(ascending=False)\n",
    "    .head(3))"
   ]
  },
  {
   "cell_type": "markdown",
   "id": "08a9ade0",
   "metadata": {},
   "source": [
    "**Итого:**\n",
    "\n",
    "На конец 2016г топ3 платформ по объемам продаж являлись PS4, XOne, 3DS. Абсолютно все платформы показывают отрицательный тренд по объемам продаж. Пики продаж пройдены и идет снижение. Новых зараждающихся платформ не наблюдается."
   ]
  },
  {
   "attachments": {},
   "cell_type": "markdown",
   "id": "778312a8",
   "metadata": {},
   "source": [
    "#### Построим график «ящик с усами» по глобальным продажам игр в разбивке по платформам. \n"
   ]
  },
  {
   "cell_type": "markdown",
   "id": "4f0ca458",
   "metadata": {},
   "source": [
    "Построим диаграмму размаха глобальных продаж по платформам "
   ]
  },
  {
   "cell_type": "code",
   "execution_count": null,
   "id": "60e89b2f",
   "metadata": {
    "scrolled": true
   },
   "outputs": [
    {
     "data": {
      "image/png": "[encoded data removed]",
      "text/plain": [
       "<Figure size 432x288 with 1 Axes>"
      ]
     },
     "metadata": {
      "needs_background": "light"
     },
     "output_type": "display_data"
    }
   ],
   "source": [
    "df_current.boxplot(by='platform', column='total_sales');"
   ]
  },
  {
   "cell_type": "markdown",
   "id": "b0c0b95d",
   "metadata": {},
   "source": [
    "Посмотрим на основую часть без выбросов"
   ]
  },
  {
   "cell_type": "code",
   "execution_count": null,
   "id": "ba0693bf",
   "metadata": {
    "scrolled": true
   },
   "outputs": [
    {
     "data": {
      "image/png": "[encoded data removed]",
      "text/plain": [
       "<Figure size 432x288 with 1 Axes>"
      ]
     },
     "metadata": {
      "needs_background": "light"
     },
     "output_type": "display_data"
    }
   ],
   "source": [
    "df_current.boxplot(by='platform', column='total_sales', showfliers=False);\n"
   ]
  },
  {
   "cell_type": "markdown",
   "id": "f8350639",
   "metadata": {},
   "source": [
    "Отдельно постром график медианных значений продаж по платформам и по годам"
   ]
  },
  {
   "cell_type": "code",
   "execution_count": null,
   "id": "0c8ee166",
   "metadata": {},
   "outputs": [
    {
     "data": {
      "image/png": "[encoded data removed]",
      "text/plain": [
       "<Figure size 792x360 with 3 Axes>"
      ]
     },
     "metadata": {
      "needs_background": "light"
     },
     "output_type": "display_data"
    }
   ],
   "source": [
    "fig, (ax2, ax3, ax4) = plt.subplots(nrows=3, ncols=1, figsize=(11,5))\n",
    "\n",
    "#2014\n",
    "ax2.plot(df_current[df_current['year_of_release']==2014]\n",
    "             .groupby('platform')['total_sales']\n",
    "             .median())\n",
    "ax2.set_title('Медианные продажи по платформам за 2014г.')\n",
    "ax2.grid()\n",
    "ax2.set_xlabel('Платформа')\n",
    "ax2.set_ylabel('Продажи, млн.шт.')\n",
    "#2015\n",
    "ax3.plot(df_current[df_current['year_of_release']==2015]\n",
    "             .groupby('platform')['total_sales']\n",
    "             .median())\n",
    "ax3.set_title('Медианные продажи по платформам за 2015г.')\n",
    "ax3.grid()\n",
    "ax3.set_xlabel('Платформа')\n",
    "ax3.set_ylabel('Продажи, млн.шт.')\n",
    "#2016\n",
    "ax4.plot(df_current[df_current['year_of_release']==2016]\n",
    "             .groupby('platform')['total_sales']\n",
    "             .median())\n",
    "ax4.set_title('Медианные продажи по платформам за 2016г.')\n",
    "ax4.grid()\n",
    "ax4.set_xlabel('Платформа')\n",
    "ax4.set_ylabel('Продажи, млн.шт.')\n",
    "\n",
    "fig.subplots_adjust(hspace=1)\n"
   ]
  },
  {
   "cell_type": "markdown",
   "id": "30fcea09",
   "metadata": {},
   "source": [
    "Распределение по платформам за последний 2016г отличается от предыдущих лет. Т.е. медианые значения сильно меняются год от года.\n",
    "\n",
    "Поэтому чтобы усреднить, посмотрим распределение медианных продаж по платформами за весь актуальный период"
   ]
  },
  {
   "cell_type": "code",
   "execution_count": null,
   "id": "7c3c0f19",
   "metadata": {
    "scrolled": true
   },
   "outputs": [
    {
     "data": {
      "image/png": "[encoded data removed]",
      "text/plain": [
       "<Figure size 720x216 with 1 Axes>"
      ]
     },
     "metadata": {
      "needs_background": "light"
     },
     "output_type": "display_data"
    }
   ],
   "source": [
    "fig, ax1 = plt.subplots(nrows=1, ncols=1, figsize=(10,3))\n",
    "\n",
    "ax1.plot(df_current\n",
    "            .groupby('platform')['total_sales']\n",
    "            .median()\n",
    "            .sort_values(ascending=False))\n",
    "ax1.set_title('Медианные продажи по платформам за 2014-2016гг.')\n",
    "ax1.grid()\n",
    "ax1.set_xlabel('Платформа')\n",
    "ax1.set_ylabel('Продажи, млн.шт.');\n",
    "\n"
   ]
  },
  {
   "cell_type": "code",
   "execution_count": null,
   "id": "33e16f73",
   "metadata": {},
   "outputs": [
    {
     "data": {
      "text/plain": [
       "platform\n",
       "XOne    0.205\n",
       "WiiU    0.190\n",
       "PS4     0.185\n",
       "Wii     0.180\n",
       "X360    0.180\n",
       "Name: total_sales, dtype: float64"
      ]
     },
     "execution_count": 62,
     "metadata": {},
     "output_type": "execute_result"
    }
   ],
   "source": [
    "(df_current\n",
    "    .groupby('platform')['total_sales']\n",
    "    .median()\n",
    "    .sort_values(ascending=False)\n",
    "    .head(5))"
   ]
  },
  {
   "cell_type": "markdown",
   "id": "d9b88daa",
   "metadata": {},
   "source": [
    "**Вывод**\n",
    "\n",
    "Топ5 по самым продаваем в среднем платформам - это WiiU, Wii, XOne, PS4, X360. Показатели продаж на этих платформах в среднем составляют от 100 до 200 тыс.копий. Продаж более 1 млн.копий очень мало на рынке, но чаще всего такие продажи происходят на платформах XOne, WiiU, PS4."
   ]
  },
  {
   "attachments": {},
   "cell_type": "markdown",
   "id": "833c7894",
   "metadata": {},
   "source": [
    "#### Посмотрим, как влияют на продажи внутри одной популярной платформы отзывы пользователей и критиков. \n",
    "\n",
    "Построим диаграмму рассеяния и посчитаем корреляцию между отзывами и продажами. "
   ]
  },
  {
   "cell_type": "markdown",
   "id": "e9669f03",
   "metadata": {},
   "source": [
    "Рассмотрим платформу PS4 как наиболее популярную за последний год на предмет корреляции отзывов и объемов продаж"
   ]
  },
  {
   "cell_type": "code",
   "execution_count": null,
   "id": "78c2d017",
   "metadata": {},
   "outputs": [],
   "source": [
    "df_ps4 = df_current[df_current['platform']=='PS4']"
   ]
  },
  {
   "cell_type": "code",
   "execution_count": null,
   "id": "92183505",
   "metadata": {},
   "outputs": [
    {
     "data": {
      "text/plain": [
       "(376, 12)"
      ]
     },
     "execution_count": 64,
     "metadata": {},
     "output_type": "execute_result"
    }
   ],
   "source": [
    "df_ps4.shape"
   ]
  },
  {
   "cell_type": "markdown",
   "id": "55720c20",
   "metadata": {},
   "source": [
    "Построим диаграмму рассеивания зависимости объемов продаж от оценки критиков и посчитаем корреляцию"
   ]
  },
  {
   "cell_type": "code",
   "execution_count": null,
   "id": "a847e1b3",
   "metadata": {
    "scrolled": true
   },
   "outputs": [
    {
     "data": {
      "image/png": "[encoded data removed]",
      "text/plain": [
       "<Figure size 432x288 with 1 Axes>"
      ]
     },
     "metadata": {
      "needs_background": "light"
     },
     "output_type": "display_data"
    }
   ],
   "source": [
    "df_ps4.plot(\n",
    "    x='total_sales', \n",
    "    y='critic_score', \n",
    "    kind='scatter', \n",
    "    alpha=0.3, \n",
    "    xlim = (0,15), \n",
    "    ylim= (0,110),\n",
    "    title='critic');"
   ]
  },
  {
   "cell_type": "code",
   "execution_count": null,
   "id": "4ca4d1d8",
   "metadata": {
    "scrolled": true
   },
   "outputs": [
    {
     "data": {
      "text/plain": [
       "0.3649325200909993"
      ]
     },
     "execution_count": 66,
     "metadata": {},
     "output_type": "execute_result"
    }
   ],
   "source": [
    "(df_ps4['total_sales']\n",
    "    .astype(int)\n",
    "    .corr(df['critic_score']\n",
    "    .dropna()\n",
    "    .astype(int)))"
   ]
  },
  {
   "cell_type": "markdown",
   "id": "9dd22518",
   "metadata": {},
   "source": [
    "Аналогично посмотрим на зависимость от оценки пользователей"
   ]
  },
  {
   "cell_type": "code",
   "execution_count": null,
   "id": "24a65baa",
   "metadata": {},
   "outputs": [
    {
     "data": {
      "image/png": "[encoded data removed]",
      "text/plain": [
       "<Figure size 432x288 with 1 Axes>"
      ]
     },
     "metadata": {
      "needs_background": "light"
     },
     "output_type": "display_data"
    }
   ],
   "source": [
    "df_ps4.plot(\n",
    "    x='total_sales', \n",
    "    y='user_score', \n",
    "    kind='scatter', \n",
    "    alpha=0.3, \n",
    "    xlim = (0,15), \n",
    "    ylim= (0,10) );"
   ]
  },
  {
   "cell_type": "code",
   "execution_count": null,
   "id": "ac279ee9",
   "metadata": {},
   "outputs": [
    {
     "data": {
      "text/plain": [
       "-0.03138056859079726"
      ]
     },
     "execution_count": 68,
     "metadata": {},
     "output_type": "execute_result"
    }
   ],
   "source": [
    "(df_ps4['total_sales']\n",
    "    .astype(int)\n",
    "    .corr(df['user_score']\n",
    "    .dropna()\n",
    "    .astype(int)))"
   ]
  },
  {
   "cell_type": "markdown",
   "id": "aee3e797",
   "metadata": {},
   "source": [
    "**Вывод:** \n",
    "\n",
    "Между оценкой критиков и объемами продаж существует слабая положительная корреляция в размере 0.37.\n",
    "\n",
    "А между оценкой пользователей и продажами зависимости никакой нет."
   ]
  },
  {
   "attachments": {},
   "cell_type": "markdown",
   "id": "6548cd27",
   "metadata": {},
   "source": [
    "#### Соотнесем выводы с продажами игр на других платформах.\n"
   ]
  },
  {
   "cell_type": "markdown",
   "id": "0a9edf8d",
   "metadata": {},
   "source": [
    "Напишем функцию, которая получает на вход название платформы и выдает корелляции между продажами и оценками"
   ]
  },
  {
   "cell_type": "code",
   "execution_count": null,
   "id": "584fa1e3",
   "metadata": {},
   "outputs": [],
   "source": [
    "def corr_sale_score (pl):\n",
    "    df_pl = df_current[df_current['platform']==pl] #фильтруем датафрейм по платформе, \n",
    "    if df_pl['critic_score'].count()*df_pl['user_score'].count()==0:\n",
    "        return 0 # если по данной платформе нет оценок, то функция возвращает 0\n",
    "    else:\n",
    "\n",
    "        #считаем корреляцию между продажами и оценкой критиков без учета пустых значений\n",
    "        df_pl_1 = df_pl.dropna(subset = ['critic_score'])\n",
    "        corr_s_c = (df_pl_1['total_sales'].corr(df_pl_1['critic_score'])) \n",
    "            \n",
    "        #считаем корреляцию между продажами и оценкой юзеров без учета пустых значений\n",
    "        df_pl_2 = df_pl.dropna(subset = ['user_score'])\n",
    "        corr_s_u = (df_pl_2['total_sales'].corr(df_pl_2['user_score']))\n",
    "        \n",
    "        return (corr_s_c, corr_s_u)"
   ]
  },
  {
   "cell_type": "markdown",
   "id": "be8ea258",
   "metadata": {},
   "source": [
    "Создадим новую таблицу в которой будет представлены корреляции по всем платформам:"
   ]
  },
  {
   "cell_type": "code",
   "execution_count": null,
   "id": "73ce0ac1",
   "metadata": {},
   "outputs": [],
   "source": [
    "corr_matrix = pd.DataFrame({'corr_type': ['corr_sc', 'corr_su']}).set_index('corr_type')"
   ]
  },
  {
   "cell_type": "code",
   "execution_count": null,
   "id": "6440f447",
   "metadata": {},
   "outputs": [
    {
     "data": {
      "text/html": [
       "<div>\n",
       "<style scoped>\n",
       "    .dataframe tbody tr th:only-of-type {\n",
       "        vertical-align: middle;\n",
       "    }\n",
       "\n",
       "    .dataframe tbody tr th {\n",
       "        vertical-align: top;\n",
       "    }\n",
       "\n",
       "    .dataframe thead th {\n",
       "        text-align: right;\n",
       "    }\n",
       "</style>\n",
       "<table border=\"1\" class=\"dataframe\">\n",
       "  <thead>\n",
       "    <tr style=\"text-align: right;\">\n",
       "      <th></th>\n",
       "    </tr>\n",
       "    <tr>\n",
       "      <th>corr_type</th>\n",
       "    </tr>\n",
       "  </thead>\n",
       "  <tbody>\n",
       "    <tr>\n",
       "      <th>corr_sc</th>\n",
       "    </tr>\n",
       "    <tr>\n",
       "      <th>corr_su</th>\n",
       "    </tr>\n",
       "  </tbody>\n",
       "</table>\n",
       "</div>"
      ],
      "text/plain": [
       "Empty DataFrame\n",
       "Columns: []\n",
       "Index: [corr_sc, corr_su]"
      ]
     },
     "execution_count": 71,
     "metadata": {},
     "output_type": "execute_result"
    }
   ],
   "source": [
    "corr_matrix"
   ]
  },
  {
   "cell_type": "code",
   "execution_count": null,
   "id": "618b95d8",
   "metadata": {},
   "outputs": [],
   "source": [
    "for platform in df_current['platform'].unique():\n",
    "    corr_ind = corr_sale_score(platform)\n",
    "    if corr_ind!=0:\n",
    "        corr_matrix.loc['corr_sc',platform]=corr_ind[0]\n",
    "        corr_matrix.loc['corr_su',platform]=corr_ind[1]\n",
    "        "
   ]
  },
  {
   "cell_type": "code",
   "execution_count": null,
   "id": "f51cc240",
   "metadata": {
    "scrolled": true
   },
   "outputs": [
    {
     "data": {
      "text/html": [
       "<div>\n",
       "<style scoped>\n",
       "    .dataframe tbody tr th:only-of-type {\n",
       "        vertical-align: middle;\n",
       "    }\n",
       "\n",
       "    .dataframe tbody tr th {\n",
       "        vertical-align: top;\n",
       "    }\n",
       "\n",
       "    .dataframe thead th {\n",
       "        text-align: right;\n",
       "    }\n",
       "</style>\n",
       "<table border=\"1\" class=\"dataframe\">\n",
       "  <thead>\n",
       "    <tr style=\"text-align: right;\">\n",
       "      <th></th>\n",
       "      <th>PS4</th>\n",
       "      <th>3DS</th>\n",
       "      <th>XOne</th>\n",
       "      <th>WiiU</th>\n",
       "      <th>PS3</th>\n",
       "      <th>X360</th>\n",
       "      <th>PC</th>\n",
       "      <th>PSV</th>\n",
       "    </tr>\n",
       "    <tr>\n",
       "      <th>corr_type</th>\n",
       "      <th></th>\n",
       "      <th></th>\n",
       "      <th></th>\n",
       "      <th></th>\n",
       "      <th></th>\n",
       "      <th></th>\n",
       "      <th></th>\n",
       "      <th></th>\n",
       "    </tr>\n",
       "  </thead>\n",
       "  <tbody>\n",
       "    <tr>\n",
       "      <th>corr_sc</th>\n",
       "      <td>0.402661</td>\n",
       "      <td>0.314117</td>\n",
       "      <td>0.428677</td>\n",
       "      <td>0.370201</td>\n",
       "      <td>0.446575</td>\n",
       "      <td>0.525723</td>\n",
       "      <td>0.174634</td>\n",
       "      <td>0.042665</td>\n",
       "    </tr>\n",
       "    <tr>\n",
       "      <th>corr_su</th>\n",
       "      <td>-0.040132</td>\n",
       "      <td>0.215193</td>\n",
       "      <td>-0.070384</td>\n",
       "      <td>0.407926</td>\n",
       "      <td>-0.166761</td>\n",
       "      <td>-0.138445</td>\n",
       "      <td>-0.071597</td>\n",
       "      <td>-0.168455</td>\n",
       "    </tr>\n",
       "  </tbody>\n",
       "</table>\n",
       "</div>"
      ],
      "text/plain": [
       "                PS4       3DS      XOne      WiiU       PS3      X360  \\\n",
       "corr_type                                                               \n",
       "corr_sc    0.402661  0.314117  0.428677  0.370201  0.446575  0.525723   \n",
       "corr_su   -0.040132  0.215193 -0.070384  0.407926 -0.166761 -0.138445   \n",
       "\n",
       "                 PC       PSV  \n",
       "corr_type                      \n",
       "corr_sc    0.174634  0.042665  \n",
       "corr_su   -0.071597 -0.168455  "
      ]
     },
     "execution_count": 73,
     "metadata": {},
     "output_type": "execute_result"
    }
   ],
   "source": [
    "corr_matrix"
   ]
  },
  {
   "cell_type": "markdown",
   "id": "629ddb05",
   "metadata": {},
   "source": [
    "Построим отдельно для платформ выше также диаграммы рассеивания"
   ]
  },
  {
   "cell_type": "code",
   "execution_count": null,
   "id": "cd6ab75e",
   "metadata": {},
   "outputs": [
    {
     "data": {
      "image/png": "[encoded data removed]",
      "text/plain": [
       "<Figure size 792x360 with 2 Axes>"
      ]
     },
     "metadata": {
      "needs_background": "light"
     },
     "output_type": "display_data"
    },
    {
     "data": {
      "image/png": "[encoded data removed]",
      "text/plain": [
       "<Figure size 792x360 with 2 Axes>"
      ]
     },
     "metadata": {
      "needs_background": "light"
     },
     "output_type": "display_data"
    },
    {
     "data": {
      "image/png": "[encoded data removed]",
      "text/plain": [
       "<Figure size 792x360 with 2 Axes>"
      ]
     },
     "metadata": {
      "needs_background": "light"
     },
     "output_type": "display_data"
    },
    {
     "data": {
      "image/png": "[encoded data removed]",
      "text/plain": [
       "<Figure size 792x360 with 2 Axes>"
      ]
     },
     "metadata": {
      "needs_background": "light"
     },
     "output_type": "display_data"
    },
    {
     "data": {
      "image/png": "[encoded data removed]",
      "text/plain": [
       "<Figure size 792x360 with 2 Axes>"
      ]
     },
     "metadata": {
      "needs_background": "light"
     },
     "output_type": "display_data"
    },
    {
     "data": {
      "image/png": "[encoded data removed]",
      "text/plain": [
       "<Figure size 792x360 with 2 Axes>"
      ]
     },
     "metadata": {
      "needs_background": "light"
     },
     "output_type": "display_data"
    },
    {
     "data": {
      "image/png": "[encoded data removed]",
      "text/plain": [
       "<Figure size 792x360 with 2 Axes>"
      ]
     },
     "metadata": {
      "needs_background": "light"
     },
     "output_type": "display_data"
    },
    {
     "data": {
      "image/png": "[encoded data removed]",
      "text/plain": [
       "<Figure size 792x360 with 2 Axes>"
      ]
     },
     "metadata": {
      "needs_background": "light"
     },
     "output_type": "display_data"
    },
    {
     "data": {
      "image/png": "[encoded data removed]",
      "text/plain": [
       "<Figure size 792x360 with 2 Axes>"
      ]
     },
     "metadata": {
      "needs_background": "light"
     },
     "output_type": "display_data"
    }
   ],
   "source": [
    "for platform in df_current['platform'].unique():\n",
    "    \n",
    "        fig, (ax1, ax2) = plt.subplots(nrows=1, ncols=2, figsize=(11,5))\n",
    "        \n",
    "        ax1.scatter(df_current[df_current['platform']==platform]['total_sales'], \n",
    "                   df_current[df_current['platform']==platform]['critic_score'])\n",
    "        ax1.set_title(platform)\n",
    "        ax1.grid()\n",
    "        ax1.set_xlabel('Продажи, млн.шт.')\n",
    "        ax1.set_ylabel('Оценка критиков')\n",
    "        \n",
    "        \n",
    "        ax2.scatter(df_current[df_current['platform']==platform]['total_sales'], \n",
    "                   df_current[df_current['platform']==platform]['user_score'])\n",
    "        ax2.set_title(platform)\n",
    "        ax2.grid()\n",
    "        ax2.set_xlabel('Продажи, млн.шт.')\n",
    "        ax2.set_ylabel('Оценка пользователей')\n",
    "  \n",
    "        fig.subplots_adjust(hspace=0.6)"
   ]
  },
  {
   "cell_type": "markdown",
   "id": "6f928001",
   "metadata": {},
   "source": [
    "**Вывод:**\n",
    "\n",
    "По большинству платформ существует слабая связь между продажами и оценкой критиков, кроме платформы PSV, по которой нет никакой зависимости.\n",
    "\n",
    "Зависимость продаж от оценки пользователей очень слабая, в разы меньше или отсутствует вовсе.\n",
    "\n",
    "Выбивается из общего вывода только платформа WiiU, на которой зависимость продаж от оценки пользователей немного выше, чем от оценки критиков. "
   ]
  },
  {
   "attachments": {},
   "cell_type": "markdown",
   "id": "d5ccb697",
   "metadata": {},
   "source": [
    "#### Посмотрим на общее распределение игр по жанрам. \n"
   ]
  },
  {
   "cell_type": "markdown",
   "id": "49dac584",
   "metadata": {},
   "source": [
    "Посмотрим на распределение общих продаж и медианных продаж по жанрам и отсортируем по самым прибыльным в среднем"
   ]
  },
  {
   "cell_type": "code",
   "execution_count": null,
   "id": "92c39dd2",
   "metadata": {},
   "outputs": [
    {
     "data": {
      "image/png": "[encoded data removed]",
      "text/plain": [
       "<Figure size 720x360 with 1 Axes>"
      ]
     },
     "metadata": {
      "needs_background": "light"
     },
     "output_type": "display_data"
    }
   ],
   "source": [
    "(df_current.boxplot(\n",
    "    by='genre', \n",
    "    column='total_sales', \n",
    "    showfliers=False, \n",
    "    figsize=(10,5), \n",
    "    rot=30)\n",
    "    .set_ylabel('Продажи, млн.шт.'));"
   ]
  },
  {
   "cell_type": "markdown",
   "id": "b86829c8",
   "metadata": {},
   "source": [
    "Отдельно посмотрим в табличном виде"
   ]
  },
  {
   "cell_type": "code",
   "execution_count": null,
   "id": "d8cd7457",
   "metadata": {},
   "outputs": [],
   "source": [
    "df_genre = (df_current.pivot_table(\n",
    "    index = ('genre'), \n",
    "    values = 'total_sales', \n",
    "    aggfunc = ('count', 'sum', 'median'))\n",
    "    .sort_values('median', ascending=False))"
   ]
  },
  {
   "cell_type": "code",
   "execution_count": null,
   "id": "6e188a01",
   "metadata": {},
   "outputs": [
    {
     "data": {
      "text/html": [
       "<div>\n",
       "<style scoped>\n",
       "    .dataframe tbody tr th:only-of-type {\n",
       "        vertical-align: middle;\n",
       "    }\n",
       "\n",
       "    .dataframe tbody tr th {\n",
       "        vertical-align: top;\n",
       "    }\n",
       "\n",
       "    .dataframe thead th {\n",
       "        text-align: right;\n",
       "    }\n",
       "</style>\n",
       "<table border=\"1\" class=\"dataframe\">\n",
       "  <thead>\n",
       "    <tr style=\"text-align: right;\">\n",
       "      <th></th>\n",
       "      <th>count</th>\n",
       "      <th>median</th>\n",
       "      <th>sum</th>\n",
       "    </tr>\n",
       "    <tr>\n",
       "      <th>genre</th>\n",
       "      <th></th>\n",
       "      <th></th>\n",
       "      <th></th>\n",
       "    </tr>\n",
       "  </thead>\n",
       "  <tbody>\n",
       "    <tr>\n",
       "      <th>Shooter</th>\n",
       "      <td>128</td>\n",
       "      <td>0.515</td>\n",
       "      <td>170.94</td>\n",
       "    </tr>\n",
       "    <tr>\n",
       "      <th>Sports</th>\n",
       "      <td>160</td>\n",
       "      <td>0.190</td>\n",
       "      <td>109.39</td>\n",
       "    </tr>\n",
       "    <tr>\n",
       "      <th>Platform</th>\n",
       "      <td>38</td>\n",
       "      <td>0.140</td>\n",
       "      <td>18.09</td>\n",
       "    </tr>\n",
       "    <tr>\n",
       "      <th>Fighting</th>\n",
       "      <td>60</td>\n",
       "      <td>0.125</td>\n",
       "      <td>28.22</td>\n",
       "    </tr>\n",
       "    <tr>\n",
       "      <th>Role-Playing</th>\n",
       "      <td>221</td>\n",
       "      <td>0.110</td>\n",
       "      <td>101.44</td>\n",
       "    </tr>\n",
       "    <tr>\n",
       "      <th>Simulation</th>\n",
       "      <td>44</td>\n",
       "      <td>0.100</td>\n",
       "      <td>13.13</td>\n",
       "    </tr>\n",
       "    <tr>\n",
       "      <th>Action</th>\n",
       "      <td>613</td>\n",
       "      <td>0.090</td>\n",
       "      <td>199.16</td>\n",
       "    </tr>\n",
       "    <tr>\n",
       "      <th>Misc</th>\n",
       "      <td>111</td>\n",
       "      <td>0.090</td>\n",
       "      <td>37.53</td>\n",
       "    </tr>\n",
       "    <tr>\n",
       "      <th>Racing</th>\n",
       "      <td>69</td>\n",
       "      <td>0.090</td>\n",
       "      <td>27.52</td>\n",
       "    </tr>\n",
       "    <tr>\n",
       "      <th>Strategy</th>\n",
       "      <td>37</td>\n",
       "      <td>0.060</td>\n",
       "      <td>3.96</td>\n",
       "    </tr>\n",
       "    <tr>\n",
       "      <th>Puzzle</th>\n",
       "      <td>14</td>\n",
       "      <td>0.045</td>\n",
       "      <td>2.21</td>\n",
       "    </tr>\n",
       "    <tr>\n",
       "      <th>Adventure</th>\n",
       "      <td>181</td>\n",
       "      <td>0.030</td>\n",
       "      <td>17.50</td>\n",
       "    </tr>\n",
       "  </tbody>\n",
       "</table>\n",
       "</div>"
      ],
      "text/plain": [
       "              count  median     sum\n",
       "genre                              \n",
       "Shooter         128   0.515  170.94\n",
       "Sports          160   0.190  109.39\n",
       "Platform         38   0.140   18.09\n",
       "Fighting         60   0.125   28.22\n",
       "Role-Playing    221   0.110  101.44\n",
       "Simulation       44   0.100   13.13\n",
       "Action          613   0.090  199.16\n",
       "Misc            111   0.090   37.53\n",
       "Racing           69   0.090   27.52\n",
       "Strategy         37   0.060    3.96\n",
       "Puzzle           14   0.045    2.21\n",
       "Adventure       181   0.030   17.50"
      ]
     },
     "execution_count": 77,
     "metadata": {},
     "output_type": "execute_result"
    }
   ],
   "source": [
    "df_genre"
   ]
  },
  {
   "cell_type": "code",
   "execution_count": null,
   "id": "c191b5be",
   "metadata": {
    "scrolled": true
   },
   "outputs": [
    {
     "data": {
      "image/png": "[encoded data removed]",
      "text/plain": [
       "<Figure size 432x288 with 1 Axes>"
      ]
     },
     "metadata": {
      "needs_background": "light"
     },
     "output_type": "display_data"
    }
   ],
   "source": [
    "df_genre['median'].plot(kind='bar', ylabel='median sales');"
   ]
  },
  {
   "cell_type": "markdown",
   "id": "7c98b390",
   "metadata": {},
   "source": [
    "**Вывод:**\n",
    "\n",
    "За последние  2 года самымим прибыльными и популярными жанрами являются Shooter, Sports, Platform.\n",
    "\n",
    "Особенно выделяется жанр Shooter - в нем значительно выше средние показатели продаж и  большие общие продажи в целом среди всех жанров.\n",
    "\n",
    "Жанр Action  выделяется тем, что там больше всего выпускается игр и больше всего общего объема продаж, но с невысоким среднем показателем по продажам за игру."
   ]
  },
  {
   "attachments": {},
   "cell_type": "markdown",
   "id": "6f5ff08c",
   "metadata": {},
   "source": [
    "### Составим портрет пользователя каждого региона\n",
    "\n",
    "Определим для пользователя каждого региона (NA, EU, JP):"
   ]
  },
  {
   "attachments": {},
   "cell_type": "markdown",
   "id": "ecf7599e",
   "metadata": {},
   "source": [
    "#### Самые популярные платформы (топ-5). \n",
    "\n",
    "Опишим различия в долях продаж."
   ]
  },
  {
   "cell_type": "markdown",
   "id": "bcc23a3f",
   "metadata": {},
   "source": [
    "Построим круговую диаграмму распределения по жанрам в разных регионах. Выведем ТОП5 жанров и остальный жанры объеними в категорию Другие"
   ]
  },
  {
   "cell_type": "code",
   "execution_count": null,
   "id": "a2c8e1d7",
   "metadata": {},
   "outputs": [],
   "source": [
    "regions = ('na_sales', 'eu_sales', 'jp_sales')"
   ]
  },
  {
   "cell_type": "code",
   "execution_count": null,
   "id": "7a407b22",
   "metadata": {},
   "outputs": [
    {
     "name": "stdout",
     "output_type": "stream",
     "text": [
      "                 na_sales  portion\n",
      "platform                          \n",
      "PS4                 98.61    34.71\n",
      "XOne                81.27    28.61\n",
      "X360                28.30     9.96\n",
      "3DS                 22.64     7.97\n",
      "PS3                 22.05     7.76\n",
      "Other platforms     31.19    10.98\n"
     ]
    },
    {
     "data": {
      "image/png": "[encoded data removed]",
      "text/plain": [
       "<Figure size 432x288 with 1 Axes>"
      ]
     },
     "metadata": {},
     "output_type": "display_data"
    },
    {
     "name": "stdout",
     "output_type": "stream",
     "text": [
      "                 eu_sales  portion\n",
      "platform                          \n",
      "PS4                130.04    48.04\n",
      "XOne                46.25    17.09\n",
      "PS3                 25.54     9.44\n",
      "PC                  17.97     6.64\n",
      "3DS                 16.12     5.96\n",
      "Other platforms     34.76    12.84\n"
     ]
    },
    {
     "data": {
      "image/png": "[encoded data removed]",
      "text/plain": [
       "<Figure size 432x288 with 1 Axes>"
      ]
     },
     "metadata": {},
     "output_type": "display_data"
    },
    {
     "name": "stdout",
     "output_type": "stream",
     "text": [
      "                 jp_sales  portion\n",
      "platform                          \n",
      "3DS                 44.24    47.71\n",
      "PS4                 15.02    16.20\n",
      "PSV                 14.54    15.68\n",
      "PS3                 11.22    12.10\n",
      "WiiU                 7.31     7.88\n",
      "Other platforms      0.40     0.43\n"
     ]
    },
    {
     "data": {
      "image/png": "[encoded data removed]",
      "text/plain": [
       "<Figure size 432x288 with 1 Axes>"
      ]
     },
     "metadata": {},
     "output_type": "display_data"
    }
   ],
   "source": [
    "for r in regions:\n",
    "    df_r = df_current.pivot_table(index='platform', values=r, aggfunc='sum')\n",
    "    df_r = df_r.sort_values(by=r,ascending=False)\n",
    "    df_r.iloc[5,0] = df_r.iloc[:,0].sum(axis=0) - df_r.iloc[0:5,0].sum(axis=0)\n",
    "    df_r.rename(index={df_r.index[5]:'Other platforms'}, inplace= True )\n",
    "    df_r=df_r.head(6)\n",
    "    df_r['portion'] = round(100*df_r[r]/sum (df_r[r]),2)\n",
    "    print (df_r);\n",
    "    df_r.plot(y=r, kind='pie', legend=False, autopct='%1.1f%%');\n",
    "    plt.show()"
   ]
  },
  {
   "cell_type": "markdown",
   "id": "9543cdde",
   "metadata": {},
   "source": [
    "Вывод по данным за последние 6 лет.\n",
    "\n",
    "Топ5 популярных платформ в разных регионах представлен ниже.\n",
    "\n",
    "| platform   | na_sales  | portion,% |                \n",
    "| ---        | ---     | ---    |\n",
    "|PS4                 |98.61    |34.71|\n",
    "|XOne                |81.27    |28.61|\n",
    "|X360                |28.30    | 9.96|\n",
    "|3DS                 |22.64    | 7.97|\n",
    "|PS3                 |22.05    | 7.76|\n",
    "\n",
    "             \n",
    "|platform   |eu_sales |portion,%|\n",
    "| ---       | ---     | --- |\n",
    "|PS4                |130.04    |48.04|\n",
    "|XOne               | 46.25    |17.09|\n",
    "|PS3                | 25.54    | 9.44|\n",
    "|PC                 | 17.97    | 6.64|\n",
    "|3DS                | 16.12    | 5.96|\n",
    "\n",
    " \n",
    "|platform   |jp_sales  |portion,%|\n",
    "| ---       | ---     | --- |\n",
    "|3DS                 |44.24    |47.71|\n",
    "|PS4                 |15.02    |16.20|\n",
    "|PSV                 |14.54    |15.68|\n",
    "|PS3                 |11.22    |12.10|\n",
    "|WiiU                | 7.31    | 7.88|\n",
    "\n",
    "\n",
    "Популярность платформ в Америке и Европе очень похожа. 2ка лидеров одна и та же - это PS4 и XOne. Они занимают примерно две трети всего рынка. В Европе PS4 занимает около половины всего рынка, в Америке отрыв не настолько большой. Остальные платформы занимают 10% и меньше от доли рынка.\n",
    "\n",
    "В Японии предпочтения по платформам отличаются - лидеры 3DS и PS4, они тоже занимают 2/3 от всего рынка. Лидер рынка 3DS занимает долю 48%, хотя в Америке и Европе эта платформа лишь замыкает топ5 платформ с долей примерно 6-7%. В Японии достаточно популярна платформа PSV с долей 15%, которая на западе даже не попадает в топ5.\n",
    "\n",
    "Можно сказать, что платформа PS4 самая универсальная. Она занимает уверенное лидерство на западе и уступает только 3DS в Японии. \n",
    "\n"
   ]
  },
  {
   "attachments": {},
   "cell_type": "markdown",
   "id": "2a959f18",
   "metadata": {},
   "source": [
    "#### Самые популярные жанры (топ-5). "
   ]
  },
  {
   "cell_type": "markdown",
   "id": "0477becf",
   "metadata": {},
   "source": [
    "Построим круговую диаграмму распределения по жанрам в разных регионах"
   ]
  },
  {
   "cell_type": "code",
   "execution_count": null,
   "id": "a6b5733d",
   "metadata": {},
   "outputs": [
    {
     "name": "stdout",
     "output_type": "stream",
     "text": [
      "              na_sales  portion\n",
      "genre                          \n",
      "Shooter          79.02    27.82\n",
      "Action           72.53    25.53\n",
      "Sports           46.13    16.24\n",
      "Role-Playing     33.47    11.78\n",
      "Misc             15.05     5.30\n",
      "Other genre      37.86    13.33\n"
     ]
    },
    {
     "data": {
      "image/png": "[encoded data removed]",
      "text/plain": [
       "<Figure size 432x288 with 1 Axes>"
      ]
     },
     "metadata": {},
     "output_type": "display_data"
    },
    {
     "name": "stdout",
     "output_type": "stream",
     "text": [
      "              eu_sales  portion\n",
      "genre                          \n",
      "Action           74.68    27.59\n",
      "Shooter          65.52    24.21\n",
      "Sports           45.73    16.89\n",
      "Role-Playing     28.17    10.41\n",
      "Racing           14.13     5.22\n",
      "Other genre      42.45    15.68\n"
     ]
    },
    {
     "data": {
      "image/png": "[encoded data removed]",
      "text/plain": [
       "<Figure size 432x288 with 1 Axes>"
      ]
     },
     "metadata": {},
     "output_type": "display_data"
    },
    {
     "name": "stdout",
     "output_type": "stream",
     "text": [
      "              jp_sales  portion\n",
      "genre                          \n",
      "Role-Playing     31.16    33.60\n",
      "Action           29.38    31.68\n",
      "Fighting          6.37     6.87\n",
      "Misc              5.59     6.03\n",
      "Shooter           4.87     5.25\n",
      "Other genre      15.36    16.56\n"
     ]
    },
    {
     "data": {
      "image/png": "[encoded data removed]",
      "text/plain": [
       "<Figure size 432x288 with 1 Axes>"
      ]
     },
     "metadata": {},
     "output_type": "display_data"
    }
   ],
   "source": [
    "for r in regions:\n",
    "    df_r = df_current.pivot_table(index='genre', values=r, aggfunc='sum')\n",
    "    df_r = df_r.sort_values(by=r,ascending=False)\n",
    "    df_r.iloc[5,0] = df_r.iloc[:,0].sum(axis=0) - df_r.iloc[0:5,0].sum(axis=0)\n",
    "    df_r.rename(index={df_r.index[5]:'Other genre'}, inplace= True )\n",
    "    df_r=df_r.head(6)\n",
    "    df_r['portion'] = round(100*df_r[r]/sum (df_r[r]),2)\n",
    "    print (df_r);\n",
    "    df_r.plot(y=r, kind='pie', legend=False, autopct='%1.1f%%');\n",
    "    plt.show()"
   ]
  },
  {
   "cell_type": "markdown",
   "id": "f8afbaa0",
   "metadata": {},
   "source": [
    "**Вывод** \n",
    "\n",
    "Топ5 популярных жанров в разных регионах представлен ниже.\n",
    "\n",
    "|genre         |na_sales   |portion|   \n",
    "| ---       | ---    | ---    |\n",
    "|Shooter     |     48.18   | 31.74|\n",
    "|Action      |     33.68   | 22.19|\n",
    "|Sports      |     26.31   | 17.33|\n",
    "|Role-Playing|     19.82   | 13.06|\n",
    "|Misc        |      5.58   |  3.68|\n",
    "|Other genre |     18.22   | 12.00|\n",
    "\n",
    "             \n",
    "|genre         |eu_sales  |portion |\n",
    "| ---       | ---    | ---    |\n",
    "|Shooter      |    40.28  |  27.23|\n",
    "|Action       |    34.82  |  23.54|\n",
    "|Sports       |    27.82  |  18.80|\n",
    "|Role-Playing |    17.21  |  11.63|\n",
    "|Racing       |     6.52  |   4.41|\n",
    "|Other genre  |    21.29  |  14.39|\n",
    " \n",
    " \n",
    "|genre          |jp_sales  |portion|    \n",
    "| ---       | ---    | ---    |\n",
    "|Action           |22.93   | 43.04|\n",
    "|Role-Playing     |13.41   | 25.17|\n",
    "|Shooter          | 3.79   |  7.11|\n",
    "|Misc             | 3.19   |  5.99|\n",
    "|Adventure        | 2.22   |  4.17|\n",
    "|Other genre      | 7.74   | 14.53|\n",
    "\n",
    "\n",
    "В Америке и Европе очень похожие предпочтения по жанрам. Первые 4 места по предпочтениям одинаковые с одинаковыми долями. Это Shooter, Action, Sports, Role-Playing. Отличие только в 5м месте - Misc в Америке, вместо Racing в Европе.\n",
    "\n",
    "В Японии совсем иная картина. На первом месте там со значительным отрывом Action и Role-Playing, которые занимают 2/3 рынка. Остальные жанры представлены сильно реже.\n",
    "\n",
    "Жанр Action самый популярный в среднем. Он не сильно уступает лидеру Shooter на западе и удерживает уверенное лидерство в Японии с долей 43%"
   ]
  },
  {
   "cell_type": "code",
   "execution_count": null,
   "id": "53e83e65",
   "metadata": {},
   "outputs": [],
   "source": []
  },
  {
   "cell_type": "markdown",
   "id": "2fecdab4",
   "metadata": {},
   "source": [
    "#### Влияет ли рейтинг ESRB на продажи в отдельном регионе?\n"
   ]
  },
  {
   "cell_type": "markdown",
   "id": "2fac2fb1",
   "metadata": {},
   "source": [
    "Посмотрим в каждом регионе как продаются игры в зависимости от рейтинга. Для каждого региона сделаем срез игр, которые имеют не нулевой объем продаж, т.е. имеются там в продаже. Т.к. иначе в расчет могут попасть игры, которые есть на общем рынке, но по каким-то причинам не продаются в конкретном регионе."
   ]
  },
  {
   "cell_type": "markdown",
   "id": "647c2e51",
   "metadata": {},
   "source": [
    "Срез игр в Северной Америке:"
   ]
  },
  {
   "cell_type": "code",
   "execution_count": null,
   "id": "e9a385d8",
   "metadata": {},
   "outputs": [],
   "source": [
    "df_na=df_current[df_current['na_sales']>0]"
   ]
  },
  {
   "cell_type": "code",
   "execution_count": null,
   "id": "f317f72a",
   "metadata": {},
   "outputs": [],
   "source": [
    "df_r = (df_na\n",
    "    .pivot_table (index=('rating'), values='na_sales', aggfunc=('sum', 'count', 'mean'))\n",
    "    .sort_values(by='mean', ascending=False))\n",
    "df_r.rename(columns={'na_sales':'count'}, inplace= True )\n",
    "df_r['portion'] = round(100*df_r['count']/sum (df_r['count']),2)"
   ]
  },
  {
   "cell_type": "code",
   "execution_count": null,
   "id": "cff336b7",
   "metadata": {},
   "outputs": [
    {
     "name": "stdout",
     "output_type": "stream",
     "text": [
      "        count      mean    sum  portion\n",
      "rating                                 \n",
      "M         237  0.406835  96.42    24.16\n",
      "E         155  0.327355  50.74    15.80\n",
      "ND        234  0.276581  64.72    23.85\n",
      "E10+      162  0.205123  33.23    16.51\n",
      "T         193  0.201813  38.95    19.67\n"
     ]
    },
    {
     "data": {
      "image/png": "[encoded data removed]",
      "text/plain": [
       "<Figure size 432x288 with 1 Axes>"
      ]
     },
     "metadata": {},
     "output_type": "display_data"
    }
   ],
   "source": [
    "print(df_r)\n",
    "df_r.plot(y='count', kind='pie', legend=False, autopct='%1.1f%%');\n",
    "plt.show()"
   ]
  },
  {
   "cell_type": "markdown",
   "id": "ac8dc216",
   "metadata": {},
   "source": [
    "Срез игр в Европе:"
   ]
  },
  {
   "cell_type": "code",
   "execution_count": null,
   "id": "c4ba040d",
   "metadata": {},
   "outputs": [],
   "source": [
    "df_eu=df_current[df_current['eu_sales']>0]"
   ]
  },
  {
   "cell_type": "code",
   "execution_count": null,
   "id": "10e4dcee",
   "metadata": {},
   "outputs": [],
   "source": [
    "df_r = (df_eu\n",
    "    .pivot_table (index=('rating'), values='eu_sales', aggfunc=('sum', 'count', 'mean'))\n",
    "    .sort_values(by='mean', ascending=False))\n",
    "df_r.rename(columns={'eu_sales':'count'}, inplace= True )\n",
    "df_r['portion'] = round(100*df_r['count']/sum (df_r['count']),2)"
   ]
  },
  {
   "cell_type": "code",
   "execution_count": null,
   "id": "8c2a40e2",
   "metadata": {},
   "outputs": [
    {
     "name": "stdout",
     "output_type": "stream",
     "text": [
      "        count      mean    sum  portion\n",
      "rating                                 \n",
      "M         242  0.386116  93.44    22.68\n",
      "E         190  0.305579  58.06    17.81\n",
      "ND        264  0.223295  58.95    24.74\n",
      "T         203  0.167833  34.07    19.03\n",
      "E10+      168  0.155714  26.16    15.75\n"
     ]
    },
    {
     "data": {
      "image/png": "[encoded data removed]",
      "text/plain": [
       "<Figure size 432x288 with 1 Axes>"
      ]
     },
     "metadata": {},
     "output_type": "display_data"
    }
   ],
   "source": [
    "print(df_r)\n",
    "df_r.plot(y='count', kind='pie', legend=False, autopct='%1.1f%%');\n",
    "plt.show()"
   ]
  },
  {
   "cell_type": "markdown",
   "id": "21035122",
   "metadata": {},
   "source": [
    "Срез игр в Японии и диаграмма по рейтингу:"
   ]
  },
  {
   "cell_type": "code",
   "execution_count": null,
   "id": "536a84b6",
   "metadata": {},
   "outputs": [],
   "source": [
    "df_jp=df_current[df_current['jp_sales']>0]"
   ]
  },
  {
   "cell_type": "code",
   "execution_count": null,
   "id": "70c8bd3d",
   "metadata": {
    "scrolled": false
   },
   "outputs": [],
   "source": [
    "df_r = (df_jp\n",
    "    .pivot_table (index=('rating'), values='jp_sales', aggfunc=('sum', 'count', 'mean'))\n",
    "    .sort_values(by='mean', ascending=False))\n",
    "df_r.rename(columns={'jp_sales':'count'}, inplace= True )\n",
    "df_r['portion'] = round(100*df_r['count']/sum (df_r['count']),2)"
   ]
  },
  {
   "cell_type": "code",
   "execution_count": null,
   "id": "3be5abc6",
   "metadata": {},
   "outputs": [
    {
     "name": "stdout",
     "output_type": "stream",
     "text": [
      "        count      mean    sum  portion\n",
      "rating                                 \n",
      "E          54  0.165556   8.94     6.28\n",
      "ND        521  0.108522  56.54    60.58\n",
      "T         139  0.106331  14.78    16.16\n",
      "E10+       42  0.106190   4.46     4.88\n",
      "M         104  0.077019   8.01    12.09\n"
     ]
    },
    {
     "data": {
      "image/png": "[encoded data removed]",
      "text/plain": [
       "<Figure size 432x288 with 1 Axes>"
      ]
     },
     "metadata": {},
     "output_type": "display_data"
    }
   ],
   "source": [
    "print(df_r)\n",
    "df_r.plot(y='count', kind='pie', legend=False, autopct='%1.1f%%');\n",
    "plt.show()"
   ]
  },
  {
   "cell_type": "markdown",
   "id": "2d9ee2f1",
   "metadata": {},
   "source": [
    "**Вывод:**\n",
    "\n",
    "В америке и европе ситуация похожа. \n",
    "- Больше всего по продажам в абсолютном и в среднем за игру приносят игры с рейтингом М - около 400тыс.копий и с этим рейтингом больше всех продаж в сумме. \n",
    "- На втором месте игры с рейтингом Е - около 320 тыс. копий за игру. \n",
    "- Игры с рейтингом E10+ и Т продаются в 2 раза хуже.\n",
    "- Игры без рейтинга продаются на уровне игр с рейтингом Е\n",
    "\n",
    "В японии ситуация немного иная. \n",
    "- Больше всего проданных игр без рейтига ESRB, их продается более 60% от всех продаваемых игр в регионе. \n",
    "- Но лучше всего в среднем продаются игры с рейтингом Е, хотя количество таких игр в регионе не большое.\n",
    "\n",
    "В итоге игры с рейтингом Е хорошо продаются во всех регионах.\n",
    "Но если смотреть в абсолютном выражении, то игры с рейтингом М за счет лучших продаж Европе и Америке более прибыльны в целом."
   ]
  },
  {
   "cell_type": "markdown",
   "id": "c16a39b6",
   "metadata": {},
   "source": [
    "###  Гипотезы"
   ]
  },
  {
   "attachments": {},
   "cell_type": "markdown",
   "id": "bfcaebca",
   "metadata": {},
   "source": [
    "#### Средние пользовательские рейтинги платформ Xbox One и PC одинаковые;\n"
   ]
  },
  {
   "cell_type": "markdown",
   "id": "6dc87e9b",
   "metadata": {},
   "source": [
    "Нулевая гипотеза: средние пользовательские рейтинги платформ Xbox One и PC одинаковые\n",
    "Альтернативная гипотеза: средние пользовательские рейтинги платформ Xbox One и PC отличаются\n",
    "\n",
    "Проверим условия для проведения ttest_ind о равенстве средних.\n",
    "\n",
    "1. Генеральные совокупности не должны зависеть друг от друга.\n",
    "2. Выборочные средние должны быть нормально распределены.\n",
    "3. Дисперсии рассматриваемых генеральных совокупностей должны быть равны.\n"
   ]
  },
  {
   "cell_type": "code",
   "execution_count": null,
   "id": "029abbf3",
   "metadata": {},
   "outputs": [],
   "source": [
    "df_xone = df_current[df_current['platform']=='XOne']['user_score'].dropna()"
   ]
  },
  {
   "cell_type": "code",
   "execution_count": null,
   "id": "c2f553b7",
   "metadata": {},
   "outputs": [],
   "source": [
    "df_pc = df_current[df_current['platform']=='PC']['user_score'].dropna()"
   ]
  },
  {
   "cell_type": "code",
   "execution_count": null,
   "id": "5afbd66a",
   "metadata": {},
   "outputs": [
    {
     "name": "stdout",
     "output_type": "stream",
     "text": [
      "165 122\n"
     ]
    }
   ],
   "source": [
    "print (df_xone.shape[0], df_pc.shape[0])\n"
   ]
  },
  {
   "attachments": {},
   "cell_type": "markdown",
   "id": "2f0f5ef4",
   "metadata": {},
   "source": [
    "Выборки рейтингов игр на Xbox One и PC независимые, т.к. распространяются на разных конечных пользователей. \n",
    "Выборки достаточно большие, поэтому можно предположить, что распределение в них нормальное и дисперсии равны"
   ]
  },
  {
   "cell_type": "code",
   "execution_count": null,
   "id": "fd416460",
   "metadata": {},
   "outputs": [],
   "source": [
    "alpha=0.05 #определим так уровень значимости"
   ]
  },
  {
   "cell_type": "code",
   "execution_count": null,
   "id": "667e068f",
   "metadata": {},
   "outputs": [
    {
     "name": "stdout",
     "output_type": "stream",
     "text": [
      "p-значение: 0.10450507919348415\n",
      "Не получилось отвергнуть нулевую гипотезу\n"
     ]
    }
   ],
   "source": [
    "results = st.ttest_ind(df_xone, df_pc, equal_var = True)\n",
    "\n",
    "print('p-значение:', results.pvalue)\n",
    "\n",
    "if results.pvalue < alpha:\n",
    "    print(\"Отвергаем нулевую гипотезу\")\n",
    "else:\n",
    "    print(\"Не получилось отвергнуть нулевую гипотезу\") "
   ]
  },
  {
   "cell_type": "code",
   "execution_count": null,
   "id": "ca233ff5",
   "metadata": {},
   "outputs": [
    {
     "name": "stdout",
     "output_type": "stream",
     "text": [
      "Средний рейтинг по платформе XOne: 6.594545454545456\n",
      "Средний рейтинг по платформе PC: 6.298360655737705\n"
     ]
    }
   ],
   "source": [
    "print (f'Средний рейтинг по платформе XOne: {df_xone.mean()}')\n",
    "print (f'Средний рейтинг по платформе PC: {df_pc.mean()}')"
   ]
  },
  {
   "cell_type": "markdown",
   "id": "82bb0564",
   "metadata": {},
   "source": [
    "**Вывод**\n",
    "\n",
    "На имеющихся данных, на уровне значимости 5% есть основания принять нулевую гипотезу о равенстве среднего пользовательского рейтинга игр на платформах Xbox One и PC "
   ]
  },
  {
   "attachments": {},
   "cell_type": "markdown",
   "id": "d7833468",
   "metadata": {},
   "source": [
    "#### Средние пользовательские рейтинги жанров Action (англ. «действие», экшен-игры) и Sports (англ. «спортивные соревнования») разные.\n"
   ]
  },
  {
   "cell_type": "markdown",
   "id": "17f7ebf3",
   "metadata": {},
   "source": [
    "Нулевая гипотеза: средние пользовательские рейтинги жанров Action и Sports одинаковые\n",
    "Альтернативная гипотеза: средние пользовательские рейтинги жанров Action и Sports одинаковые отличаются\n",
    "\n",
    "Проверим условия для проведения ttest_ind о равенстве средних.\n",
    "\n",
    "1. Генеральные совокупности не должны зависеть друг от друга.\n",
    "2. Выборочные средние должны быть нормально распределены.\n",
    "3. Дисперсии рассматриваемых генеральных совокупностей должны быть равны."
   ]
  },
  {
   "cell_type": "code",
   "execution_count": null,
   "id": "9373161c",
   "metadata": {},
   "outputs": [],
   "source": [
    "df_action = df_current[df_current['genre']=='Action']['user_score'].dropna()"
   ]
  },
  {
   "cell_type": "code",
   "execution_count": null,
   "id": "f3bf0a46",
   "metadata": {},
   "outputs": [],
   "source": [
    "df_sports = df_current[df_current['genre']=='Sports']['user_score'].dropna()"
   ]
  },
  {
   "cell_type": "code",
   "execution_count": null,
   "id": "71258929",
   "metadata": {},
   "outputs": [
    {
     "name": "stdout",
     "output_type": "stream",
     "text": [
      "(297,) (127,)\n"
     ]
    }
   ],
   "source": [
    "print (df_action.shape, df_sports.shape)"
   ]
  },
  {
   "attachments": {},
   "cell_type": "markdown",
   "id": "ec3e1f4e",
   "metadata": {},
   "source": [
    "Выборки рейтингов игр жанров action и sports можно считать независимыми, т.к. распространяются на разных конечных пользователей. \n",
    "Выборки достаточно большие, поэтому можно предположить что распределение в них нормальное и дисперсии равны"
   ]
  },
  {
   "cell_type": "code",
   "execution_count": null,
   "id": "46904590",
   "metadata": {},
   "outputs": [],
   "source": [
    "alpha=0.05 #определим так уровень значимости"
   ]
  },
  {
   "cell_type": "code",
   "execution_count": null,
   "id": "ab598bf8",
   "metadata": {
    "scrolled": true
   },
   "outputs": [
    {
     "name": "stdout",
     "output_type": "stream",
     "text": [
      "p-значение: 2.8711147985105864e-19\n",
      "Отвергаем нулевую гипотезу\n"
     ]
    }
   ],
   "source": [
    "results = st.ttest_ind(df_action, df_sports, equal_var = True)\n",
    "\n",
    "print('p-значение:', results.pvalue)\n",
    "\n",
    "if results.pvalue < alpha:\n",
    "    print(\"Отвергаем нулевую гипотезу\")\n",
    "else:\n",
    "    print(\"Не получилось отвергнуть нулевую гипотезу\") "
   ]
  },
  {
   "cell_type": "code",
   "execution_count": null,
   "id": "8f0d8459",
   "metadata": {},
   "outputs": [
    {
     "name": "stdout",
     "output_type": "stream",
     "text": [
      "Средний рейтинг в жанре Action: 6.760606060606061\n",
      "Средний рейтинг в жанре Sports: 5.2251968503937\n"
     ]
    }
   ],
   "source": [
    "print (f'Средний рейтинг в жанре Action: {df_action.mean()}')\n",
    "print (f'Средний рейтинг в жанре Sports: {df_sports.mean()}')"
   ]
  },
  {
   "cell_type": "markdown",
   "id": "24c21355",
   "metadata": {},
   "source": [
    "**Вывод**\n",
    "\n",
    "На имеющихся данных, на уровне значимости 5% есть основания отвергнуть нулевую гипотезу о равенстве средних значений пользовательских рейтингов (отзывов) жанров Action и Sports в пользу альтернативной гипотезы"
   ]
  },
  {
   "cell_type": "markdown",
   "id": "5fe436e9",
   "metadata": {},
   "source": [
    "### Общий вывод"
   ]
  },
  {
   "cell_type": "markdown",
   "id": "ff0d60c2",
   "metadata": {},
   "source": [
    "1. До 2010 года наблюдался стабильный рост количества игр. После 2010 началось стабильно снижение количества.\n",
    "\n",
    "2. От момента выхода платформы до выхода на максимум продаж проходит от 2х лет (PSP) до 5 лет (PS3). В среднем 3-4 года. И после этого примерно за такое же время платформа уходит в небытие. По всем платформам на 2016г наблюдается нисходящий тренд, нет зарождающихся платформ. Поэтому в условиях такой определенной тенденции нет смысла рассматривать данные за большие периоды. Сфера очень изменичива. Достаточно взять последние 2 года, чтобы видеть и текущую картину за 2016г и динамику по сравнению с предыдущим 2015г.\n",
    "\n",
    "3. На конец 2016г топ3 платформ по объемам продаж являлись PS4, XOne, 3DS. Абсолютно все платформы показывают отрицательный тренд по объемам продаж. Пики продаж пройдены и идет снижение. Новых зараждающихся платформ не наблюдается.\n",
    "\n",
    "4. Топ5 по самым продаваем в среднем платформам - это WiiU, Wii, XOne, PS4, X360. Показатели продаж на этих платформах в среднем составляют от 100 до 200 тыс.копий. Продаж более 1 млн.копий очень мало на рынке, но чаще всего такие продажи происходят на платформах XOne, WiiU, PS4.\n",
    "\n",
    "5. По большинству платформ существует слабая положительная связь между продажами и оценкой критиков. Зависимость продаж от оценки пользователей в разы меньше или отсутствует вовсе.\n",
    "\n",
    "6. За последние 2 года самымим прибыльными и популярными жанрами являются Shooter, Sports, Platform. Особенно выделяется жанр Shooter - в нем значительно выше средние показатели продаж и большие общие продажи в целом среди всех жанров. Жанр Action выделяется тем, что там больше всего выпускается игр и больше всего общего объема продаж, но с невысоким среднем показателем по продажам за игру.\n",
    "\n",
    "7. Популярность платформ в Америке и Европе очень похожа. 2ка лидеров одна и та же - это PS4 и XOne. Они занимают примерно две трети всего рынка. В Европе PS4 занимает около половины всего рынка, в Америке отрыв не настолько большой. Остальные платформы занимают 10% и меньше от доли рынка.\n",
    "\n",
    "8. В Японии предпочтения по платформам отличаются - лидеры 3DS и PS4, они тоже занимают 2/3 от всего рынка. Лидер рынка 3DS занимает долю 48%, хотя в Америке и Европе эта платформа лишь замыкает топ5 платформ с долей примерно 6-7%. В Японии достаточно популярна платформа PSV с долей 15%, которая на западе даже не попадает в топ5.\n",
    "\n",
    "9. Можно сказать, что платформа PS4 самая универсальная. Она занимает уверенное лидерство на западе и уступает только 3DS в Японии. \n",
    "\n",
    "10. В Америке и Европе очень похожие предпочтения по жанрам. Первые 4 места по предпочтениям одинаковые с одинаковыми долями. Это Shooter, Action, Sports, Role-Playing. \n",
    "\n",
    "11. В Японии совсем иная картина. На первом месте там со значительным отрывом Action и Role-Playing, которые занимают 2/3 рынка. Остальные жанры представлены сильно реже.\n",
    "\n",
    "12. Жанр Action самый популярный в среднем. Он не сильно уступает лидеру Shooter на западе и удерживает уверенное лидерство в Японии с долей 43%.\n",
    "\n",
    "13. В америке и европе ситуация похожа. \n",
    "- Больше всего по продажам в абсолютном и в среднем за игру приносят игры с рейтингом М - около 400тыс.копий и с этим рейтингом больше всех продаж в сумме. \n",
    "- На втором месте игры с рейтингом Е - около 320 тыс. копий за игру. \n",
    "- Игры с рейтингом E10+ и Т продаются в 2 раза хуже.\n",
    "- Игры без рейтинга продаются на уровне игр с рейтингом Е\n",
    "\n",
    "14. В японии ситуация немного иная. \n",
    "- Больше всего проданных игр без рейтига ESRB, их продается более 60% от всех продаваемых игр в регионе. \n",
    "- Но лучше всего в среднем продаются игры с рейтингом Е, хотя количество таких игр в регионе не большое.\n",
    "\n",
    "15. В итоге игры с рейтингом Е хорошо продаются во всех регионах. Но если смотреть в абсолютном выражении, то игры с рейтингом М за счет лучших продаж Европе и Америке более прибыльны в целом.\n",
    "\n",
    "\n",
    "**Предложения по приоритетам на 2017г.**\n",
    "\n",
    "Тренды по продажам везде отрицательные, поэтому нужно сфокусироваться на тех сегментах, которые лидируют и сохраняют интерес у пользователей.\n",
    "\n",
    "По платформам предпочтение нужно отдать PS4 и XOne. Рынок Японии не очень большой, но с данными платформами можно ориентироваться и на него, но акцент делать все равно на Америку и Европу.\n",
    "\n",
    "По жанрам стоит сосредоточиться на Shooter и Action. Эти жанры популярны везде и имеют самые большие средние продажи.\n",
    "\n",
    "Рейтинг игр должен быть М и Е. Лучше всего продаются в среднем по миру.\n",
    "\n",
    "Идеальный кандидат это Shooter на PS4 с рейтингом M (отлично зайдет на западе и даст максимальные суммарные продажи) или Action на PS4 c рейтингом Е (продажи в сумме похуже, чем у первого варианта, зато проникнет во все регионы с хорошими продажами).\n",
    "\n"
   ]
  }
 ],
 "metadata": {
  "ExecuteTimeLog": [
   {
    "duration": 1112,
    "start_time": "2023-03-15T22:01:03.214Z"
   },
   {
    "duration": 64,
    "start_time": "2023-03-15T22:01:04.328Z"
   },
   {
    "duration": 22,
    "start_time": "2023-03-15T22:01:04.393Z"
   },
   {
    "duration": 14,
    "start_time": "2023-03-15T22:01:04.416Z"
   },
   {
    "duration": 43,
    "start_time": "2023-03-15T22:01:04.432Z"
   },
   {
    "duration": 8,
    "start_time": "2023-03-15T22:01:04.476Z"
   },
   {
    "duration": 636,
    "start_time": "2023-03-15T22:01:04.486Z"
   },
   {
    "duration": 3,
    "start_time": "2023-03-15T22:01:05.124Z"
   },
   {
    "duration": 16,
    "start_time": "2023-03-15T22:01:05.129Z"
   },
   {
    "duration": 36,
    "start_time": "2023-03-15T22:01:05.146Z"
   },
   {
    "duration": 5,
    "start_time": "2023-03-15T22:01:05.185Z"
   },
   {
    "duration": 19,
    "start_time": "2023-03-15T22:01:05.191Z"
   },
   {
    "duration": 8,
    "start_time": "2023-03-15T22:01:05.211Z"
   },
   {
    "duration": 14,
    "start_time": "2023-03-15T22:01:05.222Z"
   },
   {
    "duration": 5,
    "start_time": "2023-03-15T22:01:05.239Z"
   },
   {
    "duration": 9,
    "start_time": "2023-03-15T22:01:05.246Z"
   },
   {
    "duration": 34,
    "start_time": "2023-03-15T22:01:05.257Z"
   },
   {
    "duration": 43,
    "start_time": "2023-03-15T22:01:05.294Z"
   },
   {
    "duration": 27,
    "start_time": "2023-03-15T22:01:05.339Z"
   },
   {
    "duration": 25,
    "start_time": "2023-03-15T22:01:05.369Z"
   },
   {
    "duration": 11,
    "start_time": "2023-03-15T22:01:05.396Z"
   },
   {
    "duration": 13,
    "start_time": "2023-03-15T22:01:05.409Z"
   },
   {
    "duration": 7,
    "start_time": "2023-03-15T22:01:05.424Z"
   },
   {
    "duration": 6,
    "start_time": "2023-03-15T22:01:05.432Z"
   },
   {
    "duration": 15,
    "start_time": "2023-03-15T22:01:05.439Z"
   },
   {
    "duration": 7,
    "start_time": "2023-03-15T22:01:05.455Z"
   },
   {
    "duration": 15,
    "start_time": "2023-03-15T22:01:05.464Z"
   },
   {
    "duration": 247,
    "start_time": "2023-03-15T22:01:05.481Z"
   },
   {
    "duration": 12,
    "start_time": "2023-03-15T22:01:05.729Z"
   },
   {
    "duration": 27,
    "start_time": "2023-03-15T22:01:05.743Z"
   },
   {
    "duration": 5,
    "start_time": "2023-03-15T22:01:05.772Z"
   },
   {
    "duration": 5,
    "start_time": "2023-03-15T22:01:05.778Z"
   },
   {
    "duration": 142,
    "start_time": "2023-03-15T22:01:05.784Z"
   },
   {
    "duration": 10,
    "start_time": "2023-03-15T22:01:05.927Z"
   },
   {
    "duration": 1468,
    "start_time": "2023-03-15T22:01:05.938Z"
   },
   {
    "duration": 4,
    "start_time": "2023-03-15T22:01:07.408Z"
   },
   {
    "duration": 17,
    "start_time": "2023-03-15T22:01:07.413Z"
   },
   {
    "duration": 11,
    "start_time": "2023-03-15T22:01:07.432Z"
   },
   {
    "duration": 3,
    "start_time": "2023-03-15T22:01:07.444Z"
   },
   {
    "duration": 14,
    "start_time": "2023-03-15T22:01:07.449Z"
   },
   {
    "duration": 42,
    "start_time": "2023-03-15T22:01:07.474Z"
   },
   {
    "duration": 14,
    "start_time": "2023-03-15T22:01:07.518Z"
   },
   {
    "duration": 258,
    "start_time": "2023-03-15T22:01:07.534Z"
   },
   {
    "duration": 219,
    "start_time": "2023-03-15T22:01:07.793Z"
   },
   {
    "duration": 12,
    "start_time": "2023-03-15T22:01:08.014Z"
   },
   {
    "duration": 3,
    "start_time": "2023-03-15T22:01:08.028Z"
   },
   {
    "duration": 137,
    "start_time": "2023-03-15T22:01:08.033Z"
   },
   {
    "duration": 5,
    "start_time": "2023-03-15T22:01:08.172Z"
   },
   {
    "duration": 7,
    "start_time": "2023-03-15T22:01:08.179Z"
   },
   {
    "duration": 389,
    "start_time": "2023-03-15T22:01:08.188Z"
   },
   {
    "duration": 4,
    "start_time": "2023-03-15T22:01:08.579Z"
   },
   {
    "duration": 7,
    "start_time": "2023-03-15T22:01:08.584Z"
   },
   {
    "duration": 128,
    "start_time": "2023-03-15T22:01:08.592Z"
   },
   {
    "duration": 7,
    "start_time": "2023-03-15T22:01:08.721Z"
   },
   {
    "duration": 125,
    "start_time": "2023-03-15T22:01:08.729Z"
   },
   {
    "duration": 14,
    "start_time": "2023-03-15T22:01:08.857Z"
   },
   {
    "duration": 9,
    "start_time": "2023-03-15T22:01:08.873Z"
   },
   {
    "duration": 19,
    "start_time": "2023-03-15T22:01:08.883Z"
   },
   {
    "duration": 12,
    "start_time": "2023-03-15T22:01:08.903Z"
   },
   {
    "duration": 71,
    "start_time": "2023-03-15T22:01:08.916Z"
   },
   {
    "duration": 12,
    "start_time": "2023-03-15T22:01:08.989Z"
   },
   {
    "duration": 21,
    "start_time": "2023-03-15T22:01:09.002Z"
   },
   {
    "duration": 18,
    "start_time": "2023-03-15T22:01:09.025Z"
   },
   {
    "duration": 40,
    "start_time": "2023-03-15T22:01:09.044Z"
   },
   {
    "duration": 10,
    "start_time": "2023-03-15T22:01:09.086Z"
   },
   {
    "duration": 555,
    "start_time": "2023-03-15T22:01:09.097Z"
   },
   {
    "duration": 505,
    "start_time": "2023-03-15T22:01:09.662Z"
   },
   {
    "duration": 5,
    "start_time": "2023-03-15T22:01:10.170Z"
   },
   {
    "duration": 22,
    "start_time": "2023-03-15T22:01:10.176Z"
   },
   {
    "duration": 4,
    "start_time": "2023-03-15T22:01:10.199Z"
   },
   {
    "duration": 22,
    "start_time": "2023-03-15T22:01:10.204Z"
   },
   {
    "duration": 4,
    "start_time": "2023-03-15T22:01:10.227Z"
   },
   {
    "duration": 38,
    "start_time": "2023-03-15T22:01:10.232Z"
   },
   {
    "duration": 4,
    "start_time": "2023-03-15T22:01:10.272Z"
   },
   {
    "duration": 8,
    "start_time": "2023-03-15T22:01:10.277Z"
   },
   {
    "duration": 6,
    "start_time": "2023-03-15T22:01:10.286Z"
   },
   {
    "duration": 5,
    "start_time": "2023-03-15T22:01:10.293Z"
   },
   {
    "duration": 10,
    "start_time": "2023-03-15T22:01:10.299Z"
   },
   {
    "duration": 6,
    "start_time": "2023-03-15T22:01:10.310Z"
   },
   {
    "duration": 5,
    "start_time": "2023-03-15T22:01:10.317Z"
   },
   {
    "duration": 5,
    "start_time": "2023-03-15T22:01:10.323Z"
   },
   {
    "duration": 7,
    "start_time": "2023-03-15T22:01:10.330Z"
   },
   {
    "duration": 23,
    "start_time": "2023-03-15T22:01:10.338Z"
   },
   {
    "duration": 1101,
    "start_time": "2023-03-15T22:13:13.283Z"
   },
   {
    "duration": 105,
    "start_time": "2023-03-15T22:13:14.386Z"
   },
   {
    "duration": 22,
    "start_time": "2023-03-15T22:13:14.492Z"
   },
   {
    "duration": 14,
    "start_time": "2023-03-15T22:13:14.516Z"
   },
   {
    "duration": 28,
    "start_time": "2023-03-15T22:13:14.532Z"
   },
   {
    "duration": 9,
    "start_time": "2023-03-15T22:13:14.562Z"
   },
   {
    "duration": 658,
    "start_time": "2023-03-15T22:13:14.572Z"
   },
   {
    "duration": 3,
    "start_time": "2023-03-15T22:13:15.232Z"
   },
   {
    "duration": 13,
    "start_time": "2023-03-15T22:13:15.237Z"
   },
   {
    "duration": 27,
    "start_time": "2023-03-15T22:13:15.251Z"
   },
   {
    "duration": 22,
    "start_time": "2023-03-15T22:13:15.280Z"
   },
   {
    "duration": 21,
    "start_time": "2023-03-15T22:13:15.303Z"
   },
   {
    "duration": 10,
    "start_time": "2023-03-15T22:13:15.326Z"
   },
   {
    "duration": 12,
    "start_time": "2023-03-15T22:13:15.339Z"
   },
   {
    "duration": 6,
    "start_time": "2023-03-15T22:13:15.353Z"
   },
   {
    "duration": 6,
    "start_time": "2023-03-15T22:13:15.360Z"
   },
   {
    "duration": 15,
    "start_time": "2023-03-15T22:13:15.367Z"
   },
   {
    "duration": 13,
    "start_time": "2023-03-15T22:13:15.383Z"
   },
   {
    "duration": 25,
    "start_time": "2023-03-15T22:13:15.398Z"
   },
   {
    "duration": 18,
    "start_time": "2023-03-15T22:13:15.424Z"
   },
   {
    "duration": 18,
    "start_time": "2023-03-15T22:13:15.444Z"
   },
   {
    "duration": 10,
    "start_time": "2023-03-15T22:13:15.463Z"
   },
   {
    "duration": 6,
    "start_time": "2023-03-15T22:13:15.475Z"
   },
   {
    "duration": 11,
    "start_time": "2023-03-15T22:13:15.482Z"
   },
   {
    "duration": 18,
    "start_time": "2023-03-15T22:13:15.495Z"
   },
   {
    "duration": 5,
    "start_time": "2023-03-15T22:13:15.514Z"
   },
   {
    "duration": 9,
    "start_time": "2023-03-15T22:13:15.520Z"
   },
   {
    "duration": 246,
    "start_time": "2023-03-15T22:13:15.531Z"
   },
   {
    "duration": 15,
    "start_time": "2023-03-15T22:13:15.779Z"
   },
   {
    "duration": 15,
    "start_time": "2023-03-15T22:13:15.796Z"
   },
   {
    "duration": 7,
    "start_time": "2023-03-15T22:13:15.830Z"
   },
   {
    "duration": 12,
    "start_time": "2023-03-15T22:13:15.839Z"
   },
   {
    "duration": 155,
    "start_time": "2023-03-15T22:13:15.853Z"
   },
   {
    "duration": 11,
    "start_time": "2023-03-15T22:13:16.010Z"
   },
   {
    "duration": 1621,
    "start_time": "2023-03-15T22:13:16.030Z"
   },
   {
    "duration": 6,
    "start_time": "2023-03-15T22:13:17.652Z"
   },
   {
    "duration": 11,
    "start_time": "2023-03-15T22:13:17.659Z"
   },
   {
    "duration": 28,
    "start_time": "2023-03-15T22:13:17.672Z"
   },
   {
    "duration": 14,
    "start_time": "2023-03-15T22:13:17.701Z"
   },
   {
    "duration": 19,
    "start_time": "2023-03-15T22:13:17.717Z"
   },
   {
    "duration": 63,
    "start_time": "2023-03-15T22:13:17.741Z"
   },
   {
    "duration": 17,
    "start_time": "2023-03-15T22:13:17.806Z"
   },
   {
    "duration": 281,
    "start_time": "2023-03-15T22:13:17.824Z"
   },
   {
    "duration": 246,
    "start_time": "2023-03-15T22:13:18.107Z"
   },
   {
    "duration": 13,
    "start_time": "2023-03-15T22:13:18.355Z"
   },
   {
    "duration": 3,
    "start_time": "2023-03-15T22:13:18.369Z"
   },
   {
    "duration": 126,
    "start_time": "2023-03-15T22:13:18.373Z"
   },
   {
    "duration": 4,
    "start_time": "2023-03-15T22:13:18.501Z"
   },
   {
    "duration": 7,
    "start_time": "2023-03-15T22:13:18.506Z"
   },
   {
    "duration": 393,
    "start_time": "2023-03-15T22:13:18.514Z"
   },
   {
    "duration": 3,
    "start_time": "2023-03-15T22:13:18.909Z"
   },
   {
    "duration": 8,
    "start_time": "2023-03-15T22:13:18.914Z"
   },
   {
    "duration": 141,
    "start_time": "2023-03-15T22:13:18.930Z"
   },
   {
    "duration": 7,
    "start_time": "2023-03-15T22:13:19.072Z"
   },
   {
    "duration": 134,
    "start_time": "2023-03-15T22:13:19.081Z"
   },
   {
    "duration": 16,
    "start_time": "2023-03-15T22:13:19.217Z"
   },
   {
    "duration": 5,
    "start_time": "2023-03-15T22:13:19.234Z"
   },
   {
    "duration": 10,
    "start_time": "2023-03-15T22:13:19.240Z"
   },
   {
    "duration": 8,
    "start_time": "2023-03-15T22:13:19.251Z"
   },
   {
    "duration": 75,
    "start_time": "2023-03-15T22:13:19.261Z"
   },
   {
    "duration": 12,
    "start_time": "2023-03-15T22:13:19.337Z"
   },
   {
    "duration": 20,
    "start_time": "2023-03-15T22:13:19.351Z"
   },
   {
    "duration": 17,
    "start_time": "2023-03-15T22:13:19.373Z"
   },
   {
    "duration": 43,
    "start_time": "2023-03-15T22:13:19.392Z"
   },
   {
    "duration": 3,
    "start_time": "2023-03-15T22:13:19.437Z"
   },
   {
    "duration": 571,
    "start_time": "2023-03-15T22:13:19.441Z"
   },
   {
    "duration": 507,
    "start_time": "2023-03-15T22:13:20.014Z"
   },
   {
    "duration": 9,
    "start_time": "2023-03-15T22:13:20.523Z"
   },
   {
    "duration": 23,
    "start_time": "2023-03-15T22:13:20.534Z"
   },
   {
    "duration": 4,
    "start_time": "2023-03-15T22:13:20.559Z"
   },
   {
    "duration": 25,
    "start_time": "2023-03-15T22:13:20.564Z"
   },
   {
    "duration": 4,
    "start_time": "2023-03-15T22:13:20.591Z"
   },
   {
    "duration": 40,
    "start_time": "2023-03-15T22:13:20.596Z"
   },
   {
    "duration": 5,
    "start_time": "2023-03-15T22:13:20.637Z"
   },
   {
    "duration": 8,
    "start_time": "2023-03-15T22:13:20.643Z"
   },
   {
    "duration": 8,
    "start_time": "2023-03-15T22:13:20.652Z"
   },
   {
    "duration": 5,
    "start_time": "2023-03-15T22:13:20.661Z"
   },
   {
    "duration": 10,
    "start_time": "2023-03-15T22:13:20.668Z"
   },
   {
    "duration": 9,
    "start_time": "2023-03-15T22:13:20.679Z"
   },
   {
    "duration": 8,
    "start_time": "2023-03-15T22:13:20.690Z"
   },
   {
    "duration": 8,
    "start_time": "2023-03-15T22:13:20.699Z"
   },
   {
    "duration": 6,
    "start_time": "2023-03-15T22:13:20.708Z"
   },
   {
    "duration": 16,
    "start_time": "2023-03-15T22:13:20.716Z"
   },
   {
    "duration": 69,
    "start_time": "2023-03-15T22:23:57.694Z"
   },
   {
    "duration": 1165,
    "start_time": "2023-03-15T22:24:06.019Z"
   },
   {
    "duration": 56,
    "start_time": "2023-03-15T22:24:07.186Z"
   },
   {
    "duration": 21,
    "start_time": "2023-03-15T22:24:07.244Z"
   },
   {
    "duration": 16,
    "start_time": "2023-03-15T22:24:07.266Z"
   },
   {
    "duration": 28,
    "start_time": "2023-03-15T22:24:07.284Z"
   },
   {
    "duration": 9,
    "start_time": "2023-03-15T22:24:07.331Z"
   },
   {
    "duration": 664,
    "start_time": "2023-03-15T22:24:07.342Z"
   },
   {
    "duration": 3,
    "start_time": "2023-03-15T22:24:08.008Z"
   },
   {
    "duration": 18,
    "start_time": "2023-03-15T22:24:08.013Z"
   },
   {
    "duration": 24,
    "start_time": "2023-03-15T22:24:08.033Z"
   },
   {
    "duration": 6,
    "start_time": "2023-03-15T22:24:08.059Z"
   },
   {
    "duration": 13,
    "start_time": "2023-03-15T22:24:08.067Z"
   },
   {
    "duration": 5,
    "start_time": "2023-03-15T22:24:08.082Z"
   },
   {
    "duration": 16,
    "start_time": "2023-03-15T22:24:08.090Z"
   },
   {
    "duration": 4,
    "start_time": "2023-03-15T22:24:08.108Z"
   },
   {
    "duration": 18,
    "start_time": "2023-03-15T22:24:08.113Z"
   },
   {
    "duration": 32,
    "start_time": "2023-03-15T22:24:08.133Z"
   },
   {
    "duration": 15,
    "start_time": "2023-03-15T22:24:08.166Z"
   },
   {
    "duration": 7,
    "start_time": "2023-03-15T22:24:08.183Z"
   },
   {
    "duration": 8,
    "start_time": "2023-03-15T22:24:08.192Z"
   },
   {
    "duration": 11,
    "start_time": "2023-03-15T22:24:08.202Z"
   },
   {
    "duration": 21,
    "start_time": "2023-03-15T22:24:08.215Z"
   },
   {
    "duration": 8,
    "start_time": "2023-03-15T22:24:08.238Z"
   },
   {
    "duration": 10,
    "start_time": "2023-03-15T22:24:08.247Z"
   },
   {
    "duration": 26,
    "start_time": "2023-03-15T22:24:08.259Z"
   },
   {
    "duration": 5,
    "start_time": "2023-03-15T22:24:08.286Z"
   },
   {
    "duration": 4,
    "start_time": "2023-03-15T22:24:08.293Z"
   },
   {
    "duration": 238,
    "start_time": "2023-03-15T22:24:08.299Z"
   },
   {
    "duration": 70,
    "start_time": "2023-03-15T22:24:08.539Z"
   },
   {
    "duration": 29,
    "start_time": "2023-03-15T22:24:08.611Z"
   },
   {
    "duration": 13,
    "start_time": "2023-03-15T22:24:08.641Z"
   },
   {
    "duration": 4,
    "start_time": "2023-03-15T22:24:08.656Z"
   },
   {
    "duration": 10,
    "start_time": "2023-03-15T22:24:08.661Z"
   },
   {
    "duration": 159,
    "start_time": "2023-03-15T22:24:08.673Z"
   },
   {
    "duration": 11,
    "start_time": "2023-03-15T22:24:08.835Z"
   },
   {
    "duration": 1801,
    "start_time": "2023-03-15T22:24:08.848Z"
   },
   {
    "duration": 4,
    "start_time": "2023-03-15T22:24:10.651Z"
   },
   {
    "duration": 15,
    "start_time": "2023-03-15T22:24:10.657Z"
   },
   {
    "duration": 62,
    "start_time": "2023-03-15T22:24:10.674Z"
   },
   {
    "duration": 13,
    "start_time": "2023-03-15T22:24:10.737Z"
   },
   {
    "duration": 9,
    "start_time": "2023-03-15T22:24:10.754Z"
   },
   {
    "duration": 93,
    "start_time": "2023-03-15T22:24:10.764Z"
   },
   {
    "duration": 15,
    "start_time": "2023-03-15T22:24:10.859Z"
   },
   {
    "duration": 562,
    "start_time": "2023-03-15T22:24:10.875Z"
   },
   {
    "duration": 350,
    "start_time": "2023-03-15T22:24:11.438Z"
   },
   {
    "duration": 12,
    "start_time": "2023-03-15T22:24:11.790Z"
   },
   {
    "duration": 3,
    "start_time": "2023-03-15T22:24:11.804Z"
   },
   {
    "duration": 133,
    "start_time": "2023-03-15T22:24:11.809Z"
   },
   {
    "duration": 5,
    "start_time": "2023-03-15T22:24:11.943Z"
   },
   {
    "duration": 9,
    "start_time": "2023-03-15T22:24:11.949Z"
   },
   {
    "duration": 402,
    "start_time": "2023-03-15T22:24:11.959Z"
   },
   {
    "duration": 4,
    "start_time": "2023-03-15T22:24:12.362Z"
   },
   {
    "duration": 6,
    "start_time": "2023-03-15T22:24:12.368Z"
   },
   {
    "duration": 138,
    "start_time": "2023-03-15T22:24:12.376Z"
   },
   {
    "duration": 15,
    "start_time": "2023-03-15T22:24:12.516Z"
   },
   {
    "duration": 128,
    "start_time": "2023-03-15T22:24:12.533Z"
   },
   {
    "duration": 6,
    "start_time": "2023-03-15T22:24:12.663Z"
   },
   {
    "duration": 4,
    "start_time": "2023-03-15T22:24:12.671Z"
   },
   {
    "duration": 19,
    "start_time": "2023-03-15T22:24:12.677Z"
   },
   {
    "duration": 8,
    "start_time": "2023-03-15T22:24:12.698Z"
   },
   {
    "duration": 76,
    "start_time": "2023-03-15T22:24:12.708Z"
   },
   {
    "duration": 13,
    "start_time": "2023-03-15T22:24:12.785Z"
   },
   {
    "duration": 32,
    "start_time": "2023-03-15T22:24:12.799Z"
   },
   {
    "duration": 17,
    "start_time": "2023-03-15T22:24:12.833Z"
   },
   {
    "duration": 22,
    "start_time": "2023-03-15T22:24:12.851Z"
   },
   {
    "duration": 2,
    "start_time": "2023-03-15T22:24:12.875Z"
   },
   {
    "duration": 567,
    "start_time": "2023-03-15T22:24:12.879Z"
   },
   {
    "duration": 520,
    "start_time": "2023-03-15T22:24:13.448Z"
   },
   {
    "duration": 5,
    "start_time": "2023-03-15T22:24:13.970Z"
   },
   {
    "duration": 22,
    "start_time": "2023-03-15T22:24:13.976Z"
   },
   {
    "duration": 4,
    "start_time": "2023-03-15T22:24:13.999Z"
   },
   {
    "duration": 43,
    "start_time": "2023-03-15T22:24:14.005Z"
   },
   {
    "duration": 4,
    "start_time": "2023-03-15T22:24:14.050Z"
   },
   {
    "duration": 24,
    "start_time": "2023-03-15T22:24:14.056Z"
   },
   {
    "duration": 4,
    "start_time": "2023-03-15T22:24:14.082Z"
   },
   {
    "duration": 9,
    "start_time": "2023-03-15T22:24:14.088Z"
   },
   {
    "duration": 7,
    "start_time": "2023-03-15T22:24:14.098Z"
   },
   {
    "duration": 13,
    "start_time": "2023-03-15T22:24:14.107Z"
   },
   {
    "duration": 17,
    "start_time": "2023-03-15T22:24:14.121Z"
   },
   {
    "duration": 20,
    "start_time": "2023-03-15T22:24:14.140Z"
   },
   {
    "duration": 7,
    "start_time": "2023-03-15T22:24:14.161Z"
   },
   {
    "duration": 6,
    "start_time": "2023-03-15T22:24:14.169Z"
   },
   {
    "duration": 6,
    "start_time": "2023-03-15T22:24:14.176Z"
   },
   {
    "duration": 13,
    "start_time": "2023-03-15T22:24:14.183Z"
   },
   {
    "duration": 10,
    "start_time": "2023-03-15T22:41:47.578Z"
   },
   {
    "duration": 1080,
    "start_time": "2023-03-20T16:49:35.025Z"
   },
   {
    "duration": 48,
    "start_time": "2023-03-20T16:49:36.107Z"
   },
   {
    "duration": 20,
    "start_time": "2023-03-20T16:49:36.157Z"
   },
   {
    "duration": 13,
    "start_time": "2023-03-20T16:49:36.179Z"
   },
   {
    "duration": 45,
    "start_time": "2023-03-20T16:49:36.195Z"
   },
   {
    "duration": 8,
    "start_time": "2023-03-20T16:49:36.241Z"
   },
   {
    "duration": 564,
    "start_time": "2023-03-20T16:49:36.250Z"
   },
   {
    "duration": 47,
    "start_time": "2023-03-20T16:49:36.816Z"
   },
   {
    "duration": 3,
    "start_time": "2023-03-20T16:49:36.864Z"
   },
   {
    "duration": 8,
    "start_time": "2023-03-20T16:49:36.869Z"
   },
   {
    "duration": 21,
    "start_time": "2023-03-20T16:49:36.879Z"
   },
   {
    "duration": 4,
    "start_time": "2023-03-20T16:49:36.902Z"
   },
   {
    "duration": 5,
    "start_time": "2023-03-20T16:49:36.924Z"
   },
   {
    "duration": 5,
    "start_time": "2023-03-20T16:49:36.932Z"
   },
   {
    "duration": 10,
    "start_time": "2023-03-20T16:49:36.938Z"
   },
   {
    "duration": 4,
    "start_time": "2023-03-20T16:49:36.949Z"
   },
   {
    "duration": 11,
    "start_time": "2023-03-20T16:49:36.954Z"
   },
   {
    "duration": 14,
    "start_time": "2023-03-20T16:49:36.966Z"
   },
   {
    "duration": 12,
    "start_time": "2023-03-20T16:49:36.981Z"
   },
   {
    "duration": 7,
    "start_time": "2023-03-20T16:49:36.995Z"
   },
   {
    "duration": 10,
    "start_time": "2023-03-20T16:49:37.025Z"
   },
   {
    "duration": 18,
    "start_time": "2023-03-20T16:49:37.037Z"
   },
   {
    "duration": 4,
    "start_time": "2023-03-20T16:49:37.056Z"
   },
   {
    "duration": 10,
    "start_time": "2023-03-20T16:49:37.062Z"
   },
   {
    "duration": 6,
    "start_time": "2023-03-20T16:49:37.074Z"
   },
   {
    "duration": 9,
    "start_time": "2023-03-20T16:49:37.082Z"
   },
   {
    "duration": 31,
    "start_time": "2023-03-20T16:49:37.093Z"
   },
   {
    "duration": 5,
    "start_time": "2023-03-20T16:49:37.126Z"
   },
   {
    "duration": 17,
    "start_time": "2023-03-20T16:49:37.132Z"
   },
   {
    "duration": 5,
    "start_time": "2023-03-20T16:49:37.151Z"
   },
   {
    "duration": 7,
    "start_time": "2023-03-20T16:49:37.157Z"
   },
   {
    "duration": 210,
    "start_time": "2023-03-20T16:49:37.165Z"
   },
   {
    "duration": 36,
    "start_time": "2023-03-20T16:49:37.377Z"
   },
   {
    "duration": 14,
    "start_time": "2023-03-20T16:49:37.424Z"
   },
   {
    "duration": 7,
    "start_time": "2023-03-20T16:49:37.439Z"
   },
   {
    "duration": 4,
    "start_time": "2023-03-20T16:49:37.447Z"
   },
   {
    "duration": 102,
    "start_time": "2023-03-20T16:49:37.453Z"
   },
   {
    "duration": 163,
    "start_time": "2023-03-20T16:49:37.557Z"
   },
   {
    "duration": 12,
    "start_time": "2023-03-20T16:49:37.724Z"
   },
   {
    "duration": 8,
    "start_time": "2023-03-20T16:49:37.737Z"
   },
   {
    "duration": 4,
    "start_time": "2023-03-20T16:49:37.749Z"
   },
   {
    "duration": 141,
    "start_time": "2023-03-20T16:49:37.754Z"
   },
   {
    "duration": 11,
    "start_time": "2023-03-20T16:49:37.896Z"
   },
   {
    "duration": 16,
    "start_time": "2023-03-20T16:49:37.909Z"
   },
   {
    "duration": 867,
    "start_time": "2023-03-20T16:49:37.926Z"
   },
   {
    "duration": 4,
    "start_time": "2023-03-20T16:49:38.795Z"
   },
   {
    "duration": 6,
    "start_time": "2023-03-20T16:49:38.801Z"
   },
   {
    "duration": 20,
    "start_time": "2023-03-20T16:49:38.808Z"
   },
   {
    "duration": 3,
    "start_time": "2023-03-20T16:49:38.830Z"
   },
   {
    "duration": 7,
    "start_time": "2023-03-20T16:49:38.834Z"
   },
   {
    "duration": 35,
    "start_time": "2023-03-20T16:49:38.842Z"
   },
   {
    "duration": 11,
    "start_time": "2023-03-20T16:49:38.878Z"
   },
   {
    "duration": 8,
    "start_time": "2023-03-20T16:49:38.890Z"
   },
   {
    "duration": 29,
    "start_time": "2023-03-20T16:49:38.900Z"
   },
   {
    "duration": 196,
    "start_time": "2023-03-20T16:49:38.930Z"
   },
   {
    "duration": 177,
    "start_time": "2023-03-20T16:49:39.128Z"
   },
   {
    "duration": 172,
    "start_time": "2023-03-20T16:49:39.307Z"
   },
   {
    "duration": 200,
    "start_time": "2023-03-20T16:49:39.481Z"
   },
   {
    "duration": 114,
    "start_time": "2023-03-20T16:49:39.683Z"
   },
   {
    "duration": 4,
    "start_time": "2023-03-20T16:49:39.798Z"
   },
   {
    "duration": 16,
    "start_time": "2023-03-20T16:49:39.803Z"
   },
   {
    "duration": 122,
    "start_time": "2023-03-20T16:49:39.820Z"
   },
   {
    "duration": 6,
    "start_time": "2023-03-20T16:49:39.944Z"
   },
   {
    "duration": 115,
    "start_time": "2023-03-20T16:49:39.951Z"
   },
   {
    "duration": 6,
    "start_time": "2023-03-20T16:49:40.067Z"
   },
   {
    "duration": 27,
    "start_time": "2023-03-20T16:49:40.075Z"
   },
   {
    "duration": 7,
    "start_time": "2023-03-20T16:49:40.104Z"
   },
   {
    "duration": 10,
    "start_time": "2023-03-20T16:49:40.113Z"
   },
   {
    "duration": 142,
    "start_time": "2023-03-20T16:49:40.124Z"
   },
   {
    "duration": 8,
    "start_time": "2023-03-20T16:49:40.268Z"
   },
   {
    "duration": 1890,
    "start_time": "2023-03-20T16:49:40.278Z"
   },
   {
    "duration": 226,
    "start_time": "2023-03-20T16:49:42.170Z"
   },
   {
    "duration": 26,
    "start_time": "2023-03-20T16:49:42.398Z"
   },
   {
    "duration": 11,
    "start_time": "2023-03-20T16:49:42.426Z"
   },
   {
    "duration": 214,
    "start_time": "2023-03-20T16:49:42.439Z"
   },
   {
    "duration": 3,
    "start_time": "2023-03-20T16:49:42.656Z"
   },
   {
    "duration": 508,
    "start_time": "2023-03-20T16:49:42.660Z"
   },
   {
    "duration": 336,
    "start_time": "2023-03-20T16:49:43.169Z"
   },
   {
    "duration": 4,
    "start_time": "2023-03-20T16:49:43.507Z"
   },
   {
    "duration": 22,
    "start_time": "2023-03-20T16:49:43.524Z"
   },
   {
    "duration": 3,
    "start_time": "2023-03-20T16:49:43.548Z"
   },
   {
    "duration": 24,
    "start_time": "2023-03-20T16:49:43.553Z"
   },
   {
    "duration": 3,
    "start_time": "2023-03-20T16:49:43.579Z"
   },
   {
    "duration": 41,
    "start_time": "2023-03-20T16:49:43.584Z"
   },
   {
    "duration": 8,
    "start_time": "2023-03-20T16:49:43.627Z"
   },
   {
    "duration": 5,
    "start_time": "2023-03-20T16:49:43.637Z"
   },
   {
    "duration": 16,
    "start_time": "2023-03-20T16:49:43.643Z"
   },
   {
    "duration": 7,
    "start_time": "2023-03-20T16:49:43.660Z"
   },
   {
    "duration": 6,
    "start_time": "2023-03-20T16:49:43.668Z"
   },
   {
    "duration": 7,
    "start_time": "2023-03-20T16:49:43.675Z"
   },
   {
    "duration": 7,
    "start_time": "2023-03-20T16:49:43.684Z"
   },
   {
    "duration": 7,
    "start_time": "2023-03-20T16:49:43.693Z"
   },
   {
    "duration": 24,
    "start_time": "2023-03-20T16:49:43.702Z"
   },
   {
    "duration": 7,
    "start_time": "2023-03-20T16:49:43.728Z"
   },
   {
    "duration": 5,
    "start_time": "2023-03-20T16:49:43.736Z"
   },
   {
    "duration": 17,
    "start_time": "2023-03-20T16:49:43.743Z"
   },
   {
    "duration": 7,
    "start_time": "2023-03-20T16:49:43.762Z"
   },
   {
    "duration": 1134,
    "start_time": "2023-03-21T21:13:55.566Z"
   },
   {
    "duration": 67,
    "start_time": "2023-03-21T21:13:56.702Z"
   },
   {
    "duration": 20,
    "start_time": "2023-03-21T21:13:56.771Z"
   },
   {
    "duration": 17,
    "start_time": "2023-03-21T21:13:56.793Z"
   },
   {
    "duration": 36,
    "start_time": "2023-03-21T21:13:56.812Z"
   },
   {
    "duration": 12,
    "start_time": "2023-03-21T21:13:56.850Z"
   },
   {
    "duration": 762,
    "start_time": "2023-03-21T21:13:56.863Z"
   },
   {
    "duration": 48,
    "start_time": "2023-03-21T21:13:57.626Z"
   },
   {
    "duration": 3,
    "start_time": "2023-03-21T21:13:57.675Z"
   },
   {
    "duration": 5,
    "start_time": "2023-03-21T21:13:57.680Z"
   },
   {
    "duration": 58,
    "start_time": "2023-03-21T21:13:57.686Z"
   },
   {
    "duration": 5,
    "start_time": "2023-03-21T21:13:57.746Z"
   },
   {
    "duration": 8,
    "start_time": "2023-03-21T21:13:57.752Z"
   },
   {
    "duration": 6,
    "start_time": "2023-03-21T21:13:57.761Z"
   },
   {
    "duration": 7,
    "start_time": "2023-03-21T21:13:57.768Z"
   },
   {
    "duration": 4,
    "start_time": "2023-03-21T21:13:57.777Z"
   },
   {
    "duration": 4,
    "start_time": "2023-03-21T21:13:57.783Z"
   },
   {
    "duration": 49,
    "start_time": "2023-03-21T21:13:57.788Z"
   },
   {
    "duration": 19,
    "start_time": "2023-03-21T21:13:57.842Z"
   },
   {
    "duration": 8,
    "start_time": "2023-03-21T21:13:57.863Z"
   },
   {
    "duration": 8,
    "start_time": "2023-03-21T21:13:57.873Z"
   },
   {
    "duration": 41,
    "start_time": "2023-03-21T21:13:57.883Z"
   },
   {
    "duration": 17,
    "start_time": "2023-03-21T21:13:57.926Z"
   },
   {
    "duration": 11,
    "start_time": "2023-03-21T21:13:57.944Z"
   },
   {
    "duration": 4,
    "start_time": "2023-03-21T21:13:57.957Z"
   },
   {
    "duration": 9,
    "start_time": "2023-03-21T21:13:57.963Z"
   },
   {
    "duration": 5,
    "start_time": "2023-03-21T21:13:57.974Z"
   },
   {
    "duration": 4,
    "start_time": "2023-03-21T21:13:57.984Z"
   },
   {
    "duration": 41,
    "start_time": "2023-03-21T21:13:57.990Z"
   },
   {
    "duration": 10,
    "start_time": "2023-03-21T21:13:58.033Z"
   },
   {
    "duration": 7,
    "start_time": "2023-03-21T21:13:58.045Z"
   },
   {
    "duration": 307,
    "start_time": "2023-03-21T21:13:58.054Z"
   },
   {
    "duration": 64,
    "start_time": "2023-03-21T21:13:58.362Z"
   },
   {
    "duration": 18,
    "start_time": "2023-03-21T21:13:58.434Z"
   },
   {
    "duration": 6,
    "start_time": "2023-03-21T21:13:58.454Z"
   },
   {
    "duration": 4,
    "start_time": "2023-03-21T21:13:58.462Z"
   },
   {
    "duration": 100,
    "start_time": "2023-03-21T21:13:58.468Z"
   },
   {
    "duration": 170,
    "start_time": "2023-03-21T21:13:58.569Z"
   },
   {
    "duration": 19,
    "start_time": "2023-03-21T21:13:58.746Z"
   },
   {
    "duration": 6,
    "start_time": "2023-03-21T21:13:58.766Z"
   },
   {
    "duration": 4,
    "start_time": "2023-03-21T21:13:58.774Z"
   },
   {
    "duration": 176,
    "start_time": "2023-03-21T21:13:58.780Z"
   },
   {
    "duration": 11,
    "start_time": "2023-03-21T21:13:58.958Z"
   },
   {
    "duration": 3,
    "start_time": "2023-03-21T21:13:58.970Z"
   },
   {
    "duration": 1161,
    "start_time": "2023-03-21T21:13:58.975Z"
   },
   {
    "duration": 7,
    "start_time": "2023-03-21T21:14:00.138Z"
   },
   {
    "duration": 8,
    "start_time": "2023-03-21T21:14:00.147Z"
   },
   {
    "duration": 29,
    "start_time": "2023-03-21T21:14:00.156Z"
   },
   {
    "duration": 16,
    "start_time": "2023-03-21T21:14:00.187Z"
   },
   {
    "duration": 39,
    "start_time": "2023-03-21T21:14:00.204Z"
   },
   {
    "duration": 5,
    "start_time": "2023-03-21T21:14:00.245Z"
   },
   {
    "duration": 60,
    "start_time": "2023-03-21T21:14:00.252Z"
   },
   {
    "duration": 32,
    "start_time": "2023-03-21T21:14:00.314Z"
   },
   {
    "duration": 25,
    "start_time": "2023-03-21T21:14:00.349Z"
   },
   {
    "duration": 61,
    "start_time": "2023-03-21T21:14:00.376Z"
   },
   {
    "duration": 419,
    "start_time": "2023-03-21T21:14:00.439Z"
   },
   {
    "duration": 16,
    "start_time": "2023-03-21T21:14:00.860Z"
   },
   {
    "duration": 291,
    "start_time": "2023-03-21T21:14:00.878Z"
   },
   {
    "duration": 238,
    "start_time": "2023-03-21T21:14:01.171Z"
   },
   {
    "duration": 354,
    "start_time": "2023-03-21T21:14:01.411Z"
   },
   {
    "duration": 177,
    "start_time": "2023-03-21T21:14:01.767Z"
   },
   {
    "duration": 9,
    "start_time": "2023-03-21T21:14:01.946Z"
   },
   {
    "duration": 4,
    "start_time": "2023-03-21T21:14:01.957Z"
   },
   {
    "duration": 7,
    "start_time": "2023-03-21T21:14:01.963Z"
   },
   {
    "duration": 277,
    "start_time": "2023-03-21T21:14:01.972Z"
   },
   {
    "duration": 8,
    "start_time": "2023-03-21T21:14:02.251Z"
   },
   {
    "duration": 156,
    "start_time": "2023-03-21T21:14:02.261Z"
   },
   {
    "duration": 9,
    "start_time": "2023-03-21T21:14:02.434Z"
   },
   {
    "duration": 4,
    "start_time": "2023-03-21T21:14:02.445Z"
   },
   {
    "duration": 6,
    "start_time": "2023-03-21T21:14:02.451Z"
   },
   {
    "duration": 7,
    "start_time": "2023-03-21T21:14:02.458Z"
   },
   {
    "duration": 75,
    "start_time": "2023-03-21T21:14:02.467Z"
   },
   {
    "duration": 14,
    "start_time": "2023-03-21T21:14:02.545Z"
   },
   {
    "duration": 2523,
    "start_time": "2023-03-21T21:14:02.560Z"
   },
   {
    "duration": 395,
    "start_time": "2023-03-21T21:14:05.086Z"
   },
   {
    "duration": 17,
    "start_time": "2023-03-21T21:14:05.482Z"
   },
   {
    "duration": 32,
    "start_time": "2023-03-21T21:14:05.500Z"
   },
   {
    "duration": 215,
    "start_time": "2023-03-21T21:14:05.534Z"
   },
   {
    "duration": 3,
    "start_time": "2023-03-21T21:14:05.752Z"
   },
   {
    "duration": 383,
    "start_time": "2023-03-21T21:14:05.756Z"
   },
   {
    "duration": 408,
    "start_time": "2023-03-21T21:14:06.141Z"
   },
   {
    "duration": 4,
    "start_time": "2023-03-21T21:14:06.555Z"
   },
   {
    "duration": 38,
    "start_time": "2023-03-21T21:14:06.560Z"
   },
   {
    "duration": 112,
    "start_time": "2023-03-21T21:14:06.600Z"
   },
   {
    "duration": 11,
    "start_time": "2023-03-21T21:14:06.714Z"
   },
   {
    "duration": 22,
    "start_time": "2023-03-21T21:14:06.727Z"
   },
   {
    "duration": 118,
    "start_time": "2023-03-21T21:14:06.752Z"
   },
   {
    "duration": 4,
    "start_time": "2023-03-21T21:14:06.872Z"
   },
   {
    "duration": 46,
    "start_time": "2023-03-21T21:14:06.878Z"
   },
   {
    "duration": 109,
    "start_time": "2023-03-21T21:14:06.935Z"
   },
   {
    "duration": 9,
    "start_time": "2023-03-21T21:14:07.046Z"
   },
   {
    "duration": 19,
    "start_time": "2023-03-21T21:14:07.056Z"
   },
   {
    "duration": 19,
    "start_time": "2023-03-21T21:14:07.076Z"
   },
   {
    "duration": 33,
    "start_time": "2023-03-21T21:14:07.096Z"
   },
   {
    "duration": 16,
    "start_time": "2023-03-21T21:14:07.131Z"
   },
   {
    "duration": 30,
    "start_time": "2023-03-21T21:14:07.149Z"
   },
   {
    "duration": 19,
    "start_time": "2023-03-21T21:14:07.180Z"
   },
   {
    "duration": 28,
    "start_time": "2023-03-21T21:14:07.201Z"
   },
   {
    "duration": 27,
    "start_time": "2023-03-21T21:14:07.235Z"
   },
   {
    "duration": 16,
    "start_time": "2023-03-21T21:14:07.264Z"
   },
   {
    "duration": 10,
    "start_time": "2023-03-21T21:14:07.282Z"
   },
   {
    "duration": 15,
    "start_time": "2023-03-21T21:14:07.294Z"
   },
   {
    "duration": 28,
    "start_time": "2023-03-21T21:14:07.311Z"
   }
  ],
  "kernelspec": {
   "display_name": "Python 3",
   "language": "python",
   "name": "python3"
  },
  "language_info": {
   "codemirror_mode": {
    "name": "ipython",
    "version": 3
   },
   "file_extension": ".py",
   "mimetype": "text/x-python",
   "name": "python",
   "nbconvert_exporter": "python",
   "pygments_lexer": "ipython3",
   "version": "3.10.2 (v3.10.2:a58ebcc701, Jan 13 2022, 14:50:16) [Clang 13.0.0 (clang-1300.0.29.30)]"
  },
  "toc": {
   "base_numbering": 1,
   "nav_menu": {},
   "number_sections": true,
   "sideBar": true,
   "skip_h1_title": true,
   "title_cell": "Table of Contents",
   "title_sidebar": "Contents",
   "toc_cell": true,
   "toc_position": {
    "height": "calc(100% - 180px)",
    "left": "10px",
    "top": "150px",
    "width": "224px"
   },
   "toc_section_display": true,
   "toc_window_display": true
  },
  "vscode": {
   "interpreter": {
    "hash": "aee8b7b246df8f9039afb4144a1f6fd8d2ca17a180786b69acc140d282b71a49"
   }
  }
 },
 "nbformat": 4,
 "nbformat_minor": 5
}
